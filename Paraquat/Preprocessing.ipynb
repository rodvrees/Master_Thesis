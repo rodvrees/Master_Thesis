{
 "cells": [
  {
   "cell_type": "code",
   "execution_count": 53,
   "metadata": {},
   "outputs": [],
   "source": [
    "import os\n",
    "import pandas as pd"
   ]
  },
  {
   "cell_type": "code",
   "execution_count": 54,
   "metadata": {},
   "outputs": [],
   "source": [
    "dirlist = os.listdir(\"/home/robbe/ionbot/Paraquat/data\")"
   ]
  },
  {
   "cell_type": "code",
   "execution_count": 55,
   "metadata": {},
   "outputs": [
    {
     "data": {
      "text/plain": [
       "['PQ_HT_Block5.csv',\n",
       " 'PQ_HT_Block2.csv',\n",
       " 'PQ_Heart_Block2.csv',\n",
       " 'PQ_Heart_Block4.csv',\n",
       " 'PQ_Heart_Block6.csv',\n",
       " 'PQ_HT_Block4.csv',\n",
       " 'PQ_Heart_Block1.csv',\n",
       " 'PQ_Lungs_Block2.csv',\n",
       " 'PQ_HT_Block1.csv',\n",
       " 'PQ_Lungs_Block5.csv',\n",
       " 'PQ_Lungs_Block4.csv',\n",
       " 'PQ_Lungs_Block6.csv',\n",
       " 'PQ_HT_Block3.csv',\n",
       " 'PQ_Heart_Block3.csv',\n",
       " 'PQ_Heart_Block5.csv',\n",
       " 'PQ_Lungs_Block3.csv',\n",
       " 'PQ_Lungs_Block1.csv']"
      ]
     },
     "execution_count": 55,
     "metadata": {},
     "output_type": "execute_result"
    }
   ],
   "source": [
    "dirlist"
   ]
  },
  {
   "cell_type": "code",
   "execution_count": 56,
   "metadata": {},
   "outputs": [],
   "source": [
    "#q-value filter and contaminant filter and also filter PSMs with 0 TMT-intensity values\n",
    "for i in dirlist:\n",
    "    if \".csv\" in i:\n",
    "        d = pd.read_csv(\"./data/\"+i)\n",
    "        d = d[d[\"q-value\"] < 0.01]\n",
    "        d = d[~d[\"proteins\"].str.contains(\"sp|\", regex=False, na=False)]\n",
    "        d = d[(d[\"ri_126.1277\"] != 0) & (d[\"ri_127.1248\"] != 0) & (d[\"ri_127.1311\"] != 0) & (d[\"ri_128.1281\"] != 0) & (d[\"ri_128.1344\"] != 0) & (d[\"ri_129.1315\"] != 0) & (d[\"ri_129.1378\"] != 0) & (d[\"ri_130.1348\"] != 0) & (d[\"ri_130.1411\"] != 0) & (d[\"ri_131.1382\"] != 0)]\n",
    "        d.to_csv(i)"
   ]
  },
  {
   "cell_type": "code",
   "execution_count": null,
   "metadata": {},
   "outputs": [],
   "source": []
  },
  {
   "cell_type": "code",
   "execution_count": null,
   "metadata": {},
   "outputs": [],
   "source": []
  }
 ],
 "metadata": {
  "kernelspec": {
   "display_name": "base",
   "language": "python",
   "name": "python3"
  },
  "language_info": {
   "codemirror_mode": {
    "name": "ipython",
    "version": 3
   },
   "file_extension": ".py",
   "mimetype": "text/x-python",
   "name": "python",
   "nbconvert_exporter": "python",
   "pygments_lexer": "ipython3",
   "version": "3.9.10"
  },
  "orig_nbformat": 4
 },
 "nbformat": 4,
 "nbformat_minor": 2
}
