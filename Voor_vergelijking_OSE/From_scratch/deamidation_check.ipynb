{
 "cells": [
  {
   "cell_type": "code",
   "execution_count": 1,
   "metadata": {},
   "outputs": [],
   "source": [
    "import pandas as pd\n",
    "import seaborn as sns"
   ]
  },
  {
   "cell_type": "code",
   "execution_count": 2,
   "metadata": {},
   "outputs": [
    {
     "name": "stderr",
     "output_type": "stream",
     "text": [
      "/tmp/ipykernel_3365799/2436177615.py:1: DtypeWarning: Columns (6,9,10,13,14,16,17,18,19,20,22,27,28,29,30,31,32,34,35,36) have mixed types. Specify dtype option on import or set low_memory=False.\n",
      "  data = pd.read_csv(\"/home/robbe/ionbot/Voor_vergelijking_OSE/From_scratch/PXD002516_formatted_2.tsv\", sep=\"\\t\")\n"
     ]
    }
   ],
   "source": [
    "data = pd.read_csv(\"/home/robbe/ionbot/Voor_vergelijking_OSE/From_scratch/PXD002516_formatted_2.tsv\", sep=\"\\t\")"
   ]
  },
  {
   "attachments": {},
   "cell_type": "markdown",
   "metadata": {},
   "source": [
    "# Again"
   ]
  },
  {
   "cell_type": "code",
   "execution_count": 3,
   "metadata": {},
   "outputs": [],
   "source": [
    "data = data[(data[\"Comet Raw Sequence\"] == data[\"ionbot Sequence\"])]"
   ]
  },
  {
   "cell_type": "code",
   "execution_count": 4,
   "metadata": {},
   "outputs": [],
   "source": [
    "deamidatediff2 = data[(data[\"Comet Raw Sequence\"] == data[\"ionbot Sequence\"]) & (((data[\"comet_mods_formatted\"] == \"['deamidated']\") & (data[\"ionbot_mods_formatted\"].isna())) | ((data[\"comet_mods_formatted\"].isna()) & (data[\"ionbot_mods_formatted\"] == \"['deamidated']\")))].index"
   ]
  },
  {
   "cell_type": "code",
   "execution_count": 5,
   "metadata": {},
   "outputs": [
    {
     "data": {
      "text/plain": [
       "Int64Index([    52,   2274,   2484,   2523,   2561,   2562,   2599,   2767,\n",
       "              2800,   2916,\n",
       "            ...\n",
       "            331924, 332254, 334192, 334300, 334586, 336078, 336661, 336787,\n",
       "            337152, 339145],\n",
       "           dtype='int64', length=1157)"
      ]
     },
     "execution_count": 5,
     "metadata": {},
     "output_type": "execute_result"
    }
   ],
   "source": [
    "deamidatediff2"
   ]
  },
  {
   "cell_type": "code",
   "execution_count": 6,
   "metadata": {},
   "outputs": [],
   "source": [
    "data[\"Deamidation ambiguity\"] = \"Remove\"\n",
    "data.loc[deamidatediff2, \"Deamidation ambiguity\"] = True\n",
    "data.loc[(data[\"ionbot_mods_formatted\"].isna() & data[\"comet_mods_formatted\"].isna()), \"Deamidation ambiguity\"] = False"
   ]
  },
  {
   "cell_type": "code",
   "execution_count": 7,
   "metadata": {},
   "outputs": [],
   "source": [
    "data = data[data[\"Deamidation ambiguity\"] != \"Remove\"]"
   ]
  },
  {
   "cell_type": "code",
   "execution_count": 8,
   "metadata": {},
   "outputs": [
    {
     "data": {
      "text/html": [
       "<div>\n",
       "<style scoped>\n",
       "    .dataframe tbody tr th:only-of-type {\n",
       "        vertical-align: middle;\n",
       "    }\n",
       "\n",
       "    .dataframe tbody tr th {\n",
       "        vertical-align: top;\n",
       "    }\n",
       "\n",
       "    .dataframe thead th {\n",
       "        text-align: right;\n",
       "    }\n",
       "</style>\n",
       "<table border=\"1\" class=\"dataframe\">\n",
       "  <thead>\n",
       "    <tr style=\"text-align: right;\">\n",
       "      <th></th>\n",
       "      <th>Unnamed: 0.1</th>\n",
       "      <th>Unnamed: 0</th>\n",
       "      <th>Spectrum File</th>\n",
       "      <th>Scan</th>\n",
       "      <th>charge</th>\n",
       "      <th>precursor_mass</th>\n",
       "      <th>ionbot Sequence</th>\n",
       "      <th>ionbot peptide mass</th>\n",
       "      <th>comet peptide mass</th>\n",
       "      <th>ionbot modifications</th>\n",
       "      <th>...</th>\n",
       "      <th>comet proteins</th>\n",
       "      <th>fragger proteins</th>\n",
       "      <th>pfind proteins</th>\n",
       "      <th>Comet Raw Sequence</th>\n",
       "      <th>ionbot_mods_formatted</th>\n",
       "      <th>all_fragger_mods</th>\n",
       "      <th>fragger_mods_formatted</th>\n",
       "      <th>pfind_mods_formatted</th>\n",
       "      <th>comet_mods_formatted</th>\n",
       "      <th>Deamidation ambiguity</th>\n",
       "    </tr>\n",
       "  </thead>\n",
       "  <tbody>\n",
       "    <tr>\n",
       "      <th>13</th>\n",
       "      <td>13</td>\n",
       "      <td>13</td>\n",
       "      <td>131023_Sunil_PPT_Brain_A_01</td>\n",
       "      <td>10248.0</td>\n",
       "      <td>2.0</td>\n",
       "      <td>1318.69468</td>\n",
       "      <td>IMNTFSVVPSPK</td>\n",
       "      <td>1318.69549</td>\n",
       "      <td>1318.6955</td>\n",
       "      <td>NaN</td>\n",
       "      <td>...</td>\n",
       "      <td>sp|P68371|TBB4B_HUMAN</td>\n",
       "      <td>sp|P04350|TBB4A_HUMAN</td>\n",
       "      <td>sp|P68371|TBB4B_HUMAN/sp|Q13509|TBB3_HUMAN/sp|...</td>\n",
       "      <td>IMNTFSVVPSPK</td>\n",
       "      <td>NaN</td>\n",
       "      <td>nan#nan</td>\n",
       "      <td>NaN</td>\n",
       "      <td>NaN</td>\n",
       "      <td>NaN</td>\n",
       "      <td>False</td>\n",
       "    </tr>\n",
       "    <tr>\n",
       "      <th>17</th>\n",
       "      <td>17</td>\n",
       "      <td>17</td>\n",
       "      <td>131023_Sunil_PPT_Brain_A_01</td>\n",
       "      <td>10287.0</td>\n",
       "      <td>2.0</td>\n",
       "      <td>1162.62217</td>\n",
       "      <td>LVNELTEFAK</td>\n",
       "      <td>1162.62337</td>\n",
       "      <td>1162.6234</td>\n",
       "      <td>NaN</td>\n",
       "      <td>...</td>\n",
       "      <td>sp|ALBU_BOVIN|</td>\n",
       "      <td>contam_sp|P02769|ALBU_BOVIN</td>\n",
       "      <td>sp|ALBU_BOVIN|/</td>\n",
       "      <td>LVNELTEFAK</td>\n",
       "      <td>NaN</td>\n",
       "      <td>nan#nan</td>\n",
       "      <td>NaN</td>\n",
       "      <td>NaN</td>\n",
       "      <td>NaN</td>\n",
       "      <td>False</td>\n",
       "    </tr>\n",
       "    <tr>\n",
       "      <th>22</th>\n",
       "      <td>22</td>\n",
       "      <td>22</td>\n",
       "      <td>131023_Sunil_PPT_Brain_A_01</td>\n",
       "      <td>10406.0</td>\n",
       "      <td>3.0</td>\n",
       "      <td>1459.70806</td>\n",
       "      <td>TQDENPVVHFFK</td>\n",
       "      <td>1459.70957</td>\n",
       "      <td>1459.7096</td>\n",
       "      <td>NaN</td>\n",
       "      <td>...</td>\n",
       "      <td>sp|P02686|MBP_HUMAN</td>\n",
       "      <td>sp|P02686|MBP_HUMAN</td>\n",
       "      <td>sp|P02686|MBP_HUMAN/</td>\n",
       "      <td>TQDENPVVHFFK</td>\n",
       "      <td>NaN</td>\n",
       "      <td>nan#nan</td>\n",
       "      <td>NaN</td>\n",
       "      <td>NaN</td>\n",
       "      <td>NaN</td>\n",
       "      <td>False</td>\n",
       "    </tr>\n",
       "    <tr>\n",
       "      <th>29</th>\n",
       "      <td>29</td>\n",
       "      <td>29</td>\n",
       "      <td>131023_Sunil_PPT_Brain_A_01</td>\n",
       "      <td>10506.0</td>\n",
       "      <td>3.0</td>\n",
       "      <td>1459.70852</td>\n",
       "      <td>TQDENPVVHFFK</td>\n",
       "      <td>1459.70957</td>\n",
       "      <td>1459.7096</td>\n",
       "      <td>NaN</td>\n",
       "      <td>...</td>\n",
       "      <td>sp|P02686|MBP_HUMAN</td>\n",
       "      <td>sp|P02686|MBP_HUMAN</td>\n",
       "      <td>sp|P02686|MBP_HUMAN/</td>\n",
       "      <td>TQDENPVVHFFK</td>\n",
       "      <td>NaN</td>\n",
       "      <td>nan#nan</td>\n",
       "      <td>NaN</td>\n",
       "      <td>NaN</td>\n",
       "      <td>NaN</td>\n",
       "      <td>False</td>\n",
       "    </tr>\n",
       "    <tr>\n",
       "      <th>30</th>\n",
       "      <td>30</td>\n",
       "      <td>30</td>\n",
       "      <td>131023_Sunil_PPT_Brain_A_01</td>\n",
       "      <td>10509.0</td>\n",
       "      <td>2.0</td>\n",
       "      <td>2162.04807</td>\n",
       "      <td>LGEDNINVVEGNEQFISASK</td>\n",
       "      <td>2162.04911</td>\n",
       "      <td>2162.0491</td>\n",
       "      <td>NaN</td>\n",
       "      <td>...</td>\n",
       "      <td>sp|TRY1_BOVIN|</td>\n",
       "      <td>contam_sp|P00760|TRY1_BOVIN</td>\n",
       "      <td>sp|TRY1_BOVIN|/</td>\n",
       "      <td>LGEDNINVVEGNEQFISASK</td>\n",
       "      <td>NaN</td>\n",
       "      <td>nan#nan</td>\n",
       "      <td>NaN</td>\n",
       "      <td>NaN</td>\n",
       "      <td>NaN</td>\n",
       "      <td>False</td>\n",
       "    </tr>\n",
       "    <tr>\n",
       "      <th>...</th>\n",
       "      <td>...</td>\n",
       "      <td>...</td>\n",
       "      <td>...</td>\n",
       "      <td>...</td>\n",
       "      <td>...</td>\n",
       "      <td>...</td>\n",
       "      <td>...</td>\n",
       "      <td>...</td>\n",
       "      <td>...</td>\n",
       "      <td>...</td>\n",
       "      <td>...</td>\n",
       "      <td>...</td>\n",
       "      <td>...</td>\n",
       "      <td>...</td>\n",
       "      <td>...</td>\n",
       "      <td>...</td>\n",
       "      <td>...</td>\n",
       "      <td>...</td>\n",
       "      <td>...</td>\n",
       "      <td>...</td>\n",
       "      <td>...</td>\n",
       "    </tr>\n",
       "    <tr>\n",
       "      <th>341538</th>\n",
       "      <td>341538</td>\n",
       "      <td>341538</td>\n",
       "      <td>131121_Sunil_Prot_BrainAmine_AProfile_26</td>\n",
       "      <td>9743.0</td>\n",
       "      <td>2.0</td>\n",
       "      <td>1767.77732</td>\n",
       "      <td>DNENVVNEYSSELEK</td>\n",
       "      <td>1767.77987</td>\n",
       "      <td>1767.7799</td>\n",
       "      <td>NaN</td>\n",
       "      <td>...</td>\n",
       "      <td>sp|P02675|FIBB_HUMAN</td>\n",
       "      <td>sp|P02675|FIBB_HUMAN</td>\n",
       "      <td>sp|P02675|FIBB_HUMAN/</td>\n",
       "      <td>DNENVVNEYSSELEK</td>\n",
       "      <td>NaN</td>\n",
       "      <td>nan#nan</td>\n",
       "      <td>NaN</td>\n",
       "      <td>NaN</td>\n",
       "      <td>NaN</td>\n",
       "      <td>False</td>\n",
       "    </tr>\n",
       "    <tr>\n",
       "      <th>341539</th>\n",
       "      <td>341539</td>\n",
       "      <td>341539</td>\n",
       "      <td>131121_Sunil_Prot_BrainAmine_AProfile_26</td>\n",
       "      <td>9747.0</td>\n",
       "      <td>2.0</td>\n",
       "      <td>1214.62388</td>\n",
       "      <td>DNLAQDLATVR</td>\n",
       "      <td>1214.62548</td>\n",
       "      <td>1214.6255</td>\n",
       "      <td>NaN</td>\n",
       "      <td>...</td>\n",
       "      <td>sp|P14136|GFAP_HUMAN</td>\n",
       "      <td>sp|P14136|GFAP_HUMAN</td>\n",
       "      <td>sp|P14136|GFAP_HUMAN/</td>\n",
       "      <td>DNLAQDLATVR</td>\n",
       "      <td>NaN</td>\n",
       "      <td>nan#nan</td>\n",
       "      <td>NaN</td>\n",
       "      <td>NaN</td>\n",
       "      <td>NaN</td>\n",
       "      <td>False</td>\n",
       "    </tr>\n",
       "    <tr>\n",
       "      <th>341542</th>\n",
       "      <td>341542</td>\n",
       "      <td>341542</td>\n",
       "      <td>131121_Sunil_Prot_BrainAmine_AProfile_26</td>\n",
       "      <td>9777.0</td>\n",
       "      <td>3.0</td>\n",
       "      <td>1466.83453</td>\n",
       "      <td>RHPDYSVVLLLR</td>\n",
       "      <td>1466.83572</td>\n",
       "      <td>1466.8358</td>\n",
       "      <td>NaN</td>\n",
       "      <td>...</td>\n",
       "      <td>sp|P02768|ALBU_HUMAN</td>\n",
       "      <td>sp|P02768|ALBU_HUMAN</td>\n",
       "      <td>NaN</td>\n",
       "      <td>RHPDYSVVLLLR</td>\n",
       "      <td>NaN</td>\n",
       "      <td>nan#nan</td>\n",
       "      <td>NaN</td>\n",
       "      <td>NaN</td>\n",
       "      <td>NaN</td>\n",
       "      <td>False</td>\n",
       "    </tr>\n",
       "    <tr>\n",
       "      <th>341547</th>\n",
       "      <td>341547</td>\n",
       "      <td>341547</td>\n",
       "      <td>131121_Sunil_Prot_BrainAmine_AProfile_26</td>\n",
       "      <td>9836.0</td>\n",
       "      <td>3.0</td>\n",
       "      <td>1814.84242</td>\n",
       "      <td>DSGRDYVSQFEGSALGK</td>\n",
       "      <td>1814.84346</td>\n",
       "      <td>1814.8435</td>\n",
       "      <td>NaN</td>\n",
       "      <td>...</td>\n",
       "      <td>sp|P02647|APOA1_HUMAN</td>\n",
       "      <td>sp|P02647|APOA1_HUMAN</td>\n",
       "      <td>sp|P02647|APOA1_HUMAN/</td>\n",
       "      <td>DSGRDYVSQFEGSALGK</td>\n",
       "      <td>NaN</td>\n",
       "      <td>nan#nan</td>\n",
       "      <td>NaN</td>\n",
       "      <td>NaN</td>\n",
       "      <td>NaN</td>\n",
       "      <td>False</td>\n",
       "    </tr>\n",
       "    <tr>\n",
       "      <th>341558</th>\n",
       "      <td>341558</td>\n",
       "      <td>341558</td>\n",
       "      <td>131121_Sunil_Prot_BrainAmine_AProfile_26</td>\n",
       "      <td>9997.0</td>\n",
       "      <td>3.0</td>\n",
       "      <td>1466.83480</td>\n",
       "      <td>RHPDYSVVLLLR</td>\n",
       "      <td>1466.83572</td>\n",
       "      <td>1466.8358</td>\n",
       "      <td>NaN</td>\n",
       "      <td>...</td>\n",
       "      <td>sp|P02768|ALBU_HUMAN</td>\n",
       "      <td>sp|P02768|ALBU_HUMAN</td>\n",
       "      <td>sp|P02768|ALBU_HUMAN/sp|ALBU_HUMAN|/</td>\n",
       "      <td>RHPDYSVVLLLR</td>\n",
       "      <td>NaN</td>\n",
       "      <td>nan#nan</td>\n",
       "      <td>NaN</td>\n",
       "      <td>NaN</td>\n",
       "      <td>NaN</td>\n",
       "      <td>False</td>\n",
       "    </tr>\n",
       "  </tbody>\n",
       "</table>\n",
       "<p>96351 rows × 38 columns</p>\n",
       "</div>"
      ],
      "text/plain": [
       "        Unnamed: 0.1  Unnamed: 0                             Spectrum File  \\\n",
       "13                13          13               131023_Sunil_PPT_Brain_A_01   \n",
       "17                17          17               131023_Sunil_PPT_Brain_A_01   \n",
       "22                22          22               131023_Sunil_PPT_Brain_A_01   \n",
       "29                29          29               131023_Sunil_PPT_Brain_A_01   \n",
       "30                30          30               131023_Sunil_PPT_Brain_A_01   \n",
       "...              ...         ...                                       ...   \n",
       "341538        341538      341538  131121_Sunil_Prot_BrainAmine_AProfile_26   \n",
       "341539        341539      341539  131121_Sunil_Prot_BrainAmine_AProfile_26   \n",
       "341542        341542      341542  131121_Sunil_Prot_BrainAmine_AProfile_26   \n",
       "341547        341547      341547  131121_Sunil_Prot_BrainAmine_AProfile_26   \n",
       "341558        341558      341558  131121_Sunil_Prot_BrainAmine_AProfile_26   \n",
       "\n",
       "           Scan  charge  precursor_mass       ionbot Sequence  \\\n",
       "13      10248.0     2.0      1318.69468          IMNTFSVVPSPK   \n",
       "17      10287.0     2.0      1162.62217            LVNELTEFAK   \n",
       "22      10406.0     3.0      1459.70806          TQDENPVVHFFK   \n",
       "29      10506.0     3.0      1459.70852          TQDENPVVHFFK   \n",
       "30      10509.0     2.0      2162.04807  LGEDNINVVEGNEQFISASK   \n",
       "...         ...     ...             ...                   ...   \n",
       "341538   9743.0     2.0      1767.77732       DNENVVNEYSSELEK   \n",
       "341539   9747.0     2.0      1214.62388           DNLAQDLATVR   \n",
       "341542   9777.0     3.0      1466.83453          RHPDYSVVLLLR   \n",
       "341547   9836.0     3.0      1814.84242     DSGRDYVSQFEGSALGK   \n",
       "341558   9997.0     3.0      1466.83480          RHPDYSVVLLLR   \n",
       "\n",
       "        ionbot peptide mass  comet peptide mass ionbot modifications  ...  \\\n",
       "13               1318.69549           1318.6955                  NaN  ...   \n",
       "17               1162.62337           1162.6234                  NaN  ...   \n",
       "22               1459.70957           1459.7096                  NaN  ...   \n",
       "29               1459.70957           1459.7096                  NaN  ...   \n",
       "30               2162.04911           2162.0491                  NaN  ...   \n",
       "...                     ...                 ...                  ...  ...   \n",
       "341538           1767.77987           1767.7799                  NaN  ...   \n",
       "341539           1214.62548           1214.6255                  NaN  ...   \n",
       "341542           1466.83572           1466.8358                  NaN  ...   \n",
       "341547           1814.84346           1814.8435                  NaN  ...   \n",
       "341558           1466.83572           1466.8358                  NaN  ...   \n",
       "\n",
       "               comet proteins             fragger proteins  \\\n",
       "13      sp|P68371|TBB4B_HUMAN        sp|P04350|TBB4A_HUMAN   \n",
       "17             sp|ALBU_BOVIN|  contam_sp|P02769|ALBU_BOVIN   \n",
       "22        sp|P02686|MBP_HUMAN          sp|P02686|MBP_HUMAN   \n",
       "29        sp|P02686|MBP_HUMAN          sp|P02686|MBP_HUMAN   \n",
       "30             sp|TRY1_BOVIN|  contam_sp|P00760|TRY1_BOVIN   \n",
       "...                       ...                          ...   \n",
       "341538   sp|P02675|FIBB_HUMAN         sp|P02675|FIBB_HUMAN   \n",
       "341539   sp|P14136|GFAP_HUMAN         sp|P14136|GFAP_HUMAN   \n",
       "341542   sp|P02768|ALBU_HUMAN         sp|P02768|ALBU_HUMAN   \n",
       "341547  sp|P02647|APOA1_HUMAN        sp|P02647|APOA1_HUMAN   \n",
       "341558   sp|P02768|ALBU_HUMAN         sp|P02768|ALBU_HUMAN   \n",
       "\n",
       "                                           pfind proteins  \\\n",
       "13      sp|P68371|TBB4B_HUMAN/sp|Q13509|TBB3_HUMAN/sp|...   \n",
       "17                                        sp|ALBU_BOVIN|/   \n",
       "22                                   sp|P02686|MBP_HUMAN/   \n",
       "29                                   sp|P02686|MBP_HUMAN/   \n",
       "30                                        sp|TRY1_BOVIN|/   \n",
       "...                                                   ...   \n",
       "341538                              sp|P02675|FIBB_HUMAN/   \n",
       "341539                              sp|P14136|GFAP_HUMAN/   \n",
       "341542                                                NaN   \n",
       "341547                             sp|P02647|APOA1_HUMAN/   \n",
       "341558               sp|P02768|ALBU_HUMAN/sp|ALBU_HUMAN|/   \n",
       "\n",
       "          Comet Raw Sequence ionbot_mods_formatted  all_fragger_mods  \\\n",
       "13              IMNTFSVVPSPK                   NaN           nan#nan   \n",
       "17                LVNELTEFAK                   NaN           nan#nan   \n",
       "22              TQDENPVVHFFK                   NaN           nan#nan   \n",
       "29              TQDENPVVHFFK                   NaN           nan#nan   \n",
       "30      LGEDNINVVEGNEQFISASK                   NaN           nan#nan   \n",
       "...                      ...                   ...               ...   \n",
       "341538       DNENVVNEYSSELEK                   NaN           nan#nan   \n",
       "341539           DNLAQDLATVR                   NaN           nan#nan   \n",
       "341542          RHPDYSVVLLLR                   NaN           nan#nan   \n",
       "341547     DSGRDYVSQFEGSALGK                   NaN           nan#nan   \n",
       "341558          RHPDYSVVLLLR                   NaN           nan#nan   \n",
       "\n",
       "       fragger_mods_formatted pfind_mods_formatted comet_mods_formatted  \\\n",
       "13                        NaN                  NaN                  NaN   \n",
       "17                        NaN                  NaN                  NaN   \n",
       "22                        NaN                  NaN                  NaN   \n",
       "29                        NaN                  NaN                  NaN   \n",
       "30                        NaN                  NaN                  NaN   \n",
       "...                       ...                  ...                  ...   \n",
       "341538                    NaN                  NaN                  NaN   \n",
       "341539                    NaN                  NaN                  NaN   \n",
       "341542                    NaN                  NaN                  NaN   \n",
       "341547                    NaN                  NaN                  NaN   \n",
       "341558                    NaN                  NaN                  NaN   \n",
       "\n",
       "       Deamidation ambiguity  \n",
       "13                     False  \n",
       "17                     False  \n",
       "22                     False  \n",
       "29                     False  \n",
       "30                     False  \n",
       "...                      ...  \n",
       "341538                 False  \n",
       "341539                 False  \n",
       "341542                 False  \n",
       "341547                 False  \n",
       "341558                 False  \n",
       "\n",
       "[96351 rows x 38 columns]"
      ]
     },
     "execution_count": 8,
     "metadata": {},
     "output_type": "execute_result"
    }
   ],
   "source": [
    "data"
   ]
  },
  {
   "cell_type": "code",
   "execution_count": 9,
   "metadata": {},
   "outputs": [
    {
     "data": {
      "text/plain": [
       "(1157, 38)"
      ]
     },
     "execution_count": 9,
     "metadata": {},
     "output_type": "execute_result"
    }
   ],
   "source": [
    "data[data[\"Deamidation ambiguity\"] == True].shape"
   ]
  },
  {
   "cell_type": "code",
   "execution_count": 10,
   "metadata": {},
   "outputs": [
    {
     "data": {
      "text/plain": [
       "<Axes: xlabel='precursor_mass', ylabel='Density'>"
      ]
     },
     "execution_count": 10,
     "metadata": {},
     "output_type": "execute_result"
    },
    {
     "data": {
      "image/png": "[encoded data removed]",
      "text/plain": [
       "<Figure size 432x288 with 1 Axes>"
      ]
     },
     "metadata": {
      "needs_background": "light"
     },
     "output_type": "display_data"
    }
   ],
   "source": [
    "sns.kdeplot(data=data, x =\"precursor_mass\", hue=\"Deamidation ambiguity\", common_norm=False, fill=True)"
   ]
  },
  {
   "cell_type": "code",
   "execution_count": 11,
   "metadata": {},
   "outputs": [
    {
     "data": {
      "text/plain": [
       "MannwhitneyuResult(statistic=19847965.5, pvalue=2.571243046964861e-307)"
      ]
     },
     "execution_count": 11,
     "metadata": {},
     "output_type": "execute_result"
    }
   ],
   "source": [
    "from scipy.stats import mannwhitneyu\n",
    "mannwhitneyu(x=data.loc[data[\"Deamidation ambiguity\"] == False,\"precursor_mass\"], y=data.loc[data[\"Deamidation ambiguity\"] == True, \"precursor_mass\"], alternative=\"less\")"
   ]
  },
  {
   "cell_type": "code",
   "execution_count": 14,
   "metadata": {},
   "outputs": [
    {
     "data": {
      "text/plain": [
       "<Axes: xlabel='charge', ylabel='Density'>"
      ]
     },
     "execution_count": 14,
     "metadata": {},
     "output_type": "execute_result"
    },
    {
     "data": {
      "image/png": "[encoded data removed]",
      "text/plain": [
       "<Figure size 432x288 with 1 Axes>"
      ]
     },
     "metadata": {
      "needs_background": "light"
     },
     "output_type": "display_data"
    }
   ],
   "source": [
    "sns.kdeplot(data=data, x =\"charge\", hue=\"Deamidation ambiguity\", common_norm=False, fill=True)"
   ]
  },
  {
   "cell_type": "code",
   "execution_count": 13,
   "metadata": {},
   "outputs": [
    {
     "data": {
      "text/plain": [
       "MannwhitneyuResult(statistic=43257176.5, pvalue=2.067520828314503e-72)"
      ]
     },
     "execution_count": 13,
     "metadata": {},
     "output_type": "execute_result"
    }
   ],
   "source": [
    "from scipy.stats import mannwhitneyu\n",
    "mannwhitneyu(x=data.loc[data[\"Deamidation ambiguity\"] == False,\"charge\"], y=data.loc[data[\"Deamidation ambiguity\"] == True, \"charge\"], alternative=\"less\")"
   ]
  }
 ],
 "metadata": {
  "kernelspec": {
   "display_name": "base",
   "language": "python",
   "name": "python3"
  },
  "language_info": {
   "codemirror_mode": {
    "name": "ipython",
    "version": 3
   },
   "file_extension": ".py",
   "mimetype": "text/x-python",
   "name": "python",
   "nbconvert_exporter": "python",
   "pygments_lexer": "ipython3",
   "version": "3.9.10"
  },
  "orig_nbformat": 4
 },
 "nbformat": 4,
 "nbformat_minor": 2
}
