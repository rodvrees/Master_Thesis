{
 "cells": [
  {
   "cell_type": "code",
   "execution_count": 29,
   "metadata": {},
   "outputs": [],
   "source": [
    "import pandas as pd"
   ]
  },
  {
   "cell_type": "code",
   "execution_count": 30,
   "metadata": {},
   "outputs": [],
   "source": [
    "i002516 = pd.read_csv(\"/home/robbe/ionbot/Voor_vergelijking_OSE/OBV_lijst/ionbotPXD002516.csv\")\n",
    "i004010 = pd.read_csv(\"/home/robbe/ionbot/Voor_vergelijking_OSE/OBV_lijst/ionbotPXD0040106.csv\")\n",
    "f002516 = pd.read_csv(\"/home/robbe/ionbot/Voor_vergelijking_OSE/OBV_lijst/FragpipePXD002516.tsv\", sep=\"\\t\")\n",
    "f004010 = pd.read_csv(\"/home/robbe/ionbot/Voor_vergelijking_OSE/OBV_lijst/FragpipePXD004010.tsv\", sep=\"\\t\")\n",
    "p002516 = pd.read_csv(\"/home/robbe/ionbot/Voor_vergelijking_OSE/OBV_lijst/pFindPXD002516.csv\", sep=\"\\t\")\n",
    "p004010 = pd.read_csv(\"/home/robbe/ionbot/Voor_vergelijking_OSE/OBV_lijst/pFindPXD004010.tsv\", sep=\"\\t\")\n",
    "# c002516 = pd.read_csv(\"/public/compomics2/Robbe/PXD005216/tabs/PXD002516.tsv\", sep=\"\\t\")\n",
    "# c004010 = pd.read_csv(\"/public/compomics2/Robbe/PXD004010/tabs/PXD004010.tsv\", sep=\"\\t\")\n",
    "# #Only first-ranked hits\n",
    "# c002516 = c002516[c002516[\"hit_rank\"] == 1]\n",
    "# c004010 = c004010[c004010[\"hit_rank\"] == 1]\n",
    "PXD004010perc = pd.read_csv(\"/home/robbe/ionbot/Percolator/PXD004010/percolator.target.psms.txt\", sep=\"\\t\")\n",
    "PXD002516perc = pd.read_csv(\"/home/robbe/ionbot/Percolator/PXD005216/percolator.target.psms.txt\", sep=\"\\t\")\n",
    "#zie percolator log\n",
    "filedict004010 = {0:\"ad_pl01\", 1:\"ad_pl02\", 2:\"ad_pl03\", 3:\"ad_pl04\", 4:\"ad_pl05\", 5:\"ad_pl06\", 6:\"ad_pl07\", 7:\"ad_pl08\", 8:\"ad_pl09\",9:\"ad_pl10\"}\n",
    "filedict002516 = {0:\"131023_Sunil_PPT_Brain_A_01\", 1:\"131023_Sunil_PPT_Brain_A_02\", 2:\"131023_Sunil_PPT_Brain_A_03\", 3:\"131023_Sunil_PPT_Brain_A_04\", 4:\"131023_Sunil_PPT_Brain_A_05\", 5:\"131023_Sunil_PPT_Brain_A_06\", 6:\"131023_Sunil_PPT_Brain_A_07\", 7:\"131023_Sunil_PPT_Brain_A_08\", 8:\"131023_Sunil_PPT_Brain_A_09\", 9:\"131023_Sunil_PPT_Brain_A_10\", 10:\"131023_Sunil_PPT_Brain_A_11\", 11:\"131023_Sunil_PPT_Brain_A_12\",12:\"131023_Sunil_PPT_Brain_A_13\",13:\"131023_Sunil_PPT_Brain_A_14\",14:\"131023_Sunil_PPT_Brain_A_15\",15:\"131023_Sunil_PPT_Brain_A_16\",16:\"131023_Sunil_PPT_Brain_A_17\",17:\"131023_Sunil_PPT_Brain_A_18\",18:\"131023_Sunil_PPT_Brain_A_19\",19:\"131023_Sunil_PPT_Brain_A_20\",20:\"131023_Sunil_PPT_Brain_A_21\",21:\"131023_Sunil_PPT_Brain_A_22\",22:\"131023_Sunil_PPT_Brain_A_23\",23:\"131023_Sunil_PPT_Brain_A_24\",24:\"131023_Sunil_PPT_Brain_A_25\",25:\"131023_Sunil_PPT_Brain_A_26\",26:\"131113_Sunil_PPT_Brain_A_01\",27:\"131113_Sunil_PPT_Brain_A_02\",28:\"131113_Sunil_PPT_Brain_A_03\",29:\"131113_Sunil_PPT_Brain_A_04\",30:\"131113_Sunil_PPT_Brain_A_05\",31:\"131113_Sunil_PPT_Brain_A_06\",32:\"131113_Sunil_PPT_Brain_A_07\",33:\"131113_Sunil_PPT_Brain_A_08\",\n",
    "34:\"131113_Sunil_PPT_Brain_A_09\", 35:\"131113_Sunil_PPT_Brain_A_10\", 36:\"131113_Sunil_PPT_Brain_A_11\", 37:\"131113_Sunil_PPT_Brain_A_12\", 38:\"131113_Sunil_PPT_Brain_A_13\", 39:\"131113_Sunil_PPT_Brain_A_14\", 40:\"131113_Sunil_PPT_Brain_A_15\", 41:\"131113_Sunil_PPT_Brain_A_16\", 42:\"131113_Sunil_PPT_Brain_A_17\", 43:\"131113_Sunil_PPT_Brain_A_18\", 44:\"131113_Sunil_PPT_Brain_A_19\", 45:\"131113_Sunil_PPT_Brain_A_20\", 46:\"131113_Sunil_PPT_Brain_A_21\", 47:\"131113_Sunil_PPT_Brain_A_22\", 48:\"131113_Sunil_PPT_Brain_A_23\", 49:\"131113_Sunil_PPT_Brain_A_24\", 50:\"131113_Sunil_PPT_Brain_A_25\", 51:\"131113_Sunil_PPT_Brain_A_26\", 52:\"131119_Sunil_Prot_BrainAmine_ACentroid_01\", 53:\"131119_Sunil_Prot_BrainAmine_ACentroid_02\", 54:\"131119_Sunil_Prot_BrainAmine_ACentroid_03\", 55:\"131119_Sunil_Prot_BrainAmine_ACentroid_04\", 56:\"131119_Sunil_Prot_BrainAmine_ACentroid_05\", 57:\"131119_Sunil_Prot_BrainAmine_ACentroid_06\", 58:\"131119_Sunil_Prot_BrainAmine_ACentroid_07\", 59:\"131119_Sunil_Prot_BrainAmine_ACentroid_08\", 60:\"131119_Sunil_Prot_BrainAmine_ACentroid_09\", 61:\"131119_Sunil_Prot_BrainAmine_ACentroid_10\", 62:\"131119_Sunil_Prot_BrainAmine_ACentroid_11\",\n",
    "63:\"131119_Sunil_Prot_BrainAmine_ACentroid_12\", 64:\"131119_Sunil_Prot_BrainAmine_ACentroid_13\", 65:\"131119_Sunil_Prot_BrainAmine_ACentroid_14\", 66:\"131119_Sunil_Prot_BrainAmine_ACentroid_15\", 67:\"131119_Sunil_Prot_BrainAmine_ACentroid_16\", 68:\"131119_Sunil_Prot_BrainAmine_ACentroid_17\", 69:\"131119_Sunil_Prot_BrainAmine_ACentroid_18\", 70:\"131119_Sunil_Prot_BrainAmine_ACentroid_19\", 71:\"131119_Sunil_Prot_BrainAmine_ACentroid_20\", 72:\"131119_Sunil_Prot_BrainAmine_ACentroid_21\", 73:\"131119_Sunil_Prot_BrainAmine_ACentroid_22\", 74:\"131119_Sunil_Prot_BrainAmine_ACentroid_23\", 75:\"131119_Sunil_Prot_BrainAmine_ACentroid_24\", 76:\"131119_Sunil_Prot_BrainAmine_ACentroid_25\", 77:\"131119_Sunil_Prot_BrainAmine_ACentroid_26\", 78:\"131121_Sunil_Prot_BrainAmine_AProfile_01\", 79:\"131121_Sunil_Prot_BrainAmine_AProfile_02\", 80:\"131121_Sunil_Prot_BrainAmine_AProfile_03\", 81:\"131121_Sunil_Prot_BrainAmine_AProfile_04\", 82:\"131121_Sunil_Prot_BrainAmine_AProfile_05\", 83:\"131121_Sunil_Prot_BrainAmine_AProfile_06\", 84:\"131121_Sunil_Prot_BrainAmine_AProfile_07\", 85:\"131121_Sunil_Prot_BrainAmine_AProfile_08\", 86:\"131121_Sunil_Prot_BrainAmine_AProfile_09\",\n",
    "87:\"131121_Sunil_Prot_BrainAmine_AProfile_10\", 88:\"131121_Sunil_Prot_BrainAmine_AProfile_11\", 89:\"131121_Sunil_Prot_BrainAmine_AProfile_12\", 90:\"131121_Sunil_Prot_BrainAmine_AProfile_13\", 91:\"131121_Sunil_Prot_BrainAmine_AProfile_14\", 92:\"131121_Sunil_Prot_BrainAmine_AProfile_15\", 93:\"131121_Sunil_Prot_BrainAmine_AProfile_16\", 94:\"131121_Sunil_Prot_BrainAmine_AProfile_17\", 95:\"131121_Sunil_Prot_BrainAmine_AProfile_18\", 96:\"131121_Sunil_Prot_BrainAmine_AProfile_19\", 97:\"131121_Sunil_Prot_BrainAmine_AProfile_20\", 98:\"131121_Sunil_Prot_BrainAmine_AProfile_21\", 99:\"131121_Sunil_Prot_BrainAmine_AProfile_22\", 100:\"131121_Sunil_Prot_BrainAmine_AProfile_23\", 101:\"131121_Sunil_Prot_BrainAmine_AProfile_24\", 102:\"131121_Sunil_Prot_BrainAmine_AProfile_25\", 103:\"131121_Sunil_Prot_BrainAmine_AProfile_26\"}\n",
    "PXD004010perc[\"file_idx\"].replace(filedict004010, inplace=True) \n",
    "PXD002516perc[\"file_idx\"].replace(filedict002516, inplace=True)"
   ]
  },
  {
   "cell_type": "code",
   "execution_count": 31,
   "metadata": {},
   "outputs": [],
   "source": [
    "p002516[\"PSM rank\"] = p002516[\"File_Name\"].str.split(\".\").str[4]\n",
    "p004010[\"PSM rank\"] = p004010[\"File_Name\"].str.split(\".\").str[4]"
   ]
  },
  {
   "cell_type": "code",
   "execution_count": 32,
   "metadata": {},
   "outputs": [],
   "source": [
    "#First-ranked pFind PSMs\n",
    "p002516fr = p002516[p002516[\"PSM rank\"] == \"0\"]\n",
    "p004010fr = p004010[p004010[\"PSM rank\"] == \"0\"]"
   ]
  },
  {
   "cell_type": "code",
   "execution_count": 33,
   "metadata": {},
   "outputs": [],
   "source": [
    "PXD002516perc = PXD002516perc.drop(PXD002516perc[PXD002516perc[\"percolator q-value\"] > 0.01].index)\n",
    "PXD004010perc = PXD004010perc.drop(PXD004010perc[PXD004010perc[\"percolator q-value\"] > 0.01].index)"
   ]
  },
  {
   "cell_type": "code",
   "execution_count": 34,
   "metadata": {},
   "outputs": [
    {
     "name": "stderr",
     "output_type": "stream",
     "text": [
      "/tmp/ipykernel_1696469/2475561516.py:6: SettingWithCopyWarning: \n",
      "A value is trying to be set on a copy of a slice from a DataFrame.\n",
      "Try using .loc[row_indexer,col_indexer] = value instead\n",
      "\n",
      "See the caveats in the documentation: https://pandas.pydata.org/pandas-docs/stable/user_guide/indexing.html#returning-a-view-versus-a-copy\n",
      "  p002516fr[\"File_Name\"] = p002516fr[\"File_Name\"].str.split(\".\").str[0]\n"
     ]
    }
   ],
   "source": [
    "#Get spectrum file column\n",
    "i002516[\"spectrum_file\"] = i002516[\"spectrum_file\"].str[:-4]\n",
    "i004010[\"spectrum_file\"] = i004010[\"spectrum_file\"].str[:-4]\n",
    "f002516[\"Spectrum File\"] = f002516[\"Spectrum\"].str.split(\".\").str[0]\n",
    "f004010[\"Spectrum File\"] = f004010[\"Spectrum\"].str.split(\".\").str[0]\n",
    "p002516fr[\"File_Name\"] = p002516fr[\"File_Name\"].str.split(\".\").str[0]\n",
    "p004010fr[\"File_Name\"] = p004010fr[\"File_Name\"].str.split(\".\").str[0]\n",
    "# c002516[\"Spectrum File\"] = c002516[\"spectrum\"].str.split(\".\").str[0]\n",
    "# c004010[\"Spectrum File\"] = c004010[\"spectrum\"].str.split(\".\").str[0]"
   ]
  },
  {
   "cell_type": "code",
   "execution_count": 35,
   "metadata": {},
   "outputs": [],
   "source": [
    "#Get Scan column if necessary\n",
    "f002516[\"Scan\"] = f002516[\"Spectrum\"].str.split(\".\").str[1].astype(int)\n",
    "f004010[\"Scan\"] = f004010[\"Spectrum\"].str.split(\".\").str[1].astype(int)"
   ]
  },
  {
   "cell_type": "code",
   "execution_count": 36,
   "metadata": {},
   "outputs": [],
   "source": [
    "if002516 = pd.merge(i002516,f002516,left_on=[\"spectrum_file\", \"scan\"], right_on=[\"Spectrum File\", \"Scan\"], how=\"outer\", suffixes=[\"_ionbot\", \"_fragger\"])\n",
    "if004010 = pd.merge(i004010,f004010,left_on=[\"spectrum_file\", \"scan\"], right_on=[\"Spectrum File\", \"Scan\"], how=\"outer\", suffixes=[\"_ionbot\", \"_fragger\"])"
   ]
  },
  {
   "cell_type": "code",
   "execution_count": 37,
   "metadata": {},
   "outputs": [],
   "source": [
    "ifp002516 = pd.merge(if002516, p002516fr, left_on=[\"spectrum_file\", \"scan\"], right_on=[\"File_Name\", \"Scan_No\"], how=\"outer\", suffixes=[None,\"_pfind\"])\n",
    "ifp004010 = pd.merge(if004010, p004010fr, left_on=[\"spectrum_file\", \"scan\"], right_on=[\"File_Name\", \"Scan_No\"], how=\"outer\", suffixes=[None,\"_pfind\"])"
   ]
  },
  {
   "cell_type": "code",
   "execution_count": 38,
   "metadata": {},
   "outputs": [],
   "source": [
    "ifpc002516 = pd.merge(ifp002516, PXD002516perc, left_on=[\"spectrum_file\", \"scan\"], right_on=[\"file_idx\", \"scan\"], how=\"outer\", suffixes=[None, \"_comet\"])\n",
    "ifpc004010 = pd.merge(ifp004010, PXD004010perc, left_on=[\"spectrum_file\", \"scan\"], right_on=[\"file_idx\", \"scan\"], how=\"outer\", suffixes=[None, \"_comet\"])"
   ]
  },
  {
   "cell_type": "code",
   "execution_count": 39,
   "metadata": {},
   "outputs": [
    {
     "data": {
      "text/plain": [
       "Index(['ionbot_match_id', 'spectrum_title', 'scan', 'spectrum_file',\n",
       "       'precursor_mass', 'peptide_mass', 'observed_retention_time', 'charge',\n",
       "       'database_peptide', 'matched_peptide', 'modifications',\n",
       "       'modifications_delta', 'corrected_retention_time',\n",
       "       'unexpected_modification', 'database', 'psm_score', 'q-value', 'PEP',\n",
       "       'proteins', 'Spectrum', 'Spectrum File', 'Peptide', 'Modified Peptide',\n",
       "       'Prev AA', 'Next AA', 'Peptide Length', 'Charge', 'Retention',\n",
       "       'Observed Mass', 'Calibrated Observed Mass', 'Observed M/Z',\n",
       "       'Calibrated Observed M/Z', 'Calculated Peptide Mass', 'Calculated M/Z',\n",
       "       'Delta Mass', 'Expectation', 'Hyperscore', 'Nextscore',\n",
       "       'PeptideProphet Probability', 'Number of Enzymatic Termini',\n",
       "       'Number of Missed Cleavages', 'Protein Start', 'Protein End',\n",
       "       'Intensity', 'Assigned Modifications', 'Observed Modifications',\n",
       "       'MSFragger Localization', 'Best Score with Delta Mass',\n",
       "       'Best Score without Delta Mass', 'Is Unique', 'Protein', 'Protein ID',\n",
       "       'Entry Name', 'Gene', 'Protein Description', 'Mapped Genes',\n",
       "       'Mapped Proteins', 'Scan', 'File_Name', 'Scan_No', 'Exp.MH+',\n",
       "       'Charge_pfind', 'Q-value', 'Sequence', 'Calc.MH+',\n",
       "       'Mass_Shift(Exp.-Calc.)', 'Raw_Score', 'Final_Score', 'Modification',\n",
       "       'Specificity', 'Proteins', 'Positions', 'Label', 'Target/Decoy',\n",
       "       'Miss.Clv.Sites', 'Avg.Frag.Mass.Shift', 'Others', 'PSM rank',\n",
       "       'file_idx', 'charge_comet', 'spectrum precursor m/z',\n",
       "       'spectrum neutral mass', 'peptide mass', 'percolator score',\n",
       "       'percolator q-value', 'percolator PEP', 'distinct matches/spectrum',\n",
       "       'sequence', 'protein id', 'flanking aa'],\n",
       "      dtype='object')"
      ]
     },
     "execution_count": 39,
     "metadata": {},
     "output_type": "execute_result"
    }
   ],
   "source": [
    "ifpc002516.columns"
   ]
  },
  {
   "cell_type": "code",
   "execution_count": 40,
   "metadata": {},
   "outputs": [],
   "source": [
    "PXD002516 = ifpc002516.filter([\"Spectrum File\", \"Scan\", \"scan\", \"Scan_No\", \"charge\", \"Charge\", \"Charge_pfind\", 'charge_comet', \"precursor_mass\", \"spectrum_file\", \"file_idx\", \"File_Name\", \"matched_peptide\", \"peptide_mass\", \"peptide mass\", \"modifications\", \"unexpected_modification\", \"q-value\", \"PEP\", \"Peptide\",\"Modified Peptide\", \"PeptideProphet Probability\",\"Assigned Modifications\",\"Observed Modifications\",\"MSFragger Localization\", \"Sequence\",\"Modification\",\"Q-value\",\"sequence\",\"percolator q-value\",\"percolator PEP\", \"Calculated Peptide Mass\", \"Calc.MH+\", \"proteins\", \"protein id\", \"Protein\", \"Proteins\"], axis=1)\n",
    "PXD004010 = ifpc004010.filter([\"Spectrum File\", \"Scan\", \"scan\", \"Scan_No\", \"charge\", \"Charge\", \"Charge_pfind\", 'charge_comet', \"precursor_mass\", \"spectrum_file\", \"file_idx\", \"File_Name\", \"matched_peptide\", \"peptide_mass\", \"peptide mass\", \"modifications\", \"unexpected_modification\", \"q-value\", \"PEP\", \"Peptide\",\"Modified Peptide\", \"PeptideProphet Probability\",\"Assigned Modifications\",\"Observed Modifications\",\"MSFragger Localization\", \"Sequence\",\"Modification\",\"Q-value\",\"sequence\",\"percolator q-value\",\"percolator PEP\", \"Calculated Peptide Mass\", \"Calc.MH+\", \"proteins\", \"protein id\", \"Protein\", \"Proteins\"], axis=1)"
   ]
  },
  {
   "cell_type": "code",
   "execution_count": 41,
   "metadata": {},
   "outputs": [],
   "source": [
    "PXD002516 = PXD002516.rename({ \"Charge\":\"MSFragger charge\", \"matched_peptide\" : \"ionbot Sequence\", \"modifications\":\"ionbot modifications\", \"unexpected_modification\":\"ionbot unexpected modifications\", \"q-value\":\"ionbot q-value\", \"PEP\":\"ionbot PEP\", \"Peptide\":\"Fragger Sequence\", \"Modified Peptide\":\"Fragger Modified Sequence\", \"PeptideProphet Probability\":\"Fragger Probability\", \"Assigned Modifications\":\"Fragger modifications\", \"Observed Modifications\":\"Fragger unexpected modifications\", \"Sequence\":\"pFind Sequence\", \"Modification\": \"pFind Modification\", \"Q-value\":\"pFind q-value\", \"sequence\":\"Comet Sequence\", \"percolator q-value\":\"Comet q-value\", \"percolator PEP\":\"Comet PEP\", \"peptide_mass\":\"ionbot peptide mass\", \"peptide mass\":\"comet peptide mass\", \"Calculated Peptide Mass\" : \"MSFragger Peptide Mass\", \"Calc.MH+\" : \"pFind Peptide Mass\", 'proteins':\"ionbot proteins\", \"protein id\":\"comet proteins\",\"Protein\":\"fragger proteins\", \"Proteins\":\"pfind proteins\"}, axis=1)\n",
    "PXD004010 = PXD004010.rename({ \"Charge\":\"MSFragger charge\", \"matched_peptide\" : \"ionbot Sequence\", \"modifications\":\"ionbot modifications\", \"unexpected_modification\":\"ionbot unexpected modifications\", \"q-value\":\"ionbot q-value\", \"PEP\":\"ionbot PEP\", \"Peptide\":\"Fragger Sequence\", \"Modified Peptide\":\"Fragger Modified Sequence\", \"PeptideProphet Probability\":\"Fragger Probability\", \"Assigned Modifications\":\"Fragger modifications\", \"Observed Modifications\":\"Fragger unexpected modifications\", \"Sequence\":\"pFind Sequence\", \"Modification\": \"pFind Modification\", \"Q-value\":\"pFind q-value\", \"sequence\":\"Comet Sequence\", \"percolator q-value\":\"Comet q-value\", \"percolator PEP\":\"Comet PEP\", \"peptide_mass\":\"ionbot peptide mass\", \"peptide mass\":\"comet peptide mass\", \"Calculated Peptide Mass\" : \"MSFragger Peptide Mass\", \"Calc.MH+\" : \"pFind Peptide Mass\", \"proteins\":\"ionbot proteins\", \"protein id\" : \"comet proteins\", \"Protein\": \"fragger proteins\", \"Proteins\":\"pfind proteins\"}, axis=1)"
   ]
  },
  {
   "cell_type": "code",
   "execution_count": 42,
   "metadata": {},
   "outputs": [],
   "source": [
    "PXD002516['charge'].fillna(PXD002516[\"MSFragger charge\"], inplace=True)\n",
    "del PXD002516['MSFragger charge']\n",
    "PXD002516['charge'].fillna(PXD002516[\"Charge_pfind\"], inplace=True)\n",
    "del PXD002516[\"Charge_pfind\"]\n",
    "PXD002516[\"charge\"].fillna(PXD002516['charge_comet'], inplace=True)\n",
    "del PXD002516['charge_comet']\n",
    "PXD004010['charge'].fillna(PXD004010[\"MSFragger charge\"], inplace=True)\n",
    "del PXD004010['MSFragger charge']\n",
    "PXD004010['charge'].fillna(PXD004010[\"Charge_pfind\"], inplace=True)\n",
    "del PXD004010[\"Charge_pfind\"]\n",
    "PXD004010[\"charge\"].fillna(PXD004010['charge_comet'], inplace=True)\n",
    "del PXD004010['charge_comet']"
   ]
  },
  {
   "cell_type": "code",
   "execution_count": 43,
   "metadata": {},
   "outputs": [],
   "source": [
    "PXD002516[\"Scan\"].fillna(PXD002516[\"scan\"], inplace=True)\n",
    "del PXD002516[\"scan\"]\n",
    "PXD002516[\"Scan\"].fillna(PXD002516[\"Scan_No\"], inplace=True)\n",
    "del PXD002516[\"Scan_No\"]\n",
    "PXD004010[\"Scan\"].fillna(PXD004010[\"scan\"], inplace=True)\n",
    "del PXD004010[\"scan\"]\n",
    "PXD004010[\"Scan\"].fillna(PXD004010[\"Scan_No\"], inplace=True)\n",
    "del PXD004010[\"Scan_No\"]"
   ]
  },
  {
   "cell_type": "code",
   "execution_count": 44,
   "metadata": {},
   "outputs": [],
   "source": [
    "PXD002516[\"Spectrum File\"].fillna(PXD002516[\"spectrum_file\"], inplace=True)\n",
    "del PXD002516[\"spectrum_file\"]\n",
    "PXD002516[\"Spectrum File\"].fillna(PXD002516[\"File_Name\"], inplace=True)\n",
    "del PXD002516[\"File_Name\"]\n",
    "PXD002516[\"Spectrum File\"].fillna(PXD002516[\"file_idx\"], inplace=True)\n",
    "del PXD002516[\"file_idx\"]\n",
    "PXD004010[\"Spectrum File\"].fillna(PXD004010[\"spectrum_file\"], inplace=True)\n",
    "del PXD004010[\"spectrum_file\"]\n",
    "PXD004010[\"Spectrum File\"].fillna(PXD004010[\"File_Name\"], inplace=True)\n",
    "del PXD004010[\"File_Name\"]\n",
    "PXD004010[\"Spectrum File\"].fillna(PXD004010[\"file_idx\"], inplace=True)\n",
    "del PXD004010[\"file_idx\"]"
   ]
  },
  {
   "cell_type": "code",
   "execution_count": 45,
   "metadata": {},
   "outputs": [
    {
     "data": {
      "text/plain": [
       "Index(['Spectrum File', 'Scan', 'charge', 'precursor_mass', 'ionbot Sequence',\n",
       "       'ionbot peptide mass', 'comet peptide mass', 'ionbot modifications',\n",
       "       'ionbot unexpected modifications', 'ionbot q-value', 'ionbot PEP',\n",
       "       'Fragger Sequence', 'Fragger Modified Sequence', 'Fragger Probability',\n",
       "       'Fragger modifications', 'Fragger unexpected modifications',\n",
       "       'MSFragger Localization', 'pFind Sequence', 'pFind Modification',\n",
       "       'pFind q-value', 'Comet Sequence', 'Comet q-value', 'Comet PEP',\n",
       "       'MSFragger Peptide Mass', 'pFind Peptide Mass', 'ionbot proteins',\n",
       "       'comet proteins', 'fragger proteins', 'pfind proteins'],\n",
       "      dtype='object')"
      ]
     },
     "execution_count": 45,
     "metadata": {},
     "output_type": "execute_result"
    }
   ],
   "source": [
    "PXD002516.columns"
   ]
  },
  {
   "cell_type": "code",
   "execution_count": 46,
   "metadata": {},
   "outputs": [],
   "source": [
    "PXD004010.to_csv(\"PXD004010.tsv\", sep=\"\\t\")\n",
    "PXD002516.to_csv(\"PXD002516.tsv\", sep=\"\\t\")"
   ]
  }
 ],
 "metadata": {
  "kernelspec": {
   "display_name": "base",
   "language": "python",
   "name": "python3"
  },
  "language_info": {
   "codemirror_mode": {
    "name": "ipython",
    "version": 3
   },
   "file_extension": ".py",
   "mimetype": "text/x-python",
   "name": "python",
   "nbconvert_exporter": "python",
   "pygments_lexer": "ipython3",
   "version": "3.9.10"
  },
  "orig_nbformat": 4,
  "vscode": {
   "interpreter": {
    "hash": "647b7bb0e2c7b48f38d1d074e96c0b89f6a9ad4582aa349d5754d73cf165f97e"
   }
  }
 },
 "nbformat": 4,
 "nbformat_minor": 2
}
