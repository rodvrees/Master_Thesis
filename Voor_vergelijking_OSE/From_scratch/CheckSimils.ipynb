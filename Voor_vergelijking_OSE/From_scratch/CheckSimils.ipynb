{
 "cells": [
  {
   "cell_type": "code",
   "execution_count": 2,
   "metadata": {},
   "outputs": [],
   "source": [
    "import pandas as pd\n",
    "from tqdm import tqdm\n",
    "import numpy as np\n",
    "import seaborn as sns\n",
    "import matplotlib.pyplot as plt\n",
    "from matplotlib_venn import venn3, venn2\n",
    "from pyteomics import mass, parser\n",
    "tqdm.pandas()"
   ]
  },
  {
   "attachments": {},
   "cell_type": "markdown",
   "metadata": {},
   "source": [
    "# Deamidated"
   ]
  },
  {
   "cell_type": "code",
   "execution_count": 3,
   "metadata": {},
   "outputs": [],
   "source": [
    "ionbot = pd.read_csv(\"/home/robbe/ionbot/Voor_vergelijking_OSE/From_scratch/ionbotvcomet.tsv\", sep=\"\\t\")\n",
    "ionbot.columns\n",
    "ionbot = ionbot.filter([\"Spectrum File\", \"Scan\", \"precursor_mass\", \"ionbot Sequence\",\"ionbot_mods_formatted\", \"Comet Raw Sequence\", \"comet_mods_formatted\", \"ionbot_seq_eval\", \"ionbot_mods_eval\", \"ionbot peptide mass\", \"comet peptide mass\", \"ionbot PEP\", \"Comet PEP\", \"Fragger PEP\", \"pFind q-value\"])\n",
    "ionbot[\"spectrumID\"] = ionbot[\"Spectrum File\"] + ionbot[\"Scan\"].astype(str)"
   ]
  },
  {
   "cell_type": "code",
   "execution_count": 4,
   "metadata": {},
   "outputs": [],
   "source": [
    "Fragger = pd.read_csv(\"fraggervcomet.tsv\", sep=\"\\t\")\n",
    "Fragger.columns\n",
    "Fragger = Fragger.filter([\"Spectrum File\", \"Scan\", \"precursor_mass\", \"Fragger Sequence\",\"fragger_mods_formatted\", \"Comet Raw Sequence\", \"comet_mods_formatted\", \"fragger_seq_eval\", \"fragger_mods_eval\", \"MSFragger Peptide Mass\", \"comet peptide mass\", \"Comet PEP\", \"Fragger PEP\"])\n",
    "Fragger[\"spectrumID\"] = Fragger[\"Spectrum File\"] + Fragger[\"Scan\"].astype(str)"
   ]
  },
  {
   "cell_type": "code",
   "execution_count": 5,
   "metadata": {},
   "outputs": [],
   "source": [
    "pfind = pd.read_csv(\"pfindvcomet.tsv\", sep=\"\\t\")\n",
    "pfind.columns\n",
    "pfind = pfind.filter([\"Spectrum File\", \"Scan\", \"precursor_mass\", \"pFind Sequence\",\"pfind_mods_formatted\", \"Comet Raw Sequence\", \"comet_mods_formatted\", \"pfind_seq_eval\", \"pfind_mods_eval\", \"pFind Peptide Mass\", \"comet peptide mass\", \"pFind q-value\"])\n",
    "pfind[\"spectrumID\"] = pfind[\"Spectrum File\"] + pfind[\"Scan\"].astype(str)"
   ]
  },
  {
   "cell_type": "code",
   "execution_count": 6,
   "metadata": {},
   "outputs": [],
   "source": [
    "ionbotnewlydeamidated = ionbot[(ionbot[\"ionbot_seq_eval\"] == True) & (ionbot[\"ionbot_mods_eval\"] == \"Newly modified\")]"
   ]
  },
  {
   "cell_type": "code",
   "execution_count": 7,
   "metadata": {},
   "outputs": [],
   "source": [
    "ionbotnewlydeamidated = ionbotnewlydeamidated[ionbotnewlydeamidated[\"ionbot_mods_formatted\"] == \"['deamidated']\"]"
   ]
  },
  {
   "cell_type": "code",
   "execution_count": 8,
   "metadata": {},
   "outputs": [],
   "source": [
    "ionbotnd = set(ionbotnewlydeamidated[\"spectrumID\"].to_list())"
   ]
  },
  {
   "cell_type": "code",
   "execution_count": 9,
   "metadata": {},
   "outputs": [],
   "source": [
    "Fraggernewlydeamidated = Fragger[(Fragger[\"fragger_seq_eval\"] == True) & (Fragger[\"fragger_mods_eval\"] == \"Newly modified\")]"
   ]
  },
  {
   "cell_type": "code",
   "execution_count": 10,
   "metadata": {},
   "outputs": [],
   "source": [
    "Fraggernewlydeamidated = Fraggernewlydeamidated[Fraggernewlydeamidated[\"fragger_mods_formatted\"] == \"['deamidated']\"]"
   ]
  },
  {
   "cell_type": "code",
   "execution_count": 11,
   "metadata": {},
   "outputs": [],
   "source": [
    "Fraggernd = set(Fraggernewlydeamidated[\"spectrumID\"].to_list())"
   ]
  },
  {
   "cell_type": "code",
   "execution_count": 12,
   "metadata": {},
   "outputs": [],
   "source": [
    "pfindnewlydeamidated = pfind[(pfind[\"pfind_seq_eval\"] == True) & (pfind[\"pfind_mods_eval\"] == \"Newly modified\")]"
   ]
  },
  {
   "cell_type": "code",
   "execution_count": 13,
   "metadata": {},
   "outputs": [],
   "source": [
    "pfindnewlydeamidated = pfindnewlydeamidated[pfindnewlydeamidated[\"pfind_mods_formatted\"] == \"['deamidated']\"]"
   ]
  },
  {
   "cell_type": "code",
   "execution_count": 14,
   "metadata": {},
   "outputs": [],
   "source": [
    "pfindnd = set(pfindnewlydeamidated[\"spectrumID\"].to_list())"
   ]
  },
  {
   "cell_type": "code",
   "execution_count": 15,
   "metadata": {},
   "outputs": [
    {
     "data": {
      "text/plain": [
       "<matplotlib_venn._common.VennDiagram at 0x7fb619b9ae80>"
      ]
     },
     "execution_count": 15,
     "metadata": {},
     "output_type": "execute_result"
    },
    {
     "data": {
      "image/png": "[encoded data removed]",
      "text/plain": [
       "<Figure size 432x288 with 1 Axes>"
      ]
     },
     "metadata": {},
     "output_type": "display_data"
    }
   ],
   "source": [
    "venn3(subsets=[ionbotnd, Fraggernd, pfindnd], set_labels=('ionbot', 'MSFragger', 'pFind'))"
   ]
  },
  {
   "attachments": {},
   "cell_type": "markdown",
   "metadata": {},
   "source": [
    "# Propionamide"
   ]
  },
  {
   "cell_type": "code",
   "execution_count": 17,
   "metadata": {},
   "outputs": [],
   "source": [
    "ionbotprop = set(ionbot[(ionbot[\"comet_mods_formatted\"] == \"['carbamidomethyl', 'methyl']\") & (ionbot[\"ionbot_mods_formatted\"] == \"['propionamide']\")][\"spectrumID\"].to_list())"
   ]
  },
  {
   "cell_type": "code",
   "execution_count": 18,
   "metadata": {},
   "outputs": [],
   "source": [
    "pfindprop = set(pfind[(pfind[\"comet_mods_formatted\"] == \"['carbamidomethyl', 'methyl']\") & (pfind[\"pfind_mods_formatted\"] == \"['propionamide']\")][\"spectrumID\"].to_list())"
   ]
  },
  {
   "cell_type": "code",
   "execution_count": 19,
   "metadata": {},
   "outputs": [
    {
     "data": {
      "text/plain": [
       "<matplotlib_venn._common.VennDiagram at 0x7fb61aa51250>"
      ]
     },
     "execution_count": 19,
     "metadata": {},
     "output_type": "execute_result"
    },
    {
     "data": {
      "image/png": "[encoded data removed]",
      "text/plain": [
       "<Figure size 432x288 with 1 Axes>"
      ]
     },
     "metadata": {},
     "output_type": "display_data"
    }
   ],
   "source": [
    "venn2(subsets=[ionbotprop, pfindprop], set_labels=(\"ionbot\",\"pFind\"))"
   ]
  }
 ],
 "metadata": {
  "kernelspec": {
   "display_name": "base",
   "language": "python",
   "name": "python3"
  },
  "language_info": {
   "codemirror_mode": {
    "name": "ipython",
    "version": 3
   },
   "file_extension": ".py",
   "mimetype": "text/x-python",
   "name": "python",
   "nbconvert_exporter": "python",
   "pygments_lexer": "ipython3",
   "version": "3.9.10"
  },
  "orig_nbformat": 4
 },
 "nbformat": 4,
 "nbformat_minor": 2
}
