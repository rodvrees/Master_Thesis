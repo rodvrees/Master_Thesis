{
 "cells": [
  {
   "cell_type": "code",
   "execution_count": 1,
   "metadata": {},
   "outputs": [],
   "source": [
    "import pandas as pd\n",
    "import re \n",
    "import numpy as np\n",
    "from pyteomics import mass as pymass\n",
    "from tqdm import tqdm\n",
    "tqdm.pandas()\n"
   ]
  },
  {
   "cell_type": "code",
   "execution_count": 2,
   "metadata": {},
   "outputs": [
    {
     "name": "stderr",
     "output_type": "stream",
     "text": [
      "/tmp/ipykernel_3827650/3427772400.py:1: DtypeWarning: Columns (5,8,9,12,13,15,16,17,18,19,21,26,27,28,29) have mixed types. Specify dtype option on import or set low_memory=False.\n",
      "  PXD002516 = pd.read_csv(\"/home/robbe/ionbot/Voor_vergelijking_OSE/From_scratch/PXD002516.tsv\", sep=\"\\t\")\n"
     ]
    }
   ],
   "source": [
    "PXD002516 = pd.read_csv(\"/home/robbe/ionbot/Voor_vergelijking_OSE/From_scratch/PXD002516.tsv\", sep=\"\\t\")"
   ]
  },
  {
   "cell_type": "code",
   "execution_count": 3,
   "metadata": {},
   "outputs": [],
   "source": [
    "def Comet_raw_seq(string):\n",
    "    only_alpha = \"\"\n",
    "    if not pd.isna(string):\n",
    "        for char in string:\n",
    "            if char.isalpha():\n",
    "                only_alpha += char\n",
    "        return only_alpha\n",
    "    else:\n",
    "        return np.nan"
   ]
  },
  {
   "cell_type": "code",
   "execution_count": 4,
   "metadata": {},
   "outputs": [
    {
     "name": "stderr",
     "output_type": "stream",
     "text": [
      "100%|██████████| 506643/506643 [00:00<00:00, 615582.49it/s]\n"
     ]
    }
   ],
   "source": [
    "PXD002516[\"Comet Raw Sequence\"] = PXD002516[\"Comet Sequence\"].progress_apply(Comet_raw_seq)"
   ]
  },
  {
   "cell_type": "code",
   "execution_count": 5,
   "metadata": {},
   "outputs": [],
   "source": [
    "def ionbot_mods_format(string):\n",
    "\n",
    "\n",
    "    def splitatn(strng, sep, pos):\n",
    "        strng = strng.split(sep)\n",
    "        return sep.join(strng[:pos]), sep.join(strng[pos:])\n",
    "\n",
    "    resultlist = []\n",
    "    if pd.isna(string):\n",
    "        return np.nan\n",
    "    else:\n",
    "        # listofmods = splitatn(string, \"|\", 2)\n",
    "        listofmods = re.findall(\"[^|]+\\|[^|]+\", string)\n",
    "        for mod in listofmods:\n",
    "            if not mod == \"\":\n",
    "                modnamematch = re.search(r\"\\](.*)\\[\", mod)\n",
    "                if modnamematch:\n",
    "                    modname = modnamematch.group(1)\n",
    "                    resultlist.append(modname.lower())\n",
    "                elif \"->\" in mod:\n",
    "                    substitutionmatch = re.search(r\"\\|(.*)\\[\", mod)\n",
    "                    if substitutionmatch:\n",
    "                        resultlist.append(substitutionmatch.group(1).lower())\n",
    "                    else:\n",
    "                        resultlist.append(\"hiero\")\n",
    "                elif \"semi_tryptic\" in mod:\n",
    "                    resultlist.append(\"semi_tryptic\")\n",
    "                else:\n",
    "                    resultlist.append(\"hiero\")\n",
    "\n",
    "        return sorted(resultlist)\n",
    "\n"
   ]
  },
  {
   "cell_type": "code",
   "execution_count": 6,
   "metadata": {},
   "outputs": [
    {
     "name": "stderr",
     "output_type": "stream",
     "text": [
      "100%|██████████| 506643/506643 [00:01<00:00, 384117.56it/s]\n"
     ]
    }
   ],
   "source": [
    "PXD002516[\"ionbot_mods_formatted\"] = PXD002516[\"ionbot modifications\"].progress_apply(ionbot_mods_format)\n"
   ]
  },
  {
   "cell_type": "code",
   "execution_count": 7,
   "metadata": {},
   "outputs": [],
   "source": [
    "PXD002516[\"all_fragger_mods\"] = PXD002516[\"Fragger modifications\"].astype(str) + \"#\" + PXD002516[\"Fragger unexpected modifications\"].astype(str)\n"
   ]
  },
  {
   "cell_type": "code",
   "execution_count": 8,
   "metadata": {},
   "outputs": [],
   "source": [
    "def fragger_mods_format(string, reformatdict):\n",
    "    if string == \"nan#nan\":\n",
    "        return np.nan\n",
    "\n",
    "    else:\n",
    "        resultlist = []\n",
    "\n",
    "        expmod = string.split(\"#\")[0]\n",
    "        unexpmod = string.split(\"#\")[1]\n",
    "\n",
    "        expmodlist = expmod.split(\",\")\n",
    "        for expmodif in expmodlist:\n",
    "            if \"15.9949\" in expmodif:\n",
    "                resultlist.append(\"oxidation\")\n",
    "            elif \"57.0214\" in expmodif:\n",
    "                resultlist.append(\"carbamidomethyl\")\n",
    "            elif \"42.0106\" in expmodif:\n",
    "                resultlist.append(\"acetyl\")\n",
    "        \n",
    "        firstunex = unexpmod.split(\";\")[0]\n",
    "        \n",
    "        mod1 = re.search(r\"Mod1: (.*) \\(Peak\", firstunex)\n",
    "        mod2 = re.search(r\"Mod2: (.*) \\(Peak\", firstunex)\n",
    "\n",
    "        if mod1:\n",
    "            modname = mod1.group(1)\n",
    "            try:\n",
    "                resultlist.append(reformatdict[modname])\n",
    "            except KeyError:\n",
    "                firstoption = modname.split(\"/\")[0]\n",
    "                try:\n",
    "                    resultlist.append(reformatdict[firstoption])\n",
    "                except KeyError:\n",
    "                    pass\n",
    "        if mod2:\n",
    "            modname = mod2.group(1)\n",
    "            try:\n",
    "                resultlist.append(reformatdict[modname])\n",
    "            except KeyError:\n",
    "                firstoption = modname.split(\"/\")[0]\n",
    "                try:\n",
    "                    resultlist.append(reformatdict[firstoption])\n",
    "                except KeyError:\n",
    "                    pass\n",
    "    \n",
    "    if resultlist == []:\n",
    "        return np.nan\n",
    "    \n",
    "    else:\n",
    "        return sorted(resultlist)\n",
    "        \n",
    "\n",
    "# 13C(57.0214), 24C(57.0214), 34C(57.0214)#Mod1: Dehydration/Pyro-glu from E (PeakApex: -18.0104, Theoretical: -18.0106)\n",
    "#11C(57.0214)#Mod1: Unannotated mass-shift 1.0510 (PeakApex: 1.0510); Mod1: deuterated methyl ester, Mod2: reduction (PeakApex: 1.0404)\n"
   ]
  },
  {
   "cell_type": "code",
   "execution_count": 9,
   "metadata": {},
   "outputs": [],
   "source": [
    "db = pymass.Unimod()\n",
    "reformatdict = {}\n",
    "for mod in db.mods:\n",
    "    reformatdict[mod[\"full_name\"]] = mod[\"title\"].lower()"
   ]
  },
  {
   "cell_type": "code",
   "execution_count": 10,
   "metadata": {},
   "outputs": [
    {
     "name": "stderr",
     "output_type": "stream",
     "text": [
      "100%|██████████| 506643/506643 [00:01<00:00, 328762.42it/s]\n"
     ]
    }
   ],
   "source": [
    "PXD002516[\"fragger_mods_formatted\"] = PXD002516[\"all_fragger_mods\"].progress_apply(fragger_mods_format, reformatdict=reformatdict)\n"
   ]
  },
  {
   "cell_type": "code",
   "execution_count": 11,
   "metadata": {},
   "outputs": [],
   "source": [
    "def pfind_mods_format(string):\n",
    "    if not pd.isna(string):\n",
    "        listofmods = string.split(\";\")\n",
    "\n",
    "        resultlist = []\n",
    "\n",
    "        for mod in listofmods:\n",
    "            if not mod == \"\":\n",
    "                modname = re.search(r\",(.*)\\[\", mod)\n",
    "                if modname:\n",
    "                    resultlist.append(modname.group(1).lower())\n",
    "            \n",
    "        return sorted(resultlist)\n",
    "    \n",
    "    else:\n",
    "        return np.nan"
   ]
  },
  {
   "cell_type": "code",
   "execution_count": 12,
   "metadata": {},
   "outputs": [
    {
     "name": "stderr",
     "output_type": "stream",
     "text": [
      "100%|██████████| 506643/506643 [00:00<00:00, 510198.32it/s]\n"
     ]
    }
   ],
   "source": [
    "PXD002516[\"pfind_mods_formatted\"] = PXD002516[\"pFind Modification\"].progress_apply(pfind_mods_format)\n"
   ]
  },
  {
   "cell_type": "code",
   "execution_count": 13,
   "metadata": {},
   "outputs": [],
   "source": [
    "def comet_mods_format(string):\n",
    "    moddict = {\"162.05\": \"hexose\", \"203.08\":\"hexnac\", \"42.01\":\"acetyl\", \"0.98\":\"deamidated\", \"15.99\":\"oxidation\", \"14.02\":\"methyl\", \"58.01\":[\"acetyl\",\"oxidation\"]}\n",
    "    if not pd.isna(string):\n",
    "        howmanyC = string.count(\"C\")\n",
    "        resultlist = []\n",
    "        if howmanyC:\n",
    "            for i in range(howmanyC):\n",
    "                resultlist.append(\"carbamidomethyl\")\n",
    "        matchlist = re.findall(r\"\\[(\\d+\\.\\d+)\\]\", string)\n",
    "        if matchlist:\n",
    "            for i in matchlist:\n",
    "                if type(moddict[i]) == str:\n",
    "                    resultlist.append(moddict[i])\n",
    "                elif type(moddict[i]) == list:\n",
    "                    resultlist.extend(moddict[i])\n",
    "            return sorted(resultlist)\n",
    "        elif resultlist:\n",
    "            return sorted(resultlist)\n",
    "        else:\n",
    "            return np.nan\n",
    "    else:\n",
    "        return np.nan\n"
   ]
  },
  {
   "cell_type": "code",
   "execution_count": 14,
   "metadata": {},
   "outputs": [
    {
     "name": "stderr",
     "output_type": "stream",
     "text": [
      "100%|██████████| 506643/506643 [00:00<00:00, 534040.85it/s]\n"
     ]
    }
   ],
   "source": [
    "PXD002516[\"comet_mods_formatted\"] = PXD002516[\"Comet Sequence\"].progress_apply(comet_mods_format)\n"
   ]
  },
  {
   "cell_type": "code",
   "execution_count": 15,
   "metadata": {},
   "outputs": [],
   "source": [
    "PXD002516.to_csv(\"PXD002516_formatted_2.tsv\", sep=\"\\t\")"
   ]
  }
 ],
 "metadata": {
  "kernelspec": {
   "display_name": "base",
   "language": "python",
   "name": "python3"
  },
  "language_info": {
   "codemirror_mode": {
    "name": "ipython",
    "version": 3
   },
   "file_extension": ".py",
   "mimetype": "text/x-python",
   "name": "python",
   "nbconvert_exporter": "python",
   "pygments_lexer": "ipython3",
   "version": "3.9.7"
  },
  "orig_nbformat": 4,
  "vscode": {
   "interpreter": {
    "hash": "647b7bb0e2c7b48f38d1d074e96c0b89f6a9ad4582aa349d5754d73cf165f97e"
   }
  }
 },
 "nbformat": 4,
 "nbformat_minor": 2
}
