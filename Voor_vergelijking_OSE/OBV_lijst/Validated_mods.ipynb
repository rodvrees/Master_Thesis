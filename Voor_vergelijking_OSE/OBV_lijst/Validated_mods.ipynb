{
 "cells": [
  {
   "cell_type": "code",
   "execution_count": 1,
   "metadata": {},
   "outputs": [],
   "source": [
    "import pandas as pd\n",
    "pd.set_option('display.max_rows', None)\n",
    "pd.options.display.max_colwidth =200"
   ]
  },
  {
   "cell_type": "code",
   "execution_count": 7,
   "metadata": {},
   "outputs": [],
   "source": [
    "ionbot = pd.read_csv(\"/home/robbe/ionbot/Voor_vergelijking_OSE/ionbotPXD002516.csv\")\n",
    "fragger = pd.read_csv(\"/home/robbe/ionbot/Voor_vergelijking_OSE/FragpipePXD002516.tsv\", sep=\"\\t\")\n",
    "pfind = pd.read_csv(\"/home/robbe/ionbot/Voor_vergelijking_OSE/pFindPXD002516.csv\", sep = \"\\t\")\n",
    "fragger = fragger.filter([\"Peptide\", \"Modified Peptide\", \"Delta Mass\", \"Assigned Modification\", \"Observed Modifications\", \"MSFragger Localization\"])"
   ]
  },
  {
   "cell_type": "code",
   "execution_count": 10,
   "metadata": {},
   "outputs": [],
   "source": [
    "peptide = \"EKMDLVTYFGK\"\n",
    "search_term = \"Acetylation\"\n",
    "peptide = peptide.upper()"
   ]
  },
  {
   "cell_type": "code",
   "execution_count": 11,
   "metadata": {},
   "outputs": [
    {
     "data": {
      "text/plain": [
       "Series([], Name: modifications, dtype: object)"
      ]
     },
     "execution_count": 11,
     "metadata": {},
     "output_type": "execute_result"
    }
   ],
   "source": [
    "ionbot[(ionbot[\"matched_peptide\"] == \"{}\".format(peptide)) & ionbot[\"unexpected_modification\"].str.contains(\"{}\".format(search_term))][\"modifications\"]\n"
   ]
  },
  {
   "cell_type": "code",
   "execution_count": 12,
   "metadata": {},
   "outputs": [
    {
     "data": {
      "text/html": [
       "<div>\n",
       "<style scoped>\n",
       "    .dataframe tbody tr th:only-of-type {\n",
       "        vertical-align: middle;\n",
       "    }\n",
       "\n",
       "    .dataframe tbody tr th {\n",
       "        vertical-align: top;\n",
       "    }\n",
       "\n",
       "    .dataframe thead th {\n",
       "        text-align: right;\n",
       "    }\n",
       "</style>\n",
       "<table border=\"1\" class=\"dataframe\">\n",
       "  <thead>\n",
       "    <tr style=\"text-align: right;\">\n",
       "      <th></th>\n",
       "      <th>Observed Modifications</th>\n",
       "      <th>MSFragger Localization</th>\n",
       "    </tr>\n",
       "  </thead>\n",
       "  <tbody>\n",
       "    <tr>\n",
       "      <th>119736</th>\n",
       "      <td>Mod1: Acetylation (PeakApex: 42.0108, Theoretical: 42.0106)</td>\n",
       "      <td>eKMDLVTYFGK</td>\n",
       "    </tr>\n",
       "    <tr>\n",
       "      <th>261905</th>\n",
       "      <td>Mod1: Acetylation (PeakApex: 42.0108, Theoretical: 42.0106)</td>\n",
       "      <td>eKMDLVTYFGK</td>\n",
       "    </tr>\n",
       "    <tr>\n",
       "      <th>261948</th>\n",
       "      <td>Mod1: Acetylation (PeakApex: 42.0108, Theoretical: 42.0106)</td>\n",
       "      <td>eKMDLVTYFGK</td>\n",
       "    </tr>\n",
       "  </tbody>\n",
       "</table>\n",
       "</div>"
      ],
      "text/plain": [
       "                                             Observed Modifications  \\\n",
       "119736  Mod1: Acetylation (PeakApex: 42.0108, Theoretical: 42.0106)   \n",
       "261905  Mod1: Acetylation (PeakApex: 42.0108, Theoretical: 42.0106)   \n",
       "261948  Mod1: Acetylation (PeakApex: 42.0108, Theoretical: 42.0106)   \n",
       "\n",
       "       MSFragger Localization  \n",
       "119736            eKMDLVTYFGK  \n",
       "261905            eKMDLVTYFGK  \n",
       "261948            eKMDLVTYFGK  "
      ]
     },
     "execution_count": 12,
     "metadata": {},
     "output_type": "execute_result"
    }
   ],
   "source": [
    "fragger[(fragger[\"Peptide\"] == \"{}\".format(peptide)) & fragger[\"Observed Modifications\"].str.contains(\"{}\".format(search_term))][[\"Observed Modifications\", \"MSFragger Localization\"]]"
   ]
  },
  {
   "cell_type": "code",
   "execution_count": 13,
   "metadata": {},
   "outputs": [
    {
     "data": {
      "text/plain": [
       "Series([], Name: Modification, dtype: object)"
      ]
     },
     "execution_count": 13,
     "metadata": {},
     "output_type": "execute_result"
    }
   ],
   "source": [
    "pfind[(pfind[\"Sequence\"] == \"{}\".format(peptide)) & (pfind[\"Modification\"].str.contains(\"{}\".format(search_term)))][\"Modification\"]"
   ]
  },
  {
   "cell_type": "code",
   "execution_count": 14,
   "metadata": {},
   "outputs": [],
   "source": [
    "ionbot = pd.read_csv(\"/home/robbe/ionbot/Voor_vergelijking_OSE/ionbotPXD0040106.csv\")\n",
    "fragger = pd.read_csv(\"/home/robbe/ionbot/Fragpipe_results/PXD004010_opnieuw/psm.tsv\", sep=\"\\t\")\n",
    "pfind = pd.read_csv(\"/home/robbe/ionbot/Voor_vergelijking_OSE/pFindPXD004010.tsv\", sep = \"\\t\")\n",
    "fragger = fragger.filter([\"Peptide\", \"Modified Peptide\",\"Assigned Modifications\", \"Delta Mass\", \"Observed Modifications\", \"MSFragger Localization\"])"
   ]
  },
  {
   "cell_type": "code",
   "execution_count": 15,
   "metadata": {},
   "outputs": [
    {
     "data": {
      "text/plain": [
       "Series([], Name: modifications, dtype: object)"
      ]
     },
     "execution_count": 15,
     "metadata": {},
     "output_type": "execute_result"
    }
   ],
   "source": [
    "ionbot[(ionbot[\"matched_peptide\"] == \"{}\".format(peptide)) & ionbot[\"unexpected_modification\"].str.contains(\"{}\".format(search_term))][\"modifications\"]"
   ]
  },
  {
   "cell_type": "code",
   "execution_count": 16,
   "metadata": {},
   "outputs": [
    {
     "data": {
      "text/html": [
       "<div>\n",
       "<style scoped>\n",
       "    .dataframe tbody tr th:only-of-type {\n",
       "        vertical-align: middle;\n",
       "    }\n",
       "\n",
       "    .dataframe tbody tr th {\n",
       "        vertical-align: top;\n",
       "    }\n",
       "\n",
       "    .dataframe thead th {\n",
       "        text-align: right;\n",
       "    }\n",
       "</style>\n",
       "<table border=\"1\" class=\"dataframe\">\n",
       "  <thead>\n",
       "    <tr style=\"text-align: right;\">\n",
       "      <th></th>\n",
       "      <th>Peptide</th>\n",
       "      <th>Modified Peptide</th>\n",
       "      <th>Assigned Modifications</th>\n",
       "      <th>Delta Mass</th>\n",
       "      <th>Observed Modifications</th>\n",
       "      <th>MSFragger Localization</th>\n",
       "    </tr>\n",
       "  </thead>\n",
       "  <tbody>\n",
       "  </tbody>\n",
       "</table>\n",
       "</div>"
      ],
      "text/plain": [
       "Empty DataFrame\n",
       "Columns: [Peptide, Modified Peptide, Assigned Modifications, Delta Mass, Observed Modifications, MSFragger Localization]\n",
       "Index: []"
      ]
     },
     "execution_count": 16,
     "metadata": {},
     "output_type": "execute_result"
    }
   ],
   "source": [
    "fragger[(fragger[\"Peptide\"] == \"{}\".format(peptide))&(fragger[\"Observed Modifications\"].str.contains(frag_search_term))]"
   ]
  },
  {
   "cell_type": "code",
   "execution_count": 17,
   "metadata": {},
   "outputs": [
    {
     "data": {
      "text/plain": [
       "Series([], Name: Modification, dtype: object)"
      ]
     },
     "execution_count": 17,
     "metadata": {},
     "output_type": "execute_result"
    }
   ],
   "source": [
    "pfind[(pfind[\"Sequence\"] == \"{}\".format(peptide)) & (pfind[\"Modification\"].str.contains(\"{}\".format(search_term)))][\"Modification\"]"
   ]
  },
  {
   "cell_type": "code",
   "execution_count": 20,
   "metadata": {},
   "outputs": [],
   "source": [
    "peptide = \"ISEQSDAKLK\"\n",
    "search_term = \"Acetyl\"\n",
    "frag_search_term = \"Acetyl\"\n",
    "peptide = peptide.upper()"
   ]
  },
  {
   "cell_type": "code",
   "execution_count": 21,
   "metadata": {},
   "outputs": [
    {
     "data": {
      "text/html": [
       "<div>\n",
       "<style scoped>\n",
       "    .dataframe tbody tr th:only-of-type {\n",
       "        vertical-align: middle;\n",
       "    }\n",
       "\n",
       "    .dataframe tbody tr th {\n",
       "        vertical-align: top;\n",
       "    }\n",
       "\n",
       "    .dataframe thead th {\n",
       "        text-align: right;\n",
       "    }\n",
       "</style>\n",
       "<table border=\"1\" class=\"dataframe\">\n",
       "  <thead>\n",
       "    <tr style=\"text-align: right;\">\n",
       "      <th></th>\n",
       "      <th>Peptide</th>\n",
       "      <th>Modified Peptide</th>\n",
       "      <th>Assigned Modifications</th>\n",
       "      <th>Delta Mass</th>\n",
       "      <th>Observed Modifications</th>\n",
       "      <th>MSFragger Localization</th>\n",
       "    </tr>\n",
       "  </thead>\n",
       "  <tbody>\n",
       "  </tbody>\n",
       "</table>\n",
       "</div>"
      ],
      "text/plain": [
       "Empty DataFrame\n",
       "Columns: [Peptide, Modified Peptide, Assigned Modifications, Delta Mass, Observed Modifications, MSFragger Localization]\n",
       "Index: []"
      ]
     },
     "execution_count": 21,
     "metadata": {},
     "output_type": "execute_result"
    }
   ],
   "source": [
    "fragger[(fragger[\"Peptide\"] == \"{}\".format(peptide))&(fragger[\"Observed Modifications\"].str.contains(frag_search_term))]"
   ]
  }
 ],
 "metadata": {
  "kernelspec": {
   "display_name": "Python 3",
   "language": "python",
   "name": "python3"
  },
  "language_info": {
   "codemirror_mode": {
    "name": "ipython",
    "version": 3
   },
   "file_extension": ".py",
   "mimetype": "text/x-python",
   "name": "python",
   "nbconvert_exporter": "python",
   "pygments_lexer": "ipython3",
   "version": "3.9.10 | packaged by conda-forge | (main, Feb  1 2022, 21:24:37) \n[GCC 9.4.0]"
  },
  "orig_nbformat": 4,
  "vscode": {
   "interpreter": {
    "hash": "647b7bb0e2c7b48f38d1d074e96c0b89f6a9ad4582aa349d5754d73cf165f97e"
   }
  }
 },
 "nbformat": 4,
 "nbformat_minor": 2
}
