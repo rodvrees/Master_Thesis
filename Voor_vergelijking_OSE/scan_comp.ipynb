{
 "cells": [
  {
   "cell_type": "code",
   "execution_count": 1,
   "metadata": {},
   "outputs": [],
   "source": [
    "import pandas as pd\n",
    "import matplotlib.pyplot as plt\n",
    "import seaborn as sns\n",
    "from pyteomics import pepxml\n",
    "import os\n",
    "pd.set_option('display.max_colwidth', None)\n",
    "import numpy as np"
   ]
  },
  {
   "cell_type": "code",
   "execution_count": 2,
   "metadata": {},
   "outputs": [],
   "source": [
    "scanscomp = pd.read_csv(\"psmstoscanwithpfind.csv\", sep=\"\\t\")\n",
    "scanscomp_bare = scanscomp.drop(scanscomp.filter(regex=\"Unnamed|Site|Peptide|spectrum|scannumber|Spectrum_file\"), axis=1)"
   ]
  },
  {
   "cell_type": "code",
   "execution_count": 3,
   "metadata": {},
   "outputs": [],
   "source": [
    "html = scanscomp_bare.to_html()"
   ]
  },
  {
   "cell_type": "code",
   "execution_count": 4,
   "metadata": {},
   "outputs": [],
   "source": [
    "# write html to file\n",
    "text_file = open(\"index.html\", \"w\")\n",
    "text_file.write(html)\n",
    "text_file.close()"
   ]
  },
  {
   "cell_type": "code",
   "execution_count": 5,
   "metadata": {},
   "outputs": [
    {
     "data": {
      "text/html": [
       "<div>\n",
       "<style scoped>\n",
       "    .dataframe tbody tr th:only-of-type {\n",
       "        vertical-align: middle;\n",
       "    }\n",
       "\n",
       "    .dataframe tbody tr th {\n",
       "        vertical-align: top;\n",
       "    }\n",
       "\n",
       "    .dataframe thead th {\n",
       "        text-align: right;\n",
       "    }\n",
       "</style>\n",
       "<table border=\"1\" class=\"dataframe\">\n",
       "  <thead>\n",
       "    <tr style=\"text-align: right;\">\n",
       "      <th></th>\n",
       "      <th>Sequence</th>\n",
       "      <th>PTM</th>\n",
       "      <th>Found_by_ionbot</th>\n",
       "      <th>Found_by_MSFragger</th>\n",
       "      <th>Found_by_pFind</th>\n",
       "      <th>Project</th>\n",
       "      <th>ionbot_PSM</th>\n",
       "      <th>fragger_PSM</th>\n",
       "      <th>pfind_PSM</th>\n",
       "    </tr>\n",
       "  </thead>\n",
       "  <tbody>\n",
       "    <tr>\n",
       "      <th>0</th>\n",
       "      <td>AQGPAASAEEPKPVEAPAANSDQTVTVKE</td>\n",
       "      <td>Acetyl</td>\n",
       "      <td>0</td>\n",
       "      <td>1</td>\n",
       "      <td>1</td>\n",
       "      <td>PXD002516</td>\n",
       "      <td>NaN</td>\n",
       "      <td>AQGPAASAEEPKPVEAPAANSDQTVTVKE/nan/Mod1: Acetylation (PeakApex: 42.0108, Theoretical: 42.0106)</td>\n",
       "      <td>AQGPAASAEEPKPVEAPAANSDQTVTVKE/0,Acetyl[AnyN-term];</td>\n",
       "    </tr>\n",
       "    <tr>\n",
       "      <th>1</th>\n",
       "      <td>AQGPAASAEEPKPVEAPAANSDQTVTVKE</td>\n",
       "      <td>Acetyl</td>\n",
       "      <td>0</td>\n",
       "      <td>1</td>\n",
       "      <td>1</td>\n",
       "      <td>PXD002516</td>\n",
       "      <td>NaN</td>\n",
       "      <td>NaN</td>\n",
       "      <td>NaN</td>\n",
       "    </tr>\n",
       "    <tr>\n",
       "      <th>2</th>\n",
       "      <td>AQGPAASAEEPKPVEAPAANSDQTVTVKE</td>\n",
       "      <td>Acetyl</td>\n",
       "      <td>0</td>\n",
       "      <td>1</td>\n",
       "      <td>1</td>\n",
       "      <td>PXD002516</td>\n",
       "      <td>NaN</td>\n",
       "      <td>AQGPAASAEEPKPVEAPAANSDQTVTVKE/nan/Mod1: Acetylation (PeakApex: 42.0108, Theoretical: 42.0106)</td>\n",
       "      <td>AQGPAASAEEPKPVEAPAANSDQTVTVKE/0,Acetyl[ProteinN-term];</td>\n",
       "    </tr>\n",
       "    <tr>\n",
       "      <th>3</th>\n",
       "      <td>AQGPAASAEEPKPVEAPAANSDQTVTVKE</td>\n",
       "      <td>Acetyl</td>\n",
       "      <td>0</td>\n",
       "      <td>1</td>\n",
       "      <td>1</td>\n",
       "      <td>PXD002516</td>\n",
       "      <td>NaN</td>\n",
       "      <td>AQGPAASAEEPKPVEAPAANSDQTVTVKE/nan/Mod1: Acetylation (PeakApex: 42.0108, Theoretical: 42.0106)</td>\n",
       "      <td>NaN</td>\n",
       "    </tr>\n",
       "    <tr>\n",
       "      <th>4</th>\n",
       "      <td>AQGPAASAEEPKPVEAPAANSDQTVTVKE</td>\n",
       "      <td>Acetyl</td>\n",
       "      <td>0</td>\n",
       "      <td>1</td>\n",
       "      <td>1</td>\n",
       "      <td>PXD002516</td>\n",
       "      <td>NaN</td>\n",
       "      <td>NaN</td>\n",
       "      <td>NaN</td>\n",
       "    </tr>\n",
       "  </tbody>\n",
       "</table>\n",
       "</div>"
      ],
      "text/plain": [
       "                        Sequence     PTM  Found_by_ionbot  Found_by_MSFragger  \\\n",
       "0  AQGPAASAEEPKPVEAPAANSDQTVTVKE  Acetyl                0                   1   \n",
       "1  AQGPAASAEEPKPVEAPAANSDQTVTVKE  Acetyl                0                   1   \n",
       "2  AQGPAASAEEPKPVEAPAANSDQTVTVKE  Acetyl                0                   1   \n",
       "3  AQGPAASAEEPKPVEAPAANSDQTVTVKE  Acetyl                0                   1   \n",
       "4  AQGPAASAEEPKPVEAPAANSDQTVTVKE  Acetyl                0                   1   \n",
       "\n",
       "   Found_by_pFind    Project ionbot_PSM  \\\n",
       "0               1  PXD002516        NaN   \n",
       "1               1  PXD002516        NaN   \n",
       "2               1  PXD002516        NaN   \n",
       "3               1  PXD002516        NaN   \n",
       "4               1  PXD002516        NaN   \n",
       "\n",
       "                                                                                     fragger_PSM  \\\n",
       "0  AQGPAASAEEPKPVEAPAANSDQTVTVKE/nan/Mod1: Acetylation (PeakApex: 42.0108, Theoretical: 42.0106)   \n",
       "1                                                                                            NaN   \n",
       "2  AQGPAASAEEPKPVEAPAANSDQTVTVKE/nan/Mod1: Acetylation (PeakApex: 42.0108, Theoretical: 42.0106)   \n",
       "3  AQGPAASAEEPKPVEAPAANSDQTVTVKE/nan/Mod1: Acetylation (PeakApex: 42.0108, Theoretical: 42.0106)   \n",
       "4                                                                                            NaN   \n",
       "\n",
       "                                                pfind_PSM  \n",
       "0      AQGPAASAEEPKPVEAPAANSDQTVTVKE/0,Acetyl[AnyN-term];  \n",
       "1                                                     NaN  \n",
       "2  AQGPAASAEEPKPVEAPAANSDQTVTVKE/0,Acetyl[ProteinN-term];  \n",
       "3                                                     NaN  \n",
       "4                                                     NaN  "
      ]
     },
     "execution_count": 5,
     "metadata": {},
     "output_type": "execute_result"
    }
   ],
   "source": [
    "scanscomp_bare.head()"
   ]
  },
  {
   "cell_type": "markdown",
   "metadata": {},
   "source": [
    "## Checking ionbot"
   ]
  },
  {
   "cell_type": "code",
   "execution_count": 6,
   "metadata": {},
   "outputs": [
    {
     "data": {
      "text/plain": [
       "(2351, 4)"
      ]
     },
     "execution_count": 6,
     "metadata": {},
     "output_type": "execute_result"
    }
   ],
   "source": [
    "notfoundbyionbot = scanscomp_bare[scanscomp_bare[\"Found_by_ionbot\"] == 0]\n",
    "notfoundbyionbot = notfoundbyionbot.drop(notfoundbyionbot.filter(regex=\"Found|fragger|pfind\"), axis=1)\n",
    "notfoundbyionbot.shape"
   ]
  },
  {
   "cell_type": "code",
   "execution_count": 7,
   "metadata": {},
   "outputs": [
    {
     "name": "stdout",
     "output_type": "stream",
     "text": [
      "(686, 4)\n"
     ]
    }
   ],
   "source": [
    "Foundornot = notfoundbyionbot.groupby([\"Sequence\",\"PTM\"]).count().reset_index()\n",
    "print(Foundornot.shape)"
   ]
  },
  {
   "cell_type": "code",
   "execution_count": 8,
   "metadata": {},
   "outputs": [
    {
     "data": {
      "text/plain": [
       "264"
      ]
     },
     "execution_count": 8,
     "metadata": {},
     "output_type": "execute_result"
    }
   ],
   "source": [
    "Foundornot[\"ionbot_PSM\"].value_counts()[0]"
   ]
  },
  {
   "cell_type": "code",
   "execution_count": 9,
   "metadata": {},
   "outputs": [
    {
     "name": "stdout",
     "output_type": "stream",
     "text": [
      "Another PSM was found by ionbot for 61.46% of cases\n"
     ]
    }
   ],
   "source": [
    "percentage_no_psm = 264/685*100\n",
    "percentage_psm = 100-percentage_no_psm\n",
    "print(\"Another PSM was found by ionbot for {:.2f}% of cases\".format(percentage_psm))"
   ]
  },
  {
   "cell_type": "code",
   "execution_count": 10,
   "metadata": {},
   "outputs": [],
   "source": [
    "otherPSMs = notfoundbyionbot[notfoundbyionbot[\"ionbot_PSM\"].notna()]"
   ]
  },
  {
   "cell_type": "code",
   "execution_count": 11,
   "metadata": {},
   "outputs": [
    {
     "name": "stderr",
     "output_type": "stream",
     "text": [
      "/tmp/ipykernel_1061957/1286233182.py:1: SettingWithCopyWarning: \n",
      "A value is trying to be set on a copy of a slice from a DataFrame.\n",
      "Try using .loc[row_indexer,col_indexer] = value instead\n",
      "\n",
      "See the caveats in the documentation: https://pandas.pydata.org/pandas-docs/stable/user_guide/indexing.html#returning-a-view-versus-a-copy\n",
      "  otherPSMs[\"PSMseq\"] = otherPSMs[\"ionbot_PSM\"].apply(lambda x: x.split(\"/\")[0])\n",
      "/tmp/ipykernel_1061957/1286233182.py:2: SettingWithCopyWarning: \n",
      "A value is trying to be set on a copy of a slice from a DataFrame.\n",
      "Try using .loc[row_indexer,col_indexer] = value instead\n",
      "\n",
      "See the caveats in the documentation: https://pandas.pydata.org/pandas-docs/stable/user_guide/indexing.html#returning-a-view-versus-a-copy\n",
      "  otherPSMs[\"PSMmod\"] = otherPSMs[\"ionbot_PSM\"].apply(lambda x: x.split(\"/\")[1])\n",
      "/tmp/ipykernel_1061957/1286233182.py:3: SettingWithCopyWarning: \n",
      "A value is trying to be set on a copy of a slice from a DataFrame.\n",
      "Try using .loc[row_indexer,col_indexer] = value instead\n",
      "\n",
      "See the caveats in the documentation: https://pandas.pydata.org/pandas-docs/stable/user_guide/indexing.html#returning-a-view-versus-a-copy\n",
      "  otherPSMs[\"unexpected\"] = otherPSMs[\"ionbot_PSM\"].apply(lambda x: x.split('/')[2])\n"
     ]
    }
   ],
   "source": [
    "otherPSMs[\"PSMseq\"] = otherPSMs[\"ionbot_PSM\"].apply(lambda x: x.split(\"/\")[0])\n",
    "otherPSMs[\"PSMmod\"] = otherPSMs[\"ionbot_PSM\"].apply(lambda x: x.split(\"/\")[1])\n",
    "otherPSMs[\"unexpected\"] = otherPSMs[\"ionbot_PSM\"].apply(lambda x: x.split('/')[2])\n",
    "otherPSMs = otherPSMs.drop(\"ionbot_PSM\", axis=1)"
   ]
  },
  {
   "cell_type": "code",
   "execution_count": 12,
   "metadata": {},
   "outputs": [
    {
     "data": {
      "text/html": [
       "<div>\n",
       "<style scoped>\n",
       "    .dataframe tbody tr th:only-of-type {\n",
       "        vertical-align: middle;\n",
       "    }\n",
       "\n",
       "    .dataframe tbody tr th {\n",
       "        vertical-align: top;\n",
       "    }\n",
       "\n",
       "    .dataframe thead th {\n",
       "        text-align: right;\n",
       "    }\n",
       "</style>\n",
       "<table border=\"1\" class=\"dataframe\">\n",
       "  <thead>\n",
       "    <tr style=\"text-align: right;\">\n",
       "      <th></th>\n",
       "      <th>Sequence</th>\n",
       "      <th>PTM</th>\n",
       "      <th>Project</th>\n",
       "      <th>PSMseq</th>\n",
       "      <th>PSMmod</th>\n",
       "      <th>unexpected</th>\n",
       "    </tr>\n",
       "  </thead>\n",
       "  <tbody>\n",
       "    <tr>\n",
       "      <th>15</th>\n",
       "      <td>KHPEPFFALAK</td>\n",
       "      <td>Acetyl</td>\n",
       "      <td>PXD002516</td>\n",
       "      <td>IQVLVEPDHFK</td>\n",
       "      <td>nan</td>\n",
       "      <td>nan</td>\n",
       "    </tr>\n",
       "    <tr>\n",
       "      <th>16</th>\n",
       "      <td>KHPEPFFALAK</td>\n",
       "      <td>Acetyl</td>\n",
       "      <td>PXD002516</td>\n",
       "      <td>IQVLVEPDHFK</td>\n",
       "      <td>nan</td>\n",
       "      <td>nan</td>\n",
       "    </tr>\n",
       "    <tr>\n",
       "      <th>18</th>\n",
       "      <td>TKEGVLYVGSK</td>\n",
       "      <td>Acetyl</td>\n",
       "      <td>PXD002516</td>\n",
       "      <td>EGVLYVGSK</td>\n",
       "      <td>0|[999928]CLIP_TRAQ_3[N-TERM]</td>\n",
       "      <td>[999928]CLIP_TRAQ_3[N-TERM]</td>\n",
       "    </tr>\n",
       "    <tr>\n",
       "      <th>48</th>\n",
       "      <td>KLEELELDEQQR</td>\n",
       "      <td>Acetyl</td>\n",
       "      <td>PXD002516</td>\n",
       "      <td>GILFVGSGVSGGEEGAR</td>\n",
       "      <td>7|[1355]azole[S]</td>\n",
       "      <td>[1355]azole[S]</td>\n",
       "    </tr>\n",
       "    <tr>\n",
       "      <th>65</th>\n",
       "      <td>MKPVPDLVPGNFK</td>\n",
       "      <td>Acetyl</td>\n",
       "      <td>PXD002516</td>\n",
       "      <td>LGEYGFQNALIVR</td>\n",
       "      <td>nan</td>\n",
       "      <td>nan</td>\n",
       "    </tr>\n",
       "    <tr>\n",
       "      <th>...</th>\n",
       "      <td>...</td>\n",
       "      <td>...</td>\n",
       "      <td>...</td>\n",
       "      <td>...</td>\n",
       "      <td>...</td>\n",
       "      <td>...</td>\n",
       "    </tr>\n",
       "    <tr>\n",
       "      <th>10379</th>\n",
       "      <td>VEVERDNLAEDIMR</td>\n",
       "      <td>Methyl</td>\n",
       "      <td>PXD004010</td>\n",
       "      <td>VEVERDNLAEDIMR</td>\n",
       "      <td>4|[1385]Hydroxamic_acid[E]</td>\n",
       "      <td>[1385]Hydroxamic_acid[E]</td>\n",
       "    </tr>\n",
       "    <tr>\n",
       "      <th>10404</th>\n",
       "      <td>IRAFPMTMDEK</td>\n",
       "      <td>Methyl</td>\n",
       "      <td>PXD004010</td>\n",
       "      <td>SAASTKVAELLEK</td>\n",
       "      <td>nan</td>\n",
       "      <td>nan</td>\n",
       "    </tr>\n",
       "    <tr>\n",
       "      <th>10433</th>\n",
       "      <td>VNFAMNVGK</td>\n",
       "      <td>Methyl</td>\n",
       "      <td>PXD004010</td>\n",
       "      <td>VNFAMNVAK</td>\n",
       "      <td>8|Gly-&gt;Ala[G]</td>\n",
       "      <td>substitution</td>\n",
       "    </tr>\n",
       "    <tr>\n",
       "      <th>10445</th>\n",
       "      <td>EMQDVDLAEVKPLVEK</td>\n",
       "      <td>Methyl</td>\n",
       "      <td>PXD004010</td>\n",
       "      <td>EMQDVDLAEVKPLVEK</td>\n",
       "      <td>15|[1385]Hydroxamic_acid[E]</td>\n",
       "      <td>[1385]Hydroxamic_acid[E]</td>\n",
       "    </tr>\n",
       "    <tr>\n",
       "      <th>10515</th>\n",
       "      <td>LNNMNKYDYVLTGYTR</td>\n",
       "      <td>Methyl</td>\n",
       "      <td>PXD004010</td>\n",
       "      <td>LNNMNKYDYVLTGYTR</td>\n",
       "      <td>4|[35]oxidation[M]</td>\n",
       "      <td>nan</td>\n",
       "    </tr>\n",
       "  </tbody>\n",
       "</table>\n",
       "<p>1077 rows × 6 columns</p>\n",
       "</div>"
      ],
      "text/plain": [
       "               Sequence     PTM    Project             PSMseq  \\\n",
       "15          KHPEPFFALAK  Acetyl  PXD002516        IQVLVEPDHFK   \n",
       "16          KHPEPFFALAK  Acetyl  PXD002516        IQVLVEPDHFK   \n",
       "18          TKEGVLYVGSK  Acetyl  PXD002516          EGVLYVGSK   \n",
       "48         KLEELELDEQQR  Acetyl  PXD002516  GILFVGSGVSGGEEGAR   \n",
       "65        MKPVPDLVPGNFK  Acetyl  PXD002516      LGEYGFQNALIVR   \n",
       "...                 ...     ...        ...                ...   \n",
       "10379    VEVERDNLAEDIMR  Methyl  PXD004010     VEVERDNLAEDIMR   \n",
       "10404       IRAFPMTMDEK  Methyl  PXD004010      SAASTKVAELLEK   \n",
       "10433         VNFAMNVGK  Methyl  PXD004010          VNFAMNVAK   \n",
       "10445  EMQDVDLAEVKPLVEK  Methyl  PXD004010   EMQDVDLAEVKPLVEK   \n",
       "10515  LNNMNKYDYVLTGYTR  Methyl  PXD004010   LNNMNKYDYVLTGYTR   \n",
       "\n",
       "                              PSMmod                   unexpected  \n",
       "15                               nan                          nan  \n",
       "16                               nan                          nan  \n",
       "18     0|[999928]CLIP_TRAQ_3[N-TERM]  [999928]CLIP_TRAQ_3[N-TERM]  \n",
       "48                  7|[1355]azole[S]               [1355]azole[S]  \n",
       "65                               nan                          nan  \n",
       "...                              ...                          ...  \n",
       "10379     4|[1385]Hydroxamic_acid[E]     [1385]Hydroxamic_acid[E]  \n",
       "10404                            nan                          nan  \n",
       "10433                  8|Gly->Ala[G]                 substitution  \n",
       "10445    15|[1385]Hydroxamic_acid[E]     [1385]Hydroxamic_acid[E]  \n",
       "10515             4|[35]oxidation[M]                          nan  \n",
       "\n",
       "[1077 rows x 6 columns]"
      ]
     },
     "execution_count": 12,
     "metadata": {},
     "output_type": "execute_result"
    }
   ],
   "source": [
    "otherPSMs"
   ]
  },
  {
   "cell_type": "code",
   "execution_count": 13,
   "metadata": {},
   "outputs": [],
   "source": [
    "def which_is_it_then(row, ionbot=False, Fragger=False, pFind=False):\n",
    "    other_peptide_nomod = 0\n",
    "    other_peptide_othermod = 0\n",
    "    other_peptide_samemod = 0\n",
    "    same_peptide_nomod = 0\n",
    "    same_peptide_othermod = 0\n",
    "    same_peptide_substitution = 0\n",
    "    other_peptide_substitution = 0\n",
    "    if ionbot:\n",
    "        if row[\"Sequence\"] == row[\"PSMseq\"]:\n",
    "            if row[\"PTM\"] in row[\"PSMmod\"]:\n",
    "                return \"Shouldn't happen\"\n",
    "            elif \"substitution\" in row[\"unexpected\"]:\n",
    "                return \"Same peptide, substitution\"\n",
    "            elif row[\"PSMmod\"] == \"nan\":\n",
    "                return \"Same peptide, no modification\"\n",
    "            else:\n",
    "                return \"Same peptide, other modification\"\n",
    "        else:\n",
    "            if row[\"PTM\"] in row[\"PSMmod\"]:\n",
    "                return \"Other peptide, same modification\"\n",
    "            elif \"substitution\" in row[\"unexpected\"]:\n",
    "                return \"Other peptide, substitution\"\n",
    "            elif row[\"PSMmod\"] == \"nan\":\n",
    "                return \"Other peptide, no modification\"\n",
    "            else:\n",
    "                return \"Other peptide, other modification\"\n",
    "\n",
    "    elif Fragger:\n",
    "        if row[\"Sequence\"] == row[\"PSMseq\"]:\n",
    "            if row[\"PTM\"] in row[\"Obsmod\"]:\n",
    "                return \"Shouldn't happen\"\n",
    "            elif (row[\"Obsmod\"] == \"nan\") & (row[\"Assmod\"] == \"nan\"):\n",
    "                return \"Same peptide, no modification\"\n",
    "            else:\n",
    "                return \"Same peptide, other modification\"\n",
    "        else:\n",
    "            if row[\"PTM\"] in row[\"Obsmod\"]:\n",
    "                return \"Other peptide, same modification\"\n",
    "            elif (row[\"Assmod\"] == \"nan\") & (row[\"Obsmod\"] == \"nan\"):\n",
    "                return \"Other peptide, no modification\"\n",
    "            else:\n",
    "                return \"Other peptide, other modification\"    \n",
    "\n",
    "    elif pFind:\n",
    "        if row[\"Sequence\"] == row[\"PSMseq\"]:\n",
    "            if row[\"PTM\"] in row[\"Modification\"]:\n",
    "                return \"Shouldn't happen\"\n",
    "            elif (row[\"Modification\"] == \"nan\"):\n",
    "                return \"Same peptide, no modification\"\n",
    "            else:\n",
    "                return \"Same peptide, other modification\"\n",
    "        else:\n",
    "            if row[\"PTM\"] in row[\"Modification\"]:\n",
    "                return \"Other peptide, same modification\"\n",
    "            elif (row[\"Modification\"] == \"nan\"):\n",
    "                return \"Other peptide, no modification\"\n",
    "            else:\n",
    "                return \"Other peptide, other modification\""
   ]
  },
  {
   "cell_type": "code",
   "execution_count": 14,
   "metadata": {},
   "outputs": [],
   "source": [
    "otherPSMs[\"Which is it then?\"] = otherPSMs.apply(which_is_it_then, ionbot=True, axis=1)"
   ]
  },
  {
   "cell_type": "code",
   "execution_count": 15,
   "metadata": {},
   "outputs": [],
   "source": [
    "otherPSMs[\"Which is it then?\"] = otherPSMs[\"Which is it then?\"].replace(\"Shouldn't happen\", \"Same peptide, other modification\")"
   ]
  },
  {
   "cell_type": "code",
   "execution_count": 16,
   "metadata": {},
   "outputs": [],
   "source": [
    "ionbotdata = otherPSMs[\"Which is it then?\"].value_counts()"
   ]
  },
  {
   "cell_type": "markdown",
   "metadata": {},
   "source": [
    "pandas pie chart"
   ]
  },
  {
   "cell_type": "code",
   "execution_count": 17,
   "metadata": {},
   "outputs": [
    {
     "data": {
      "text/plain": [
       "Same peptide, no modification        574\n",
       "Other peptide, other modification    171\n",
       "Other peptide, no modification       144\n",
       "Same peptide, other modification     103\n",
       "Other peptide, same modification      69\n",
       "Other peptide, substitution           16\n",
       "Name: Which is it then?, dtype: int64"
      ]
     },
     "execution_count": 17,
     "metadata": {},
     "output_type": "execute_result"
    }
   ],
   "source": [
    "ionbotdata"
   ]
  },
  {
   "cell_type": "code",
   "execution_count": 18,
   "metadata": {},
   "outputs": [
    {
     "data": {
      "text/plain": [
       "<function matplotlib.pyplot.show(close=None, block=None)>"
      ]
     },
     "execution_count": 18,
     "metadata": {},
     "output_type": "execute_result"
    },
    {
     "data": {
      "image/png": "[encoded data removed]",
      "text/plain": [
       "<Figure size 432x288 with 1 Axes>"
      ]
     },
     "metadata": {},
     "output_type": "display_data"
    }
   ],
   "source": [
    "plt.pie(ionbotdata, autopct='%1.2f%%')\n",
    "plt.legend(labels=ionbotdata.index, bbox_to_anchor=(1.1, 1.05))\n",
    "plt.show"
   ]
  },
  {
   "attachments": {},
   "cell_type": "markdown",
   "metadata": {},
   "source": [
    "## MSFRAGGER"
   ]
  },
  {
   "cell_type": "code",
   "execution_count": 19,
   "metadata": {},
   "outputs": [
    {
     "data": {
      "text/plain": [
       "(2595, 4)"
      ]
     },
     "execution_count": 19,
     "metadata": {},
     "output_type": "execute_result"
    }
   ],
   "source": [
    "notfoundbyfragger = scanscomp_bare[scanscomp_bare[\"Found_by_MSFragger\"] == 0]\n",
    "notfoundbyfragger = notfoundbyfragger.drop(notfoundbyfragger.filter(regex=\"Found|ionbot|pfind\"), axis=1)\n",
    "notfoundbyfragger.shape"
   ]
  },
  {
   "cell_type": "code",
   "execution_count": 20,
   "metadata": {},
   "outputs": [
    {
     "data": {
      "text/plain": [
       "(666, 4)"
      ]
     },
     "execution_count": 20,
     "metadata": {},
     "output_type": "execute_result"
    }
   ],
   "source": [
    "Foundornot2 = notfoundbyfragger.groupby([\"Sequence\",\"PTM\"]).count().reset_index()\n",
    "Foundornot2.shape"
   ]
  },
  {
   "cell_type": "code",
   "execution_count": 21,
   "metadata": {},
   "outputs": [
    {
     "data": {
      "text/plain": [
       "249"
      ]
     },
     "execution_count": 21,
     "metadata": {},
     "output_type": "execute_result"
    }
   ],
   "source": [
    "Foundornot2[\"fragger_PSM\"].value_counts()[0]"
   ]
  },
  {
   "cell_type": "code",
   "execution_count": 22,
   "metadata": {},
   "outputs": [
    {
     "name": "stdout",
     "output_type": "stream",
     "text": [
      "Another PSM was found by MSFragger for 62.61% of cases\n"
     ]
    }
   ],
   "source": [
    "percentage_no_psm = 249/666*100\n",
    "percentage_psm = 100-percentage_no_psm\n",
    "print(\"Another PSM was found by MSFragger for {:.2f}% of cases\".format(percentage_psm))"
   ]
  },
  {
   "cell_type": "code",
   "execution_count": 23,
   "metadata": {},
   "outputs": [],
   "source": [
    "otherPSMs2 = notfoundbyfragger[notfoundbyfragger[\"fragger_PSM\"].notna()]"
   ]
  },
  {
   "cell_type": "code",
   "execution_count": 24,
   "metadata": {},
   "outputs": [
    {
     "name": "stderr",
     "output_type": "stream",
     "text": [
      "/tmp/ipykernel_1061957/736041940.py:1: SettingWithCopyWarning: \n",
      "A value is trying to be set on a copy of a slice from a DataFrame.\n",
      "Try using .loc[row_indexer,col_indexer] = value instead\n",
      "\n",
      "See the caveats in the documentation: https://pandas.pydata.org/pandas-docs/stable/user_guide/indexing.html#returning-a-view-versus-a-copy\n",
      "  otherPSMs2[\"PSMseq\"] = otherPSMs2[\"fragger_PSM\"].apply(lambda x: x.split(\"/\")[0])\n",
      "/tmp/ipykernel_1061957/736041940.py:2: SettingWithCopyWarning: \n",
      "A value is trying to be set on a copy of a slice from a DataFrame.\n",
      "Try using .loc[row_indexer,col_indexer] = value instead\n",
      "\n",
      "See the caveats in the documentation: https://pandas.pydata.org/pandas-docs/stable/user_guide/indexing.html#returning-a-view-versus-a-copy\n",
      "  otherPSMs2[\"Assmod\"] = otherPSMs2[\"fragger_PSM\"].apply(lambda x: x.split(\"/\")[1])\n",
      "/tmp/ipykernel_1061957/736041940.py:3: SettingWithCopyWarning: \n",
      "A value is trying to be set on a copy of a slice from a DataFrame.\n",
      "Try using .loc[row_indexer,col_indexer] = value instead\n",
      "\n",
      "See the caveats in the documentation: https://pandas.pydata.org/pandas-docs/stable/user_guide/indexing.html#returning-a-view-versus-a-copy\n",
      "  otherPSMs2[\"Obsmod\"] = otherPSMs2[\"fragger_PSM\"].apply(lambda x: x.split(\"/\")[2])\n"
     ]
    }
   ],
   "source": [
    "otherPSMs2[\"PSMseq\"] = otherPSMs2[\"fragger_PSM\"].apply(lambda x: x.split(\"/\")[0])\n",
    "otherPSMs2[\"Assmod\"] = otherPSMs2[\"fragger_PSM\"].apply(lambda x: x.split(\"/\")[1])\n",
    "otherPSMs2[\"Obsmod\"] = otherPSMs2[\"fragger_PSM\"].apply(lambda x: x.split(\"/\")[2])\n",
    "otherPSMs2 = otherPSMs2.drop(\"fragger_PSM\", axis=1)"
   ]
  },
  {
   "cell_type": "code",
   "execution_count": 25,
   "metadata": {},
   "outputs": [],
   "source": [
    "otherPSMs2[\"Which is it then?\"] = otherPSMs2.apply(which_is_it_then, Fragger=True, axis=1)"
   ]
  },
  {
   "cell_type": "code",
   "execution_count": 26,
   "metadata": {},
   "outputs": [],
   "source": [
    "Fraggerdata = otherPSMs2[\"Which is it then?\"].value_counts()"
   ]
  },
  {
   "cell_type": "code",
   "execution_count": 27,
   "metadata": {},
   "outputs": [
    {
     "data": {
      "text/plain": [
       "<function matplotlib.pyplot.show(close=None, block=None)>"
      ]
     },
     "execution_count": 27,
     "metadata": {},
     "output_type": "execute_result"
    },
    {
     "data": {
      "image/png": "[encoded data removed]",
      "text/plain": [
       "<Figure size 432x288 with 1 Axes>"
      ]
     },
     "metadata": {},
     "output_type": "display_data"
    }
   ],
   "source": [
    "plt.pie(Fraggerdata, autopct='%1.2f%%')\n",
    "plt.legend(labels=Fraggerdata.index, bbox_to_anchor=(1.1, 1.05))\n",
    "plt.show"
   ]
  },
  {
   "attachments": {},
   "cell_type": "markdown",
   "metadata": {},
   "source": [
    "## PFIND"
   ]
  },
  {
   "cell_type": "code",
   "execution_count": 28,
   "metadata": {},
   "outputs": [
    {
     "data": {
      "text/plain": [
       "(2764, 4)"
      ]
     },
     "execution_count": 28,
     "metadata": {},
     "output_type": "execute_result"
    }
   ],
   "source": [
    "notfoundbypfind = scanscomp_bare[scanscomp_bare[\"Found_by_pFind\"] == 0]\n",
    "notfoundbypfind = notfoundbypfind.drop(notfoundbypfind.filter(regex=\"Found|ionbot|fragger\"), axis=1)\n",
    "notfoundbypfind.shape"
   ]
  },
  {
   "cell_type": "code",
   "execution_count": 29,
   "metadata": {},
   "outputs": [],
   "source": [
    "#Enkel 002516 want bij PXD004010 werden de spectrum files niet meer teruggevonden dus alles zal nan zijn\n",
    "notfoundbypfind002516 = notfoundbypfind[notfoundbypfind[\"Project\"] == \"PXD002516\"]"
   ]
  },
  {
   "cell_type": "code",
   "execution_count": 30,
   "metadata": {},
   "outputs": [
    {
     "data": {
      "text/plain": [
       "(119, 4)"
      ]
     },
     "execution_count": 30,
     "metadata": {},
     "output_type": "execute_result"
    }
   ],
   "source": [
    "Foundornot3 = notfoundbypfind002516.groupby([\"Sequence\",\"PTM\"]).count().reset_index()\n",
    "Foundornot3.shape"
   ]
  },
  {
   "cell_type": "code",
   "execution_count": 31,
   "metadata": {},
   "outputs": [
    {
     "data": {
      "text/plain": [
       "94"
      ]
     },
     "execution_count": 31,
     "metadata": {},
     "output_type": "execute_result"
    }
   ],
   "source": [
    "Foundornot3[\"pfind_PSM\"].value_counts()[0]"
   ]
  },
  {
   "cell_type": "code",
   "execution_count": 32,
   "metadata": {},
   "outputs": [
    {
     "name": "stdout",
     "output_type": "stream",
     "text": [
      "Another PSM was found by pFind for 21.01% of cases\n"
     ]
    }
   ],
   "source": [
    "percentage_no_psm = 94/119*100\n",
    "percentage_psm = 100-percentage_no_psm\n",
    "print(\"Another PSM was found by pFind for {:.2f}% of cases\".format(percentage_psm))"
   ]
  },
  {
   "cell_type": "code",
   "execution_count": 33,
   "metadata": {},
   "outputs": [],
   "source": [
    "otherPSMs3 = notfoundbypfind002516[notfoundbypfind002516[\"pfind_PSM\"].notna()]"
   ]
  },
  {
   "cell_type": "code",
   "execution_count": 34,
   "metadata": {},
   "outputs": [
    {
     "name": "stderr",
     "output_type": "stream",
     "text": [
      "/tmp/ipykernel_1061957/1701345639.py:1: SettingWithCopyWarning: \n",
      "A value is trying to be set on a copy of a slice from a DataFrame.\n",
      "Try using .loc[row_indexer,col_indexer] = value instead\n",
      "\n",
      "See the caveats in the documentation: https://pandas.pydata.org/pandas-docs/stable/user_guide/indexing.html#returning-a-view-versus-a-copy\n",
      "  otherPSMs3[\"PSMseq\"] = otherPSMs3[\"pfind_PSM\"].apply(lambda x: x.split(\"/\")[0])\n",
      "/tmp/ipykernel_1061957/1701345639.py:2: SettingWithCopyWarning: \n",
      "A value is trying to be set on a copy of a slice from a DataFrame.\n",
      "Try using .loc[row_indexer,col_indexer] = value instead\n",
      "\n",
      "See the caveats in the documentation: https://pandas.pydata.org/pandas-docs/stable/user_guide/indexing.html#returning-a-view-versus-a-copy\n",
      "  otherPSMs3[\"Modification\"] = otherPSMs3[\"pfind_PSM\"].apply(lambda x: x.split(\"/\")[1])\n"
     ]
    }
   ],
   "source": [
    "otherPSMs3[\"PSMseq\"] = otherPSMs3[\"pfind_PSM\"].apply(lambda x: x.split(\"/\")[0])\n",
    "otherPSMs3[\"Modification\"] = otherPSMs3[\"pfind_PSM\"].apply(lambda x: x.split(\"/\")[1])\n",
    "otherPSMs3 = otherPSMs3.drop(\"pfind_PSM\", axis=1)"
   ]
  },
  {
   "cell_type": "code",
   "execution_count": 35,
   "metadata": {},
   "outputs": [],
   "source": [
    "otherPSMs3[\"Which is it then?\"] = otherPSMs3.apply(which_is_it_then, pFind=True, axis=1)"
   ]
  },
  {
   "cell_type": "code",
   "execution_count": 36,
   "metadata": {},
   "outputs": [
    {
     "data": {
      "text/html": [
       "<div>\n",
       "<style scoped>\n",
       "    .dataframe tbody tr th:only-of-type {\n",
       "        vertical-align: middle;\n",
       "    }\n",
       "\n",
       "    .dataframe tbody tr th {\n",
       "        vertical-align: top;\n",
       "    }\n",
       "\n",
       "    .dataframe thead th {\n",
       "        text-align: right;\n",
       "    }\n",
       "</style>\n",
       "<table border=\"1\" class=\"dataframe\">\n",
       "  <thead>\n",
       "    <tr style=\"text-align: right;\">\n",
       "      <th></th>\n",
       "      <th>Sequence</th>\n",
       "      <th>PTM</th>\n",
       "      <th>Project</th>\n",
       "      <th>PSMseq</th>\n",
       "      <th>Modification</th>\n",
       "      <th>Which is it then?</th>\n",
       "    </tr>\n",
       "  </thead>\n",
       "  <tbody>\n",
       "    <tr>\n",
       "      <th>37</th>\n",
       "      <td>IAKPLSSLTPLIAAAK</td>\n",
       "      <td>Acetyl</td>\n",
       "      <td>PXD002516</td>\n",
       "      <td>VLDALFPCVQGGTTAIPGAFGCGK</td>\n",
       "      <td>8,Propionamide[C];22,Carbamidomethyl[C];</td>\n",
       "      <td>Other peptide, other modification</td>\n",
       "    </tr>\n",
       "    <tr>\n",
       "      <th>79</th>\n",
       "      <td>IKDPDASKPEDWDER</td>\n",
       "      <td>Acetyl</td>\n",
       "      <td>PXD002516</td>\n",
       "      <td>LDEDLAAYCR</td>\n",
       "      <td>9,Carbamidomethyl[C];</td>\n",
       "      <td>Other peptide, other modification</td>\n",
       "    </tr>\n",
       "    <tr>\n",
       "      <th>224</th>\n",
       "      <td>SKEFQLFSSPHGK</td>\n",
       "      <td>Acetyl</td>\n",
       "      <td>PXD002516</td>\n",
       "      <td>ILIANTGMDTDKIK</td>\n",
       "      <td>nan</td>\n",
       "      <td>Other peptide, no modification</td>\n",
       "    </tr>\n",
       "    <tr>\n",
       "      <th>699</th>\n",
       "      <td>KTDDVEAMSSQPALALDER</td>\n",
       "      <td>Acetyl</td>\n",
       "      <td>PXD002516</td>\n",
       "      <td>KTDDVEAMSSQPALALDER</td>\n",
       "      <td>8,Carbamyl[M];</td>\n",
       "      <td>Same peptide, other modification</td>\n",
       "    </tr>\n",
       "    <tr>\n",
       "      <th>700</th>\n",
       "      <td>KTDDVEAMSSQPALALDER</td>\n",
       "      <td>Acetyl</td>\n",
       "      <td>PXD002516</td>\n",
       "      <td>KTDDVEAMSSQPALALDER</td>\n",
       "      <td>8,Carbamyl[M];</td>\n",
       "      <td>Same peptide, other modification</td>\n",
       "    </tr>\n",
       "  </tbody>\n",
       "</table>\n",
       "</div>"
      ],
      "text/plain": [
       "                Sequence     PTM    Project                    PSMseq  \\\n",
       "37      IAKPLSSLTPLIAAAK  Acetyl  PXD002516  VLDALFPCVQGGTTAIPGAFGCGK   \n",
       "79       IKDPDASKPEDWDER  Acetyl  PXD002516                LDEDLAAYCR   \n",
       "224        SKEFQLFSSPHGK  Acetyl  PXD002516            ILIANTGMDTDKIK   \n",
       "699  KTDDVEAMSSQPALALDER  Acetyl  PXD002516       KTDDVEAMSSQPALALDER   \n",
       "700  KTDDVEAMSSQPALALDER  Acetyl  PXD002516       KTDDVEAMSSQPALALDER   \n",
       "\n",
       "                                 Modification  \\\n",
       "37   8,Propionamide[C];22,Carbamidomethyl[C];   \n",
       "79                      9,Carbamidomethyl[C];   \n",
       "224                                       nan   \n",
       "699                            8,Carbamyl[M];   \n",
       "700                            8,Carbamyl[M];   \n",
       "\n",
       "                     Which is it then?  \n",
       "37   Other peptide, other modification  \n",
       "79   Other peptide, other modification  \n",
       "224     Other peptide, no modification  \n",
       "699   Same peptide, other modification  \n",
       "700   Same peptide, other modification  "
      ]
     },
     "execution_count": 36,
     "metadata": {},
     "output_type": "execute_result"
    }
   ],
   "source": [
    "otherPSMs3.head()"
   ]
  },
  {
   "cell_type": "code",
   "execution_count": 37,
   "metadata": {},
   "outputs": [],
   "source": [
    "pfinddata = otherPSMs3[\"Which is it then?\"].value_counts()"
   ]
  },
  {
   "cell_type": "code",
   "execution_count": 38,
   "metadata": {},
   "outputs": [
    {
     "data": {
      "text/plain": [
       "<function matplotlib.pyplot.show(close=None, block=None)>"
      ]
     },
     "execution_count": 38,
     "metadata": {},
     "output_type": "execute_result"
    },
    {
     "data": {
      "image/png": "[encoded data removed]",
      "text/plain": [
       "<Figure size 432x288 with 1 Axes>"
      ]
     },
     "metadata": {},
     "output_type": "display_data"
    }
   ],
   "source": [
    "plt.pie(pfinddata, autopct='%1.2f%%')\n",
    "plt.legend(labels=pfinddata.index, bbox_to_anchor=(1.1, 1.05))\n",
    "plt.show"
   ]
  },
  {
   "cell_type": "code",
   "execution_count": 40,
   "metadata": {},
   "outputs": [],
   "source": [
    "colors={'Other peptide, no modification': 'purple',\n",
    "'Other peptide, other modification': \"orange\",\n",
    "\"Other peptide, same modification\": \"cyan\",\n",
    "\"Other peptide, substitution\" : \"goldenrod\",\n",
    "'Same peptide, no modification' : \"red\",\n",
    "'Same peptide, other modification' : \"pink\",\n",
    "'Same peptide, substitution':\"green\"}"
   ]
  },
  {
   "cell_type": "code",
   "execution_count": 41,
   "metadata": {},
   "outputs": [
    {
     "data": {
      "image/png": "[encoded data removed]",
      "text/plain": [
       "<Figure size 720x576 with 3 Axes>"
      ]
     },
     "metadata": {},
     "output_type": "display_data"
    }
   ],
   "source": [
    "fig = plt.figure(figsize=(10,8), facecolor=\"white\")\n",
    "ax1 = fig.add_subplot(131)\n",
    "ax1.pie(ionbotdata, autopct='%1.2f%%', colors=[colors[v] for v in ionbotdata.keys()], shadow=True)\n",
    "ax1.title.set_text(\"ionbot\")\n",
    "ax2 = fig.add_subplot(132)\n",
    "ax2.pie(Fraggerdata, autopct=\"%1.2f%%\", colors=[colors[v] for v in Fraggerdata.keys()], shadow=True)\n",
    "ax2.title.set_text(\"MSFragger\")\n",
    "ax3 = fig.add_subplot(133)\n",
    "ax3.pie(pfinddata, autopct=\"%1.2f%%\", colors=[colors[v] for v in pfinddata.keys()], shadow=True)\n",
    "ax3.title.set_text(\"Open-pFind (only PXD005216)\")\n",
    "ax1.legend(labels = ionbotdata.keys(), bbox_to_anchor=(5.2,1))\n",
    "fig.suptitle(\"If any, which PSMs are found instead of those made by Comet?\", fontsize=15)\n",
    "plt.subplots_adjust(top=1.4)\n",
    "plt.show()"
   ]
  }
 ],
 "metadata": {
  "kernelspec": {
   "display_name": "Python 3.9.10 ('base')",
   "language": "python",
   "name": "python3"
  },
  "language_info": {
   "codemirror_mode": {
    "name": "ipython",
    "version": 3
   },
   "file_extension": ".py",
   "mimetype": "text/x-python",
   "name": "python",
   "nbconvert_exporter": "python",
   "pygments_lexer": "ipython3",
   "version": "3.9.10 | packaged by conda-forge | (main, Feb  1 2022, 21:24:37) \n[GCC 9.4.0]"
  },
  "orig_nbformat": 4,
  "vscode": {
   "interpreter": {
    "hash": "647b7bb0e2c7b48f38d1d074e96c0b89f6a9ad4582aa349d5754d73cf165f97e"
   }
  }
 },
 "nbformat": 4,
 "nbformat_minor": 2
}
