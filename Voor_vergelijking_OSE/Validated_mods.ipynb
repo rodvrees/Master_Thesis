{
 "cells": [
  {
   "cell_type": "code",
   "execution_count": 1,
   "metadata": {},
   "outputs": [],
   "source": [
    "import pandas as pd"
   ]
  },
  {
   "cell_type": "code",
   "execution_count": 48,
   "metadata": {},
   "outputs": [],
   "source": [
    "ionbot = pd.read_csv(\"/home/robbe/ionbot/Voor_vergelijking_OSE/ionbotPXD002516.csv\")\n",
    "fragger = pd.read_csv(\"/home/robbe/ionbot/Voor_vergelijking_OSE/FragpipePXD002516.tsv\", sep=\"\\t\")\n",
    "pfind = pd.read_csv(\"/home/robbe/ionbot/Voor_vergelijking_OSE/pFindPXD002516.csv\", sep = \"\\t\")\n",
    "fragger = fragger.filter([\"Peptide\", \"Modified Peptide\", \"Delta Mass\", \"Assigned Modification\", \"Observed Modifications\", \"MSFragger Localization\"])"
   ]
  },
  {
   "cell_type": "code",
   "execution_count": 1230,
   "metadata": {},
   "outputs": [],
   "source": [
    "peptide = \"YLkEYQDLLNVK\"\n",
    "search_term = \"Acetyl\"\n",
    "peptide = peptide.upper()"
   ]
  },
  {
   "cell_type": "code",
   "execution_count": 1231,
   "metadata": {},
   "outputs": [
    {
     "data": {
      "text/plain": [
       "Series([], Name: modifications, dtype: object)"
      ]
     },
     "execution_count": 1231,
     "metadata": {},
     "output_type": "execute_result"
    }
   ],
   "source": [
    "ionbot[(ionbot[\"matched_peptide\"] == \"{}\".format(peptide)) & ionbot[\"unexpected_modification\"].str.contains(\"{}\".format(search_term))][\"modifications\"]"
   ]
  },
  {
   "cell_type": "code",
   "execution_count": 1232,
   "metadata": {},
   "outputs": [
    {
     "data": {
      "text/html": [
       "<div>\n",
       "<style scoped>\n",
       "    .dataframe tbody tr th:only-of-type {\n",
       "        vertical-align: middle;\n",
       "    }\n",
       "\n",
       "    .dataframe tbody tr th {\n",
       "        vertical-align: top;\n",
       "    }\n",
       "\n",
       "    .dataframe thead th {\n",
       "        text-align: right;\n",
       "    }\n",
       "</style>\n",
       "<table border=\"1\" class=\"dataframe\">\n",
       "  <thead>\n",
       "    <tr style=\"text-align: right;\">\n",
       "      <th></th>\n",
       "      <th>Observed Modifications</th>\n",
       "      <th>MSFragger Localization</th>\n",
       "    </tr>\n",
       "  </thead>\n",
       "  <tbody>\n",
       "    <tr>\n",
       "      <th>6254</th>\n",
       "      <td>Mod1: Acetylation (PeakApex: 42.0108, Theoreti...</td>\n",
       "      <td>yLKEYQDLLNVK</td>\n",
       "    </tr>\n",
       "  </tbody>\n",
       "</table>\n",
       "</div>"
      ],
      "text/plain": [
       "                                 Observed Modifications MSFragger Localization\n",
       "6254  Mod1: Acetylation (PeakApex: 42.0108, Theoreti...           yLKEYQDLLNVK"
      ]
     },
     "execution_count": 1232,
     "metadata": {},
     "output_type": "execute_result"
    }
   ],
   "source": [
    "fragger[(fragger[\"Peptide\"] == \"{}\".format(peptide)) & fragger[\"Observed Modifications\"].str.contains(\"{}\".format(search_term))][[\"Observed Modifications\", \"MSFragger Localization\"]]"
   ]
  },
  {
   "cell_type": "code",
   "execution_count": 1233,
   "metadata": {},
   "outputs": [
    {
     "data": {
      "text/plain": [
       "8923      0,Acetyl[AnyN-term];\n",
       "55037     0,Acetyl[AnyN-term];\n",
       "118670    0,Acetyl[AnyN-term];\n",
       "235940    0,Acetyl[AnyN-term];\n",
       "Name: Modification, dtype: object"
      ]
     },
     "execution_count": 1233,
     "metadata": {},
     "output_type": "execute_result"
    }
   ],
   "source": [
    "pfind[(pfind[\"Sequence\"] == \"{}\".format(peptide)) & (pfind[\"Modification\"].str.contains(\"{}\".format(search_term)))][\"Modification\"]"
   ]
  }
 ],
 "metadata": {
  "kernelspec": {
   "display_name": "Python 3.9.10 ('base')",
   "language": "python",
   "name": "python3"
  },
  "language_info": {
   "codemirror_mode": {
    "name": "ipython",
    "version": 3
   },
   "file_extension": ".py",
   "mimetype": "text/x-python",
   "name": "python",
   "nbconvert_exporter": "python",
   "pygments_lexer": "ipython3",
   "version": "3.9.10"
  },
  "orig_nbformat": 4,
  "vscode": {
   "interpreter": {
    "hash": "647b7bb0e2c7b48f38d1d074e96c0b89f6a9ad4582aa349d5754d73cf165f97e"
   }
  }
 },
 "nbformat": 4,
 "nbformat_minor": 2
}
