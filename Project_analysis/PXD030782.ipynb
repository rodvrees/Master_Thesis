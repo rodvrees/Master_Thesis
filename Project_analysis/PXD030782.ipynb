{
 "cells": [
  {
   "cell_type": "markdown",
   "metadata": {},
   "source": [
    "# PXD030782\n",
    "## Peroxisome-derived hydrogen peroxide can modulate the sulfenylation profiles of key redox signaling proteins in Flp-In T-REx 293 cells\n",
    "\n",
    "[Pride link](https://www.ebi.ac.uk/pride/archive/projects/PXD030782)\n",
    "\n",
    "[Article link](https://pubmed.ncbi.nlm.nih.gov/35557958/)"
   ]
  },
  {
   "cell_type": "code",
   "execution_count": 1,
   "metadata": {},
   "outputs": [
    {
     "data": {
      "text/plain": [
       "<module 'OxiAnalysis' from '/home/robbe/ionbot/OxiAnalysis.py'>"
      ]
     },
     "execution_count": 1,
     "metadata": {},
     "output_type": "execute_result"
    }
   ],
   "source": [
    "#Import libraries\n",
    "os.chdir(\"/home/robbe/ionbot/\")\n",
    "import pandas as pd\n",
    "import matplotlib.pyplot as plt\n",
    "import seaborn as sb\n",
    "import re\n",
    "import numpy as np\n",
    "import os\n",
    "from pathlib import Path\n",
    "from pyteomics import mass as pymass\n",
    "import OxiAnalysis as OA\n",
    "import importlib\n",
    "importlib.reload(OA)"
   ]
  },
  {
   "cell_type": "code",
   "execution_count": 3,
   "metadata": {},
   "outputs": [],
   "source": [
    "first = pd.read_csv('/home/robbe/ionbot/full_projects/PXD030782_first.csv')\n",
    "del first[\"Unnamed: 0\"]\n",
    "del first[\"spectrum_title\"]\n",
    "del first[\"scan\"]\n",
    "first['modifications'] = first['modifications'].fillna(\"None\")\n",
    "first['Oxidant treatment'] = first['Oxidant treatment'].fillna(\"None\")\n",
    "first['Secondary treatment'] = first['Secondary treatment'].fillna(\"None\")\n",
    "first['Length of Secondary treatment (mins)'] = first['Length of Secondary treatment (mins)'].fillna(0)\n",
    "first['Length of Secondary treatment (mins)'] = first['Length of Secondary treatment (mins)'].replace('0', 0)\n",
    "first['Length of oxidant treatment (mins)'] = first['Length of oxidant treatment (mins)'].replace('0', 0)"
   ]
  },
  {
   "cell_type": "code",
   "execution_count": 4,
   "metadata": {},
   "outputs": [
    {
     "name": "stdout",
     "output_type": "stream",
     "text": [
      "The amount of PSMs in this project dataset is:  65490\n",
      "The amount of raw files that make up the master dataset is:  12\n"
     ]
    }
   ],
   "source": [
    "print(\"The amount of PSMs in this project dataset is: \", first.shape[0])\n",
    "print(\"The amount of raw files that make up the master dataset is: \", len(first[\"spectrum_file\"].unique()))"
   ]
  },
  {
   "cell_type": "markdown",
   "metadata": {},
   "source": [
    "## Overview of the treatments in this project"
   ]
  },
  {
   "cell_type": "code",
   "execution_count": 5,
   "metadata": {},
   "outputs": [
    {
     "data": {
      "text/html": [
       "<div>\n",
       "<style scoped>\n",
       "    .dataframe tbody tr th:only-of-type {\n",
       "        vertical-align: middle;\n",
       "    }\n",
       "\n",
       "    .dataframe tbody tr th {\n",
       "        vertical-align: top;\n",
       "    }\n",
       "\n",
       "    .dataframe thead th {\n",
       "        text-align: right;\n",
       "    }\n",
       "</style>\n",
       "<table border=\"1\" class=\"dataframe\">\n",
       "  <thead>\n",
       "    <tr style=\"text-align: right;\">\n",
       "      <th></th>\n",
       "      <th>Oxidant treatment</th>\n",
       "      <th>Oxidant dose (µM)</th>\n",
       "      <th>Length of oxidant treatment (mins)</th>\n",
       "      <th>Secondary treatment</th>\n",
       "      <th>Secondary treatment dose (µM)</th>\n",
       "      <th>Length of Secondary treatment (mins)</th>\n",
       "      <th>ionbot_match_id</th>\n",
       "    </tr>\n",
       "  </thead>\n",
       "  <tbody>\n",
       "    <tr>\n",
       "      <th>0</th>\n",
       "      <td>H2O2</td>\n",
       "      <td>10</td>\n",
       "      <td>10</td>\n",
       "      <td>c-YAP</td>\n",
       "      <td>0</td>\n",
       "      <td>0</td>\n",
       "      <td>6509</td>\n",
       "    </tr>\n",
       "    <tr>\n",
       "      <th>1</th>\n",
       "      <td>H2O2</td>\n",
       "      <td>30</td>\n",
       "      <td>10</td>\n",
       "      <td>c-YAP</td>\n",
       "      <td>0</td>\n",
       "      <td>0</td>\n",
       "      <td>7071</td>\n",
       "    </tr>\n",
       "    <tr>\n",
       "      <th>2</th>\n",
       "      <td>H2O2</td>\n",
       "      <td>100</td>\n",
       "      <td>10</td>\n",
       "      <td>c-YAP</td>\n",
       "      <td>0</td>\n",
       "      <td>0</td>\n",
       "      <td>7500</td>\n",
       "    </tr>\n",
       "    <tr>\n",
       "      <th>3</th>\n",
       "      <td>H2O2</td>\n",
       "      <td>300</td>\n",
       "      <td>10</td>\n",
       "      <td>c-YAP</td>\n",
       "      <td>0</td>\n",
       "      <td>0</td>\n",
       "      <td>7498</td>\n",
       "    </tr>\n",
       "    <tr>\n",
       "      <th>4</th>\n",
       "      <td>H2O2</td>\n",
       "      <td>1000</td>\n",
       "      <td>10</td>\n",
       "      <td>c-YAP</td>\n",
       "      <td>0</td>\n",
       "      <td>0</td>\n",
       "      <td>11183</td>\n",
       "    </tr>\n",
       "    <tr>\n",
       "      <th>5</th>\n",
       "      <td>H2O2</td>\n",
       "      <td>1000</td>\n",
       "      <td>10</td>\n",
       "      <td>mt-YAP</td>\n",
       "      <td>0</td>\n",
       "      <td>0</td>\n",
       "      <td>4079</td>\n",
       "    </tr>\n",
       "    <tr>\n",
       "      <th>6</th>\n",
       "      <td>H2O2</td>\n",
       "      <td>1000</td>\n",
       "      <td>10</td>\n",
       "      <td>po-YAP</td>\n",
       "      <td>0</td>\n",
       "      <td>0</td>\n",
       "      <td>3054</td>\n",
       "    </tr>\n",
       "    <tr>\n",
       "      <th>7</th>\n",
       "      <td>None</td>\n",
       "      <td>0</td>\n",
       "      <td>0</td>\n",
       "      <td>c-YAP</td>\n",
       "      <td>0</td>\n",
       "      <td>0</td>\n",
       "      <td>10299</td>\n",
       "    </tr>\n",
       "    <tr>\n",
       "      <th>8</th>\n",
       "      <td>None</td>\n",
       "      <td>0</td>\n",
       "      <td>0</td>\n",
       "      <td>mt-YAP</td>\n",
       "      <td>0</td>\n",
       "      <td>0</td>\n",
       "      <td>4314</td>\n",
       "    </tr>\n",
       "    <tr>\n",
       "      <th>9</th>\n",
       "      <td>None</td>\n",
       "      <td>0</td>\n",
       "      <td>0</td>\n",
       "      <td>po-YAP</td>\n",
       "      <td>0</td>\n",
       "      <td>0</td>\n",
       "      <td>3983</td>\n",
       "    </tr>\n",
       "  </tbody>\n",
       "</table>\n",
       "</div>"
      ],
      "text/plain": [
       "  Oxidant treatment  Oxidant dose (µM)  Length of oxidant treatment (mins)  \\\n",
       "0              H2O2                 10                                  10   \n",
       "1              H2O2                 30                                  10   \n",
       "2              H2O2                100                                  10   \n",
       "3              H2O2                300                                  10   \n",
       "4              H2O2               1000                                  10   \n",
       "5              H2O2               1000                                  10   \n",
       "6              H2O2               1000                                  10   \n",
       "7              None                  0                                   0   \n",
       "8              None                  0                                   0   \n",
       "9              None                  0                                   0   \n",
       "\n",
       "  Secondary treatment  Secondary treatment dose (µM)  \\\n",
       "0               c-YAP                              0   \n",
       "1               c-YAP                              0   \n",
       "2               c-YAP                              0   \n",
       "3               c-YAP                              0   \n",
       "4               c-YAP                              0   \n",
       "5              mt-YAP                              0   \n",
       "6              po-YAP                              0   \n",
       "7               c-YAP                              0   \n",
       "8              mt-YAP                              0   \n",
       "9              po-YAP                              0   \n",
       "\n",
       "   Length of Secondary treatment (mins)  ionbot_match_id  \n",
       "0                                     0             6509  \n",
       "1                                     0             7071  \n",
       "2                                     0             7500  \n",
       "3                                     0             7498  \n",
       "4                                     0            11183  \n",
       "5                                     0             4079  \n",
       "6                                     0             3054  \n",
       "7                                     0            10299  \n",
       "8                                     0             4314  \n",
       "9                                     0             3983  "
      ]
     },
     "execution_count": 5,
     "metadata": {},
     "output_type": "execute_result"
    }
   ],
   "source": [
    "first.groupby([\"Oxidant treatment\", \"Oxidant dose (µM)\", \"Length of oxidant treatment (mins)\", \"Secondary treatment\", \"Secondary treatment dose (µM)\", 'Length of Secondary treatment (mins)'])[\"ionbot_match_id\"].count().to_frame().reset_index()"
   ]
  },
  {
   "cell_type": "markdown",
   "metadata": {},
   "source": [
    "### Conditions that will be compared\n",
    "\n",
    "| N | Treatment | Treatment 2 | Treatment 3|\n",
    "| - | ----------- | ----------- | -------- |\n",
    "| 1 | None c-YAP | None mt-YAP | None po-YAP |\n",
    "| 2 | None c-YAP | H2O2 c-YAP | -- |\n",
    "| 3 | None mt-YAP | H2O2 mt-YAP | -- |\n",
    "| 4 | None po-YAP | H2O2 po-YAP | -- |\n",
    "\n",
    "And then a concentration-dependend analysis with condition 0-4 en 7"
   ]
  },
  {
   "cell_type": "code",
   "execution_count": 7,
   "metadata": {},
   "outputs": [],
   "source": [
    "H2O2c10 = first.loc[lambda first: (first[\"Oxidant dose (µM)\"] == 10)]\n",
    "H2O2c30 = first.loc[lambda first: (first[\"Oxidant dose (µM)\"] == 30)]\n",
    "H2O2c100 = first.loc[lambda first: (first[\"Oxidant dose (µM)\"] == 100)]\n",
    "H2O2c300 = first.loc[lambda first: (first[\"Oxidant dose (µM)\"] == 300)]\n",
    "H2O2c1000 = first.loc[lambda first: (first[\"Oxidant dose (µM)\"] == 1000) &  (first[\"Secondary treatment\"] == \"c-YAP\")]\n",
    "H2O2mt1000 = first.loc[lambda first: (first[\"Oxidant treatment\"] == \"H2O2\") & (first[\"Secondary treatment\"] == \"mt-YAP\")]\n",
    "H2O2po1000 = first.loc[lambda first: (first[\"Oxidant treatment\"] == \"H2O2\") & (first[\"Secondary treatment\"] == \"po-YAP\")]\n",
    "Nonec = first.loc[lambda first: (first[\"Oxidant treatment\"] == \"None\") & (first[\"Secondary treatment\"] == \"c-YAP\")]\n",
    "Nonemt = first.loc[lambda first: (first[\"Oxidant treatment\"] == \"None\") & (first[\"Secondary treatment\"] == \"mt-YAP\")]\n",
    "Nonepo = first.loc[lambda first: (first[\"Oxidant treatment\"] == \"None\") & (first[\"Secondary treatment\"] == \"po-YAP\")]"
   ]
  },
  {
   "cell_type": "markdown",
   "metadata": {},
   "source": [
    "## Comparison between the treatments\n",
    "### 1) No treatment, with proteins isolated from cytosol, mitochondria and peroxisomes"
   ]
  },
  {
   "cell_type": "code",
   "execution_count": 12,
   "metadata": {},
   "outputs": [
    {
     "name": "stdout",
     "output_type": "stream",
     "text": [
      "There are this many replicates of None-c treatment: 2\n",
      "There are this many replicates of None-mt treatment: 1\n",
      "There are this many replicates of None-po treatment: 1\n"
     ]
    }
   ],
   "source": [
    "print(\"There are this many replicates of None-c treatment: {}\".format(Nonec[\"spectrum_file\"].nunique()))\n",
    "print(\"There are this many replicates of None-mt treatment: {}\".format(Nonemt[\"spectrum_file\"].nunique()))\n",
    "print(\"There are this many replicates of None-po treatment: {}\".format(Nonepo[\"spectrum_file\"].nunique()))"
   ]
  },
  {
   "cell_type": "markdown",
   "metadata": {},
   "source": [
    "Check this??"
   ]
  }
 ],
 "metadata": {
  "kernelspec": {
   "display_name": "Python 3.9.10 ('base')",
   "language": "python",
   "name": "python3"
  },
  "language_info": {
   "codemirror_mode": {
    "name": "ipython",
    "version": 3
   },
   "file_extension": ".py",
   "mimetype": "text/x-python",
   "name": "python",
   "nbconvert_exporter": "python",
   "pygments_lexer": "ipython3",
   "version": "3.9.10"
  },
  "orig_nbformat": 4,
  "vscode": {
   "interpreter": {
    "hash": "647b7bb0e2c7b48f38d1d074e96c0b89f6a9ad4582aa349d5754d73cf165f97e"
   }
  }
 },
 "nbformat": 4,
 "nbformat_minor": 2
}
