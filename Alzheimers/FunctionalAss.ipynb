{
 "cells": [
  {
   "cell_type": "code",
   "execution_count": 2,
   "metadata": {},
   "outputs": [],
   "source": [
    "import pandas as pd\n",
    "import os\n",
    "import requests as r"
   ]
  },
  {
   "cell_type": "code",
   "execution_count": 3,
   "metadata": {},
   "outputs": [],
   "source": [
    "path = \"/home/robbe/ionbot/ionbot_0.9.5/PXD016278/ionbot_files\"\n",
    "subdirs = [dirname for dirname in os.listdir(path)]"
   ]
  },
  {
   "cell_type": "code",
   "execution_count": 4,
   "metadata": {},
   "outputs": [],
   "source": [
    "Dioxidated_proteins = set()\n",
    "DioxidatedW_proteins = set()\n",
    "Dioxidated_proteins_controls = set()\n",
    "DioxidatedW_proteins_controls = set()\n",
    "for subdir in subdirs:\n",
    "    if \"_AD2_\" in subdir:\n",
    "        with open(path + \"/\" + subdir + \"/ionbot.modifications.csv\") as fn:\n",
    "            for line in fn.readlines():\n",
    "                linelist = line.split(\",\")\n",
    "                unexpected_modification = linelist[2]\n",
    "                protein = linelist[1]\n",
    "                if \"Dioxidation\" in unexpected_modification and not \"sp\" in protein:\n",
    "                    Dioxidated_proteins.add(protein)\n",
    "                if \"Dioxidation[W]\" in unexpected_modification and not \"sp\" in protein:\n",
    "                    DioxidatedW_proteins.add(protein)\n",
    "    if \"_ctrl2_\" in subdir:\n",
    "        with open(path + \"/\" + subdir + \"/ionbot.modifications.csv\") as fn:\n",
    "            for line in fn.readlines():\n",
    "                linelist = line.split(\",\")\n",
    "                unexpected_modification = linelist[2]\n",
    "                protein = linelist[1]\n",
    "                if \"Dioxidation\" in unexpected_modification and not \"sp\" in protein:\n",
    "                    Dioxidated_proteins_controls.add(protein)\n",
    "                if \"Dioxidation[W]\" in unexpected_modification and not \"sp\" in protein:\n",
    "                    DioxidatedW_proteins_controls.add(protein)\n",
    "\n",
    "Dioxidated_proteins_controlled = Dioxidated_proteins - Dioxidated_proteins_controls\n",
    "DioxidatedW_proteins_controlled = DioxidatedW_proteins - DioxidatedW_proteins_controls"
   ]
  },
  {
   "attachments": {},
   "cell_type": "markdown",
   "metadata": {},
   "source": [
    "See file for functional_enrichment for dioxidation[W] proteins"
   ]
  },
  {
   "cell_type": "code",
   "execution_count": 5,
   "metadata": {},
   "outputs": [],
   "source": [
    "Dioxidated_proteins = {}\n",
    "DioxidatedW_proteins = {}\n",
    "Dioxidated_proteins_controls = {}\n",
    "DioxidatedW_proteins_controls = {}\n",
    "for subdir in subdirs:\n",
    "    if \"_AD2_\" in subdir:\n",
    "        with open(path + \"/\" + subdir + \"/ionbot.modifications.csv\") as fn:\n",
    "            for line in fn.readlines():\n",
    "                linelist = line.split(\",\")\n",
    "                unexpected_modification = linelist[2]\n",
    "                protein = linelist[1]\n",
    "                position = linelist[3]\n",
    "                if \"Dioxidation\" in unexpected_modification and not \"sp\" in protein:\n",
    "                    Dioxidated_proteins[protein] = position\n",
    "                if \"Dioxidation[W]\" in unexpected_modification and not \"sp\" in protein:\n",
    "                    DioxidatedW_proteins[protein] = position\n",
    "    if \"_ctrl2_\" in subdir:\n",
    "        with open(path + \"/\" + subdir + \"/ionbot.modifications.csv\") as fn:\n",
    "            for line in fn.readlines():\n",
    "                linelist = line.split(\",\")\n",
    "                unexpected_modification = linelist[2]\n",
    "                protein = linelist[1]\n",
    "                position = linelist[3]\n",
    "                if \"Dioxidation\" in unexpected_modification and not \"sp\" in protein:\n",
    "                    Dioxidated_proteins_controls[protein] = position\n",
    "                if \"Dioxidation[W]\" in unexpected_modification and not \"sp\" in protein:\n",
    "                    DioxidatedW_proteins_controls[protein] = position\n",
    "\n",
    "Dioxidated_proteins_set = {}\n",
    "DioxidatedW_proteins_set = {}\n",
    "Dioxidated_proteins_controls_set = {}\n",
    "DioxidatedW_proteins_controls_set = {}\n",
    "Dioxidated_proteins_controlled_set = {}\n",
    "DioxidatedW_proteins_controlled_set = {}\n",
    "\n",
    "for key,value in Dioxidated_proteins.items():\n",
    "    if value not in Dioxidated_proteins_set.values():\n",
    "        Dioxidated_proteins_set[key] = value\n",
    "\n",
    "for key,value in DioxidatedW_proteins.items():\n",
    "    if value not in DioxidatedW_proteins_set.values():\n",
    "        DioxidatedW_proteins_set[key] = value       \n",
    "\n",
    "for key,value in Dioxidated_proteins_controls.items():\n",
    "    if value not in Dioxidated_proteins_controls_set.values():\n",
    "        Dioxidated_proteins_controls_set[key] = value    \n",
    "\n",
    "for key,value in DioxidatedW_proteins_controls.items():\n",
    "    if value not in DioxidatedW_proteins_controls_set.values():\n",
    "        DioxidatedW_proteins_controls_set[key] = value  \n",
    "\n",
    "for key,value in Dioxidated_proteins.items():\n",
    "    if value not in Dioxidated_proteins_controls_set.values():\n",
    "        Dioxidated_proteins_controlled_set[key] = value\n",
    "\n",
    "for key,value in DioxidatedW_proteins.items():\n",
    "    if value not in DioxidatedW_proteins_controls_set.values():\n",
    "        DioxidatedW_proteins_controlled_set[key] = value"
   ]
  },
  {
   "cell_type": "code",
   "execution_count": 6,
   "metadata": {},
   "outputs": [],
   "source": [
    "with open(\"Dioxidated_proteins.txt\", \"w\") as fn:\n",
    "    fn.write(\"Protein\\tCenterPosition\\n\")\n",
    "    for key, value in Dioxidated_proteins_controlled_set.items():\n",
    "        fn.write(\"{}\\t{}\\n\".format(key, value))\n",
    "\n",
    "    fn.close()"
   ]
  },
  {
   "cell_type": "code",
   "execution_count": 7,
   "metadata": {},
   "outputs": [],
   "source": [
    "with open(\"DioxidatedW_proteins.txt\", \"w\") as fn:\n",
    "    fn.write(\"Protein\\tCenterPosition\\n\")\n",
    "    for key, value in DioxidatedW_proteins_controlled_set.items():\n",
    "        fn.write(\"{}\\t{}\\n\".format(key, value))\n",
    "\n",
    "    fn.close()"
   ]
  },
  {
   "cell_type": "code",
   "execution_count": 8,
   "metadata": {},
   "outputs": [],
   "source": [
    "Kynureninprots = {}\n",
    "for subdir in subdirs:\n",
    "    if \"_AD2_\" in subdir:\n",
    "        with open(path + \"/\" + subdir + \"/ionbot.modifications.csv\") as fn:\n",
    "            for line in fn.readlines():\n",
    "                linelist = line.split(\",\")\n",
    "                unexpected_modification = linelist[2]\n",
    "                protein = linelist[1]\n",
    "                position = linelist[3]\n",
    "                if \"Trp->Kynurenin[W]\" in unexpected_modification and not \"sp\" in protein:\n",
    "                    Kynureninprots[protein] = position\n",
    "\n",
    "Kynureninprots_set = {}\n",
    "for key,value in Kynureninprots.items():\n",
    "    if value not in Kynureninprots_set.values():\n",
    "        Kynureninprots_set[key] = value\n",
    "\n",
    "with open(\"Kynureninprots_proteins.txt\", \"w\") as fn:\n",
    "    fn.write(\"Protein\\tCenterPosition\\n\")\n",
    "    for key, value in Kynureninprots_set.items():\n",
    "        fn.write(\"{}\\t{}\\n\".format(key, value))\n",
    "\n",
    "    fn.close()"
   ]
  }
 ],
 "metadata": {
  "kernelspec": {
   "display_name": "base",
   "language": "python",
   "name": "python3"
  },
  "language_info": {
   "codemirror_mode": {
    "name": "ipython",
    "version": 3
   },
   "file_extension": ".py",
   "mimetype": "text/x-python",
   "name": "python",
   "nbconvert_exporter": "python",
   "pygments_lexer": "ipython3",
   "version": "3.9.10"
  },
  "orig_nbformat": 4,
  "vscode": {
   "interpreter": {
    "hash": "647b7bb0e2c7b48f38d1d074e96c0b89f6a9ad4582aa349d5754d73cf165f97e"
   }
  }
 },
 "nbformat": 4,
 "nbformat_minor": 2
}
