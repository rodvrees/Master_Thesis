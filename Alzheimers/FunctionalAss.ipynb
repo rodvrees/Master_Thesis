{
 "cells": [
  {
   "cell_type": "code",
   "execution_count": 1,
   "metadata": {},
   "outputs": [],
   "source": [
    "import pandas as pd\n",
    "import os\n",
    "import requests as r"
   ]
  },
  {
   "cell_type": "code",
   "execution_count": 2,
   "metadata": {},
   "outputs": [],
   "source": [
    "path = \"/home/robbe/ionbot/ionbot_0.9.5/PXD016278/ionbot_files\"\n",
    "subdirs = [dirname for dirname in os.listdir(path)]"
   ]
  },
  {
   "cell_type": "code",
   "execution_count": 3,
   "metadata": {},
   "outputs": [],
   "source": [
    "Dioxidated_proteins = set()\n",
    "DioxidatedW_proteins = set()\n",
    "Dioxidated_proteins_controls = set()\n",
    "DioxidatedW_proteins_controls = set()\n",
    "for subdir in subdirs:\n",
    "    if \"_AD2_\" in subdir:\n",
    "        with open(path + \"/\" + subdir + \"/ionbot.modifications.csv\") as fn:\n",
    "            for line in fn.readlines():\n",
    "                linelist = line.split(\",\")\n",
    "                unexpected_modification = linelist[2]\n",
    "                protein = linelist[1]\n",
    "                if \"Dioxidation\" in unexpected_modification and not \"sp\" in protein:\n",
    "                    Dioxidated_proteins.add(protein)\n",
    "                if \"Dioxidation[W]\" in unexpected_modification and not \"sp\" in protein:\n",
    "                    DioxidatedW_proteins.add(protein)\n",
    "    if \"_ctrl2_\" in subdir:\n",
    "        with open(path + \"/\" + subdir + \"/ionbot.modifications.csv\") as fn:\n",
    "            for line in fn.readlines():\n",
    "                linelist = line.split(\",\")\n",
    "                unexpected_modification = linelist[2]\n",
    "                protein = linelist[1]\n",
    "                if \"Dioxidation\" in unexpected_modification and not \"sp\" in protein:\n",
    "                    Dioxidated_proteins_controls.add(protein)\n",
    "                if \"Dioxidation[W]\" in unexpected_modification and not \"sp\" in protein:\n",
    "                    DioxidatedW_proteins_controls.add(protein)\n",
    "\n",
    "Dioxidated_proteins_controlled = Dioxidated_proteins - Dioxidated_proteins_controls\n",
    "DioxidatedW_proteins_controlled = DioxidatedW_proteins - DioxidatedW_proteins_controls"
   ]
  },
  {
   "attachments": {},
   "cell_type": "markdown",
   "metadata": {},
   "source": [
    "See file for functional_enrichment for dioxidation[W] proteins"
   ]
  },
  {
   "cell_type": "code",
   "execution_count": 4,
   "metadata": {},
   "outputs": [],
   "source": [
    "Dioxidated_proteins = {}\n",
    "DioxidatedW_proteins = {}\n",
    "Dioxidated_proteins_controls = {}\n",
    "DioxidatedW_proteins_controls = {}\n",
    "for subdir in subdirs:\n",
    "    if \"_AD2_\" in subdir:\n",
    "        with open(path + \"/\" + subdir + \"/ionbot.modifications.csv\") as fn:\n",
    "            for line in fn.readlines():\n",
    "                linelist = line.split(\",\")\n",
    "                unexpected_modification = linelist[2]\n",
    "                protein = linelist[1]\n",
    "                position = linelist[3]\n",
    "                if \"Dioxidation\" in unexpected_modification and not \"sp\" in protein:\n",
    "                    Dioxidated_proteins[protein] = position\n",
    "                if \"Dioxidation[W]\" in unexpected_modification and not \"sp\" in protein:\n",
    "                    DioxidatedW_proteins[protein] = position\n",
    "    if \"_ctrl2_\" in subdir:\n",
    "        with open(path + \"/\" + subdir + \"/ionbot.modifications.csv\") as fn:\n",
    "            for line in fn.readlines():\n",
    "                linelist = line.split(\",\")\n",
    "                unexpected_modification = linelist[2]\n",
    "                protein = linelist[1]\n",
    "                position = linelist[3]\n",
    "                if \"Dioxidation\" in unexpected_modification and not \"sp\" in protein:\n",
    "                    Dioxidated_proteins_controls[protein] = position\n",
    "                if \"Dioxidation[W]\" in unexpected_modification and not \"sp\" in protein:\n",
    "                    DioxidatedW_proteins_controls[protein] = position\n",
    "\n",
    "Dioxidated_proteins_set = {}\n",
    "DioxidatedW_proteins_set = {}\n",
    "Dioxidated_proteins_controls_set = {}\n",
    "DioxidatedW_proteins_controls_set = {}\n",
    "Dioxidated_proteins_controlled_set = {}\n",
    "DioxidatedW_proteins_controlled_set = {}\n",
    "\n",
    "for key,value in Dioxidated_proteins.items():\n",
    "    if value not in Dioxidated_proteins_set.values():\n",
    "        Dioxidated_proteins_set[key] = value\n",
    "\n",
    "for key,value in DioxidatedW_proteins.items():\n",
    "    if value not in DioxidatedW_proteins_set.values():\n",
    "        DioxidatedW_proteins_set[key] = value       \n",
    "\n",
    "for key,value in Dioxidated_proteins_controls.items():\n",
    "    if value not in Dioxidated_proteins_controls_set.values():\n",
    "        Dioxidated_proteins_controls_set[key] = value    \n",
    "\n",
    "for key,value in DioxidatedW_proteins_controls.items():\n",
    "    if value not in DioxidatedW_proteins_controls_set.values():\n",
    "        DioxidatedW_proteins_controls_set[key] = value  \n",
    "\n",
    "for key,value in Dioxidated_proteins.items():\n",
    "    if value not in Dioxidated_proteins_controls_set.values():\n",
    "        Dioxidated_proteins_controlled_set[key] = value\n",
    "\n",
    "for key,value in DioxidatedW_proteins.items():\n",
    "    if value not in DioxidatedW_proteins_controls_set.values():\n",
    "        DioxidatedW_proteins_controlled_set[key] = value"
   ]
  },
  {
   "cell_type": "code",
   "execution_count": 5,
   "metadata": {},
   "outputs": [],
   "source": [
    "with open(\"Dioxidated_proteins.txt\", \"w\") as fn:\n",
    "    fn.write(\"Protein\\tCenterPosition\\n\")\n",
    "    for key, value in Dioxidated_proteins_controlled_set.items():\n",
    "        fn.write(\"{}\\t{}\\n\".format(key, value))\n",
    "\n",
    "    fn.close()"
   ]
  },
  {
   "cell_type": "code",
   "execution_count": 6,
   "metadata": {},
   "outputs": [],
   "source": [
    "with open(\"DioxidatedW_proteins.txt\", \"w\") as fn:\n",
    "    fn.write(\"Protein\\tCenterPosition\\n\")\n",
    "    for key, value in DioxidatedW_proteins_controlled_set.items():\n",
    "        fn.write(\"{}\\t{}\\n\".format(key, value))\n",
    "\n",
    "    fn.close()"
   ]
  },
  {
   "cell_type": "code",
   "execution_count": 7,
   "metadata": {},
   "outputs": [],
   "source": [
    "Kynureninprots = {}\n",
    "for subdir in subdirs:\n",
    "    if \"_AD2_\" in subdir:\n",
    "        with open(path + \"/\" + subdir + \"/ionbot.modifications.csv\") as fn:\n",
    "            for line in fn.readlines():\n",
    "                linelist = line.split(\",\")\n",
    "                unexpected_modification = linelist[2]\n",
    "                protein = linelist[1]\n",
    "                position = linelist[3]\n",
    "                if \"Trp->Kynurenin[W]\" in unexpected_modification and not \"sp\" in protein:\n",
    "                    Kynureninprots[protein] = position\n",
    "\n",
    "Kynureninprots_set = {}\n",
    "for key,value in Kynureninprots.items():\n",
    "    if value not in Kynureninprots_set.values():\n",
    "        Kynureninprots_set[key] = value\n",
    "\n",
    "with open(\"Kynureninprots_proteins.txt\", \"w\") as fn:\n",
    "    fn.write(\"Protein\\tCenterPosition\\n\")\n",
    "    for key, value in Kynureninprots_set.items():\n",
    "        fn.write(\"{}\\t{}\\n\".format(key, value))\n",
    "\n",
    "    fn.close()"
   ]
  },
  {
   "cell_type": "code",
   "execution_count": 8,
   "metadata": {},
   "outputs": [],
   "source": [
    "quant = pd.read_csv(\"/home/robbe/ionbot/ionbot_0.9.5/PXD016278/flashlfq/QuantifiedPeptides.tsv\", sep=\"\\t\")"
   ]
  },
  {
   "cell_type": "code",
   "execution_count": 9,
   "metadata": {},
   "outputs": [],
   "source": [
    "quant[\"Modifications\"] = quant[\"Sequence\"].str.split(\"|\").str[1]"
   ]
  },
  {
   "cell_type": "code",
   "execution_count": 10,
   "metadata": {},
   "outputs": [],
   "source": [
    "quant = quant[~quant[\"Modifications\"].isna()]\n",
    "kynurenin = quant[quant[\"Modifications\"].str.contains(\"Trp->Kynurenin\")]"
   ]
  },
  {
   "cell_type": "code",
   "execution_count": 11,
   "metadata": {},
   "outputs": [
    {
     "data": {
      "text/plain": [
       "1291"
      ]
     },
     "execution_count": 11,
     "metadata": {},
     "output_type": "execute_result"
    }
   ],
   "source": [
    "kynurenin.shape[0]"
   ]
  },
  {
   "attachments": {},
   "cell_type": "markdown",
   "metadata": {},
   "source": [
    "1291 quantified peptides modified with kynurenin"
   ]
  },
  {
   "cell_type": "code",
   "execution_count": 12,
   "metadata": {},
   "outputs": [],
   "source": [
    "kynureninP = kynurenin[kynurenin[\"Base Sequence\"].str.contains(\"P\")]"
   ]
  },
  {
   "cell_type": "code",
   "execution_count": 13,
   "metadata": {},
   "outputs": [
    {
     "data": {
      "text/plain": [
       "628"
      ]
     },
     "execution_count": 13,
     "metadata": {},
     "output_type": "execute_result"
    }
   ],
   "source": [
    "kynureninP.shape[0]"
   ]
  },
  {
   "cell_type": "code",
   "execution_count": 14,
   "metadata": {},
   "outputs": [
    {
     "data": {
      "text/plain": [
       "0.48644461657629745"
      ]
     },
     "execution_count": 14,
     "metadata": {},
     "output_type": "execute_result"
    }
   ],
   "source": [
    "628/1291"
   ]
  },
  {
   "attachments": {},
   "cell_type": "markdown",
   "metadata": {},
   "source": [
    "Half of the peptides that are modified with kynurenin contained a proline"
   ]
  },
  {
   "cell_type": "code",
   "execution_count": 15,
   "metadata": {},
   "outputs": [
    {
     "data": {
      "text/html": [
       "<div>\n",
       "<style scoped>\n",
       "    .dataframe tbody tr th:only-of-type {\n",
       "        vertical-align: middle;\n",
       "    }\n",
       "\n",
       "    .dataframe tbody tr th {\n",
       "        vertical-align: top;\n",
       "    }\n",
       "\n",
       "    .dataframe thead th {\n",
       "        text-align: right;\n",
       "    }\n",
       "</style>\n",
       "<table border=\"1\" class=\"dataframe\">\n",
       "  <thead>\n",
       "    <tr style=\"text-align: right;\">\n",
       "      <th></th>\n",
       "      <th>Base Sequence</th>\n",
       "      <th>Protein Groups</th>\n",
       "    </tr>\n",
       "  </thead>\n",
       "  <tbody>\n",
       "    <tr>\n",
       "      <th>172</th>\n",
       "      <td>AADDTWEPFASGK</td>\n",
       "      <td>TTHY_HUMAN</td>\n",
       "    </tr>\n",
       "    <tr>\n",
       "      <th>246</th>\n",
       "      <td>AADDTWEPFASGKTSESGELHGLTTEEEFVEGIYK</td>\n",
       "      <td>TTHY_HUMAN</td>\n",
       "    </tr>\n",
       "    <tr>\n",
       "      <th>253</th>\n",
       "      <td>AADDTWEPFASGKTSESGELHGLTTEEEFVEGIYKVEIDTK</td>\n",
       "      <td>TTHY_HUMAN</td>\n",
       "    </tr>\n",
       "    <tr>\n",
       "      <th>611</th>\n",
       "      <td>AAGVPSATITWR</td>\n",
       "      <td>PGBM_HUMAN</td>\n",
       "    </tr>\n",
       "    <tr>\n",
       "      <th>664</th>\n",
       "      <td>AALAPYNWPVWLGVHDR</td>\n",
       "      <td>CLC11_HUMAN</td>\n",
       "    </tr>\n",
       "    <tr>\n",
       "      <th>...</th>\n",
       "      <td>...</td>\n",
       "      <td>...</td>\n",
       "    </tr>\n",
       "    <tr>\n",
       "      <th>108233</th>\n",
       "      <td>YVHGIAVHWYLDFLAPAK</td>\n",
       "      <td>GLCM_HUMAN</td>\n",
       "    </tr>\n",
       "    <tr>\n",
       "      <th>108437</th>\n",
       "      <td>YWLHYLHPILR</td>\n",
       "      <td>B4GT2_HUMAN</td>\n",
       "    </tr>\n",
       "    <tr>\n",
       "      <th>108444</th>\n",
       "      <td>YWLYYLHPVLQR</td>\n",
       "      <td>B4GT1_HUMAN</td>\n",
       "    </tr>\n",
       "    <tr>\n",
       "      <th>108448</th>\n",
       "      <td>YWPVLDNALR</td>\n",
       "      <td>;PLD4_HUMAN</td>\n",
       "    </tr>\n",
       "    <tr>\n",
       "      <th>108521</th>\n",
       "      <td>YYPASPWVDNSR</td>\n",
       "      <td>CA2D1_HUMAN</td>\n",
       "    </tr>\n",
       "  </tbody>\n",
       "</table>\n",
       "<p>628 rows × 2 columns</p>\n",
       "</div>"
      ],
      "text/plain": [
       "                                    Base Sequence Protein Groups\n",
       "172                                 AADDTWEPFASGK     TTHY_HUMAN\n",
       "246           AADDTWEPFASGKTSESGELHGLTTEEEFVEGIYK     TTHY_HUMAN\n",
       "253     AADDTWEPFASGKTSESGELHGLTTEEEFVEGIYKVEIDTK     TTHY_HUMAN\n",
       "611                                  AAGVPSATITWR     PGBM_HUMAN\n",
       "664                             AALAPYNWPVWLGVHDR    CLC11_HUMAN\n",
       "...                                           ...            ...\n",
       "108233                         YVHGIAVHWYLDFLAPAK     GLCM_HUMAN\n",
       "108437                                YWLHYLHPILR    B4GT2_HUMAN\n",
       "108444                               YWLYYLHPVLQR    B4GT1_HUMAN\n",
       "108448                                 YWPVLDNALR    ;PLD4_HUMAN\n",
       "108521                               YYPASPWVDNSR    CA2D1_HUMAN\n",
       "\n",
       "[628 rows x 2 columns]"
      ]
     },
     "execution_count": 15,
     "metadata": {},
     "output_type": "execute_result"
    }
   ],
   "source": [
    "kynureninP[[\"Base Sequence\", \"Protein Groups\"]]"
   ]
  },
  {
   "cell_type": "code",
   "execution_count": 16,
   "metadata": {},
   "outputs": [
    {
     "ename": "KeyboardInterrupt",
     "evalue": "",
     "output_type": "error",
     "traceback": [
      "\u001b[0;31m---------------------------------------------------------------------------\u001b[0m",
      "\u001b[0;31mKeyboardInterrupt\u001b[0m                         Traceback (most recent call last)",
      "\u001b[1;32m/home/robbe/ionbot/Alzheimers/FunctionalAss.ipynb Cell 19\u001b[0m in \u001b[0;36m<module>\u001b[0;34m\u001b[0m\n\u001b[1;32m      <a href='vscode-notebook-cell://ssh-remote%2B7b22686f73744e616d65223a22506f77657265646765227d/home/robbe/ionbot/Alzheimers/FunctionalAss.ipynb#X24sdnNjb2RlLXJlbW90ZQ%3D%3D?line=2'>3</a>\u001b[0m \u001b[39mfor\u001b[39;00m seq \u001b[39min\u001b[39;00m kynureninP[\u001b[39m\"\u001b[39m\u001b[39mBase Sequence\u001b[39m\u001b[39m\"\u001b[39m]:\n\u001b[1;32m      <a href='vscode-notebook-cell://ssh-remote%2B7b22686f73744e616d65223a22506f77657265646765227d/home/robbe/ionbot/Alzheimers/FunctionalAss.ipynb#X24sdnNjb2RlLXJlbW90ZQ%3D%3D?line=3'>4</a>\u001b[0m     seq \u001b[39m=\u001b[39m seq\u001b[39m.\u001b[39mreplace(\u001b[39m\"\u001b[39m\u001b[39mP\u001b[39m\u001b[39m\"\u001b[39m, \u001b[39m\"\u001b[39m\u001b[39mT\u001b[39m\u001b[39m\"\u001b[39m, \u001b[39m1\u001b[39m)\n\u001b[0;32m----> <a href='vscode-notebook-cell://ssh-remote%2B7b22686f73744e616d65223a22506f77657265646765227d/home/robbe/ionbot/Alzheimers/FunctionalAss.ipynb#X24sdnNjb2RlLXJlbW90ZQ%3D%3D?line=4'>5</a>\u001b[0m     result \u001b[39m=\u001b[39m NCBIWWW\u001b[39m.\u001b[39;49mqblast(\u001b[39m\"\u001b[39;49m\u001b[39mblastp\u001b[39;49m\u001b[39m\"\u001b[39;49m, \u001b[39m\"\u001b[39;49m\u001b[39mnr\u001b[39;49m\u001b[39m\"\u001b[39;49m, sequence\u001b[39m=\u001b[39;49mseq, hitlist_size\u001b[39m=\u001b[39;49m\u001b[39m5\u001b[39;49m)\n\u001b[1;32m      <a href='vscode-notebook-cell://ssh-remote%2B7b22686f73744e616d65223a22506f77657265646765227d/home/robbe/ionbot/Alzheimers/FunctionalAss.ipynb#X24sdnNjb2RlLXJlbW90ZQ%3D%3D?line=5'>6</a>\u001b[0m     blast_records \u001b[39m=\u001b[39m NCBIXML\u001b[39m.\u001b[39mparse(result)\n\u001b[1;32m      <a href='vscode-notebook-cell://ssh-remote%2B7b22686f73744e616d65223a22506f77657265646765227d/home/robbe/ionbot/Alzheimers/FunctionalAss.ipynb#X24sdnNjb2RlLXJlbW90ZQ%3D%3D?line=6'>7</a>\u001b[0m     \u001b[39mfor\u001b[39;00m blast_record \u001b[39min\u001b[39;00m blast_records:\n",
      "File \u001b[0;32m~/miniconda3/lib/python3.9/site-packages/Bio/Blast/NCBIWWW.py:246\u001b[0m, in \u001b[0;36mqblast\u001b[0;34m(program, database, sequence, url_base, auto_format, composition_based_statistics, db_genetic_code, endpoints, entrez_query, expect, filter, gapcosts, genetic_code, hitlist_size, i_thresh, layout, lcase_mask, matrix_name, nucl_penalty, nucl_reward, other_advanced, perc_ident, phi_pattern, query_file, query_believe_defline, query_from, query_to, searchsp_eff, service, threshold, ungapped_alignment, word_size, short_query, alignments, alignment_view, descriptions, entrez_links_new_window, expect_low, expect_high, format_entrez_query, format_object, format_type, ncbi_gi, results_file, show_overview, megablast, template_type, template_length)\u001b[0m\n\u001b[1;32m    244\u001b[0m wait \u001b[39m=\u001b[39m qblast\u001b[39m.\u001b[39m_previous \u001b[39m+\u001b[39m delay \u001b[39m-\u001b[39m current\n\u001b[1;32m    245\u001b[0m \u001b[39mif\u001b[39;00m wait \u001b[39m>\u001b[39m \u001b[39m0\u001b[39m:\n\u001b[0;32m--> 246\u001b[0m     time\u001b[39m.\u001b[39;49msleep(wait)\n\u001b[1;32m    247\u001b[0m     qblast\u001b[39m.\u001b[39m_previous \u001b[39m=\u001b[39m current \u001b[39m+\u001b[39m wait\n\u001b[1;32m    248\u001b[0m \u001b[39melse\u001b[39;00m:\n",
      "\u001b[0;31mKeyboardInterrupt\u001b[0m: "
     ]
    }
   ],
   "source": [
    "from Bio.Blast import NCBIWWW\n",
    "from Bio.Blast import NCBIXML\n",
    "for seq in kynureninP[\"Base Sequence\"]:\n",
    "    seq = seq.replace(\"P\", \"T\", 1)\n",
    "    result = NCBIWWW.qblast(\"blastp\", \"nr\", sequence=seq, hitlist_size=5)\n",
    "    blast_records = NCBIXML.parse(result)\n",
    "    for blast_record in blast_records:\n",
    "        print(blast_record.database_sequences)"
   ]
  },
  {
   "cell_type": "code",
   "execution_count": 17,
   "metadata": {},
   "outputs": [],
   "source": [
    "Deeploc = pd.read_csv(\"Combined_trp_kyr_loc.csv\")"
   ]
  },
  {
   "cell_type": "code",
   "execution_count": 18,
   "metadata": {},
   "outputs": [],
   "source": [
    "Deeploc[\"Localizations\"] = Deeploc[\"Localizations\"].str.split(\"|\")"
   ]
  },
  {
   "cell_type": "code",
   "execution_count": 19,
   "metadata": {},
   "outputs": [],
   "source": [
    "Deeploc_exploded = Deeploc.explode(\"Localizations\")"
   ]
  },
  {
   "cell_type": "code",
   "execution_count": 20,
   "metadata": {},
   "outputs": [
    {
     "data": {
      "text/html": [
       "<div>\n",
       "<style scoped>\n",
       "    .dataframe tbody tr th:only-of-type {\n",
       "        vertical-align: middle;\n",
       "    }\n",
       "\n",
       "    .dataframe tbody tr th {\n",
       "        vertical-align: top;\n",
       "    }\n",
       "\n",
       "    .dataframe thead th {\n",
       "        text-align: right;\n",
       "    }\n",
       "</style>\n",
       "<table border=\"1\" class=\"dataframe\">\n",
       "  <thead>\n",
       "    <tr style=\"text-align: right;\">\n",
       "      <th></th>\n",
       "      <th>Protein_ID</th>\n",
       "      <th>Localizations</th>\n",
       "      <th>Signals</th>\n",
       "      <th>Cytoplasm</th>\n",
       "      <th>Nucleus</th>\n",
       "      <th>Extracellular</th>\n",
       "      <th>Cell membrane</th>\n",
       "      <th>Mitochondrion</th>\n",
       "      <th>Plastid</th>\n",
       "      <th>Endoplasmic reticulum</th>\n",
       "      <th>Lysosome/Vacuole</th>\n",
       "      <th>Golgi apparatus</th>\n",
       "      <th>Peroxisome</th>\n",
       "    </tr>\n",
       "  </thead>\n",
       "  <tbody>\n",
       "    <tr>\n",
       "      <th>105</th>\n",
       "      <td>sp_P18669_PGAM1_HUMAN</td>\n",
       "      <td>Mitochondrion</td>\n",
       "      <td>Nuclear localization signal</td>\n",
       "      <td>0.8584</td>\n",
       "      <td>0.3241</td>\n",
       "      <td>0.0834</td>\n",
       "      <td>0.1883</td>\n",
       "      <td>0.6875</td>\n",
       "      <td>0.0435</td>\n",
       "      <td>0.1869</td>\n",
       "      <td>0.0624</td>\n",
       "      <td>0.1606</td>\n",
       "      <td>0.0542</td>\n",
       "    </tr>\n",
       "    <tr>\n",
       "      <th>280</th>\n",
       "      <td>sp_P18669_PGAM1_HUMAN</td>\n",
       "      <td>Mitochondrion</td>\n",
       "      <td>Nuclear localization signal</td>\n",
       "      <td>0.8584</td>\n",
       "      <td>0.3241</td>\n",
       "      <td>0.0834</td>\n",
       "      <td>0.1883</td>\n",
       "      <td>0.6875</td>\n",
       "      <td>0.0435</td>\n",
       "      <td>0.1869</td>\n",
       "      <td>0.0624</td>\n",
       "      <td>0.1606</td>\n",
       "      <td>0.0542</td>\n",
       "    </tr>\n",
       "  </tbody>\n",
       "</table>\n",
       "</div>"
      ],
      "text/plain": [
       "                Protein_ID  Localizations                      Signals  \\\n",
       "105  sp_P18669_PGAM1_HUMAN  Mitochondrion  Nuclear localization signal   \n",
       "280  sp_P18669_PGAM1_HUMAN  Mitochondrion  Nuclear localization signal   \n",
       "\n",
       "     Cytoplasm  Nucleus  Extracellular  Cell membrane  Mitochondrion  Plastid  \\\n",
       "105     0.8584   0.3241         0.0834         0.1883         0.6875   0.0435   \n",
       "280     0.8584   0.3241         0.0834         0.1883         0.6875   0.0435   \n",
       "\n",
       "     Endoplasmic reticulum  Lysosome/Vacuole  Golgi apparatus  Peroxisome  \n",
       "105                 0.1869            0.0624           0.1606      0.0542  \n",
       "280                 0.1869            0.0624           0.1606      0.0542  "
      ]
     },
     "execution_count": 20,
     "metadata": {},
     "output_type": "execute_result"
    }
   ],
   "source": [
    "Deeploc_exploded[Deeploc_exploded[\"Localizations\"] == \"Mitochondrion\"]"
   ]
  },
  {
   "cell_type": "code",
   "execution_count": 22,
   "metadata": {},
   "outputs": [],
   "source": [
    "g = Deeploc_exploded.groupby(\"Localizations\").count()"
   ]
  },
  {
   "cell_type": "code",
   "execution_count": 25,
   "metadata": {},
   "outputs": [
    {
     "data": {
      "image/png": "[encoded data removed]",
      "text/plain": [
       "<Figure size 648x648 with 1 Axes>"
      ]
     },
     "metadata": {},
     "output_type": "display_data"
    }
   ],
   "source": [
    "ax = g.plot.pie(y=\"Protein_ID\", legend=False, autopct=lambda x: '{:.2f}%'.format(x), figsize=(9,9))"
   ]
  }
 ],
 "metadata": {
  "kernelspec": {
   "display_name": "base",
   "language": "python",
   "name": "python3"
  },
  "language_info": {
   "codemirror_mode": {
    "name": "ipython",
    "version": 3
   },
   "file_extension": ".py",
   "mimetype": "text/x-python",
   "name": "python",
   "nbconvert_exporter": "python",
   "pygments_lexer": "ipython3",
   "version": "3.9.7"
  },
  "orig_nbformat": 4,
  "vscode": {
   "interpreter": {
    "hash": "647b7bb0e2c7b48f38d1d074e96c0b89f6a9ad4582aa349d5754d73cf165f97e"
   }
  }
 },
 "nbformat": 4,
 "nbformat_minor": 2
}
