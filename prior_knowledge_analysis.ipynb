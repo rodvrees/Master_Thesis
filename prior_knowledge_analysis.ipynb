{
 "cells": [
  {
   "cell_type": "code",
   "execution_count": 2,
   "metadata": {},
   "outputs": [],
   "source": [
    "#Import libraries\n",
    "import pandas as pd\n",
    "import matplotlib.pyplot as plt\n",
    "import seaborn as sns\n",
    "import re\n",
    "import numpy as np\n",
    "import os\n",
    "from pathlib import Path\n",
    "from pyteomics import mass as pymass\n",
    "import OxiAnalysis as OA\n",
    "import importlib\n",
    "importlib.reload(OA)\n",
    "import warnings; warnings.simplefilter('ignore')"
   ]
  }
 ],
 "metadata": {
  "kernelspec": {
   "display_name": "Python 3.9.10 ('base')",
   "language": "python",
   "name": "python3"
  },
  "language_info": {
   "codemirror_mode": {
    "name": "ipython",
    "version": 3
   },
   "file_extension": ".py",
   "mimetype": "text/x-python",
   "name": "python",
   "nbconvert_exporter": "python",
   "pygments_lexer": "ipython3",
   "version": "3.9.10"
  },
  "orig_nbformat": 4,
  "vscode": {
   "interpreter": {
    "hash": "647b7bb0e2c7b48f38d1d074e96c0b89f6a9ad4582aa349d5754d73cf165f97e"
   }
  }
 },
 "nbformat": 4,
 "nbformat_minor": 2
}
