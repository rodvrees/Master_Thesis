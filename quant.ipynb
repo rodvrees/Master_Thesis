{
 "cells": [
  {
   "cell_type": "markdown",
   "metadata": {},
   "source": [
    "Check EDA.ipynb voor variabelen"
   ]
  },
  {
   "cell_type": "code",
   "execution_count": null,
   "metadata": {},
   "outputs": [],
   "source": [
    "#Spectral count of each peptidoform?\n",
    "spectrum_counts = first.groupby([\"matched_peptide\", \"modifications\", \"spectrum_file\"])['scan'].count().to_frame().reset_index()\n",
    "spectrum_counts"
   ]
  },
  {
   "cell_type": "code",
   "execution_count": null,
   "metadata": {},
   "outputs": [],
   "source": [
    "#Amount of spectrum files a certain peptidoform appears in\n",
    "peptidoform_counts = oxfirst.groupby([\"matched_peptide\", \"modifications\"])[\"spectrum_file\"].unique().to_frame().reset_index()\n",
    "peptidoform_counts[\"spectrum_file_count\"] = peptidoform_counts[\"spectrum_file\"].str.len()\n"
   ]
  },
  {
   "cell_type": "code",
   "execution_count": null,
   "metadata": {},
   "outputs": [],
   "source": [
    "peptidoform_counts[\"spectrum_file_count\"].unique()\n",
    "test = peptidoform_counts[peptidoform_counts[\"spectrum_file_count\"] > 25]\n",
    "#list of peptidoforms found in at least 25 spectrum files\n",
    "test"
   ]
  },
  {
   "cell_type": "markdown",
   "metadata": {},
   "source": [
    "I'm looking for peptidoform duo's that have at least 25 shared raw files, so I can put the spectral counts between the two in a graph. Zie notitieboek voor hoe dit te doen."
   ]
  }
 ],
 "metadata": {
  "kernelspec": {
   "display_name": "Python 3.9.2 64-bit",
   "language": "python",
   "name": "python3"
  },
  "language_info": {
   "name": "python",
   "version": "3.9.2"
  },
  "orig_nbformat": 4,
  "vscode": {
   "interpreter": {
    "hash": "e7370f93d1d0cde622a1f8e1c04877d8463912d04d973331ad4851f04de6915a"
   }
  }
 },
 "nbformat": 4,
 "nbformat_minor": 2
}
