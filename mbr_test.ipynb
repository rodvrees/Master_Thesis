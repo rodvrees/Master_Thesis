{
 "cells": [
  {
   "cell_type": "code",
   "execution_count": 63,
   "metadata": {},
   "outputs": [],
   "source": [
    "import pandas as pd\n",
    "import seaborn as sns\n",
    "import matplotlib.pyplot as plt"
   ]
  },
  {
   "cell_type": "markdown",
   "metadata": {},
   "source": [
    "x-axis = total quantifications\n",
    "\n",
    "y-axis = %-MBR quantifications"
   ]
  },
  {
   "cell_type": "code",
   "execution_count": 49,
   "metadata": {},
   "outputs": [],
   "source": [
    "ionbot = pd.read_csv(\"/home/robbe/ionbot/ionbot_0.9.5/PXD022545/mzml_files/QuantifiedPeptides.tsv\", sep=\"\\t\")\n",
    "fragger = pd.read_csv(\"/home/robbe/ionbot/Fragpipe_results/PXD022545/flashlfq/QuantifiedPeptides.tsv\", sep=\"\\t\")\n",
    "xtandem = pd.read_csv(\"/home/robbe/ionbot/XTandem_output/QuantifiedPeptides.tsv\", sep=\"\\t\")"
   ]
  },
  {
   "cell_type": "code",
   "execution_count": 50,
   "metadata": {},
   "outputs": [
    {
     "name": "stdout",
     "output_type": "stream",
     "text": [
      "ionbot IDs:  34444\n",
      "fragger IDs: 39454\n",
      "xtandem IDs: 15290\n"
     ]
    }
   ],
   "source": [
    "print(\"ionbot IDs: \",ionbot.shape[0])\n",
    "print(\"fragger IDs:\", fragger.shape[0])\n",
    "print(\"xtandem IDs:\", xtandem.shape[0])\n"
   ]
  },
  {
   "cell_type": "code",
   "execution_count": 51,
   "metadata": {},
   "outputs": [],
   "source": [
    "ionbotdt = ionbot.filter(regex=\"Detection\")\n",
    "ionbotratiodict = {\"search_engine\" : \"ionbot\"}\n",
    "for i in ionbotdt.columns:\n",
    "    ionbotratiodict[\"Total_IDS_{}\".format(i)] = ionbotdt[i].value_counts()[\"MSMS\"]\n",
    "    ratio = ionbotdt[i].value_counts()[\"MBR\"] / ionbotdt[i].value_counts()[\"MSMS\"]\n",
    "    ionbotratiodict[\"ratio_{}\".format(i)] = ratio"
   ]
  },
  {
   "cell_type": "code",
   "execution_count": 52,
   "metadata": {},
   "outputs": [
    {
     "data": {
      "text/plain": [
       "{'search_engine': 'ionbot',\n",
       " 'Total_IDS_Detection Type_2020-07-14_MS_PG_Proteome_Davide_Casserini_CTRL_01_20200717061234': 15848,\n",
       " 'ratio_Detection Type_2020-07-14_MS_PG_Proteome_Davide_Casserini_CTRL_01_20200717061234': 0.694977284199899,\n",
       " 'Total_IDS_Detection Type_2020-07-14_MS_PG_Proteome_Davide_Casserini_CTRL_02_20200717083719': 14890,\n",
       " 'ratio_Detection Type_2020-07-14_MS_PG_Proteome_Davide_Casserini_CTRL_02_20200717083719': 0.8000671591672264,\n",
       " 'Total_IDS_Detection Type_2020-07-14_MS_PG_Proteome_Davide_Casserini_CTRL_03_20200717110239': 18368,\n",
       " 'ratio_Detection Type_2020-07-14_MS_PG_Proteome_Davide_Casserini_CTRL_03_20200717110239': 0.47735191637630664,\n",
       " 'Total_IDS_Detection Type_2020-07-14_MS_PG_Proteome_Davide_Casserini_H2O2_01': 8379,\n",
       " 'ratio_Detection Type_2020-07-14_MS_PG_Proteome_Davide_Casserini_H2O2_01': 2.145363408521303,\n",
       " 'Total_IDS_Detection Type_2020-07-14_MS_PG_Proteome_Davide_Casserini_H2O2_02': 8690,\n",
       " 'ratio_Detection Type_2020-07-14_MS_PG_Proteome_Davide_Casserini_H2O2_02': 2.0197928653624855,\n",
       " 'Total_IDS_Detection Type_2020-07-14_MS_PG_Proteome_Davide_Casserini_H2O2_03': 11119,\n",
       " 'ratio_Detection Type_2020-07-14_MS_PG_Proteome_Davide_Casserini_H2O2_03': 1.4111880564798993}"
      ]
     },
     "execution_count": 52,
     "metadata": {},
     "output_type": "execute_result"
    }
   ],
   "source": [
    "ionbotratiodict"
   ]
  },
  {
   "cell_type": "code",
   "execution_count": 53,
   "metadata": {},
   "outputs": [],
   "source": [
    "fraggerdt = fragger.filter(regex=\"Detection\")\n",
    "fraggerratiodict = {\"search_engine\" : \"MSFragger\"}\n",
    "for i in fraggerdt.columns:\n",
    "    fraggerratiodict[\"Total_IDS_{}\".format(i)] = fraggerdt[i].value_counts()[\"MSMS\"]\n",
    "    ratio = fraggerdt[i].value_counts()[\"MBR\"] / fraggerdt[i].value_counts()[\"MSMS\"]\n",
    "    fraggerratiodict[\"ratio_{}\".format(i)] = ratio"
   ]
  },
  {
   "cell_type": "code",
   "execution_count": 54,
   "metadata": {},
   "outputs": [
    {
     "data": {
      "text/plain": [
       "{'search_engine': 'MSFragger',\n",
       " 'Total_IDS_Detection Type_2020-07-14_MS_PG_Proteome_Davide_Casserini_CTRL_01_20200717061234': 17397,\n",
       " 'ratio_Detection Type_2020-07-14_MS_PG_Proteome_Davide_Casserini_CTRL_01_20200717061234': 0.7151232971201932,\n",
       " 'Total_IDS_Detection Type_2020-07-14_MS_PG_Proteome_Davide_Casserini_CTRL_02_20200717083719': 16317,\n",
       " 'ratio_Detection Type_2020-07-14_MS_PG_Proteome_Davide_Casserini_CTRL_02_20200717083719': 0.8212293926579641,\n",
       " 'Total_IDS_Detection Type_2020-07-14_MS_PG_Proteome_Davide_Casserini_CTRL_03_20200717110239': 20043,\n",
       " 'ratio_Detection Type_2020-07-14_MS_PG_Proteome_Davide_Casserini_CTRL_03_20200717110239': 0.5007234445941227,\n",
       " 'Total_IDS_Detection Type_2020-07-14_MS_PG_Proteome_Davide_Casserini_H2O2_01': 8842,\n",
       " 'ratio_Detection Type_2020-07-14_MS_PG_Proteome_Davide_Casserini_H2O2_01': 2.278330694413029,\n",
       " 'Total_IDS_Detection Type_2020-07-14_MS_PG_Proteome_Davide_Casserini_H2O2_02': 9464,\n",
       " 'ratio_Detection Type_2020-07-14_MS_PG_Proteome_Davide_Casserini_H2O2_02': 2.056318681318681,\n",
       " 'Total_IDS_Detection Type_2020-07-14_MS_PG_Proteome_Davide_Casserini_H2O2_03': 11588,\n",
       " 'ratio_Detection Type_2020-07-14_MS_PG_Proteome_Davide_Casserini_H2O2_03': 1.5488436313427685}"
      ]
     },
     "execution_count": 54,
     "metadata": {},
     "output_type": "execute_result"
    }
   ],
   "source": [
    "fraggerratiodict"
   ]
  },
  {
   "cell_type": "code",
   "execution_count": 55,
   "metadata": {},
   "outputs": [],
   "source": [
    "xtandemdt = xtandem.filter(regex=\"Detection\")\n",
    "xtandemratiodict = {\"search_engine\" : \"X!Tandem\", \"total_IDs\" : c}\n",
    "for i in xtandemdt.columns:\n",
    "    xtandemratiodict[\"Total_IDS_{}\".format(i)] = xtandemdt[i].value_counts()[\"MSMS\"]\n",
    "    ratio = xtandemdt[i].value_counts()[\"MBR\"] / xtandemdt[i].value_counts()[\"MSMS\"]\n",
    "    xtandemratiodict[\"ratio_{}\".format(i)] = ratio"
   ]
  },
  {
   "cell_type": "code",
   "execution_count": 56,
   "metadata": {},
   "outputs": [
    {
     "data": {
      "text/plain": [
       "{'search_engine': 'X!Tandem',\n",
       " 'total_IDs': 15290,\n",
       " 'Total_IDS_Detection Type_2020-07-14_MS_PG_Proteome_Davide_Casserini_CTRL_01_20200717061234': 4108,\n",
       " 'ratio_Detection Type_2020-07-14_MS_PG_Proteome_Davide_Casserini_CTRL_01_20200717061234': 0.5099805258033107,\n",
       " 'Total_IDS_Detection Type_2020-07-14_MS_PG_Proteome_Davide_Casserini_CTRL_02_20200717083719': 3976,\n",
       " 'ratio_Detection Type_2020-07-14_MS_PG_Proteome_Davide_Casserini_CTRL_02_20200717083719': 0.5432595573440644,\n",
       " 'Total_IDS_Detection Type_2020-07-14_MS_PG_Proteome_Davide_Casserini_CTRL_03_20200717110239': 4701,\n",
       " 'ratio_Detection Type_2020-07-14_MS_PG_Proteome_Davide_Casserini_CTRL_03_20200717110239': 0.3786428419485216,\n",
       " 'Total_IDS_Detection Type_2020-07-14_MS_PG_Proteome_Davide_Casserini_H2O2_01': 2520,\n",
       " 'ratio_Detection Type_2020-07-14_MS_PG_Proteome_Davide_Casserini_H2O2_01': 1.305952380952381,\n",
       " 'Total_IDS_Detection Type_2020-07-14_MS_PG_Proteome_Davide_Casserini_H2O2_02': 2711,\n",
       " 'ratio_Detection Type_2020-07-14_MS_PG_Proteome_Davide_Casserini_H2O2_02': 1.1427517521209887,\n",
       " 'Total_IDS_Detection Type_2020-07-14_MS_PG_Proteome_Davide_Casserini_H2O2_03': 3341,\n",
       " 'ratio_Detection Type_2020-07-14_MS_PG_Proteome_Davide_Casserini_H2O2_03': 0.8718946423226579}"
      ]
     },
     "execution_count": 56,
     "metadata": {},
     "output_type": "execute_result"
    }
   ],
   "source": [
    "xtandemratiodict"
   ]
  },
  {
   "cell_type": "code",
   "execution_count": 57,
   "metadata": {},
   "outputs": [],
   "source": [
    "data = pd.DataFrame([ionbotratiodict, fraggerratiodict, xtandemratiodict])"
   ]
  },
  {
   "cell_type": "code",
   "execution_count": 58,
   "metadata": {},
   "outputs": [
    {
     "data": {
      "text/html": [
       "<div>\n",
       "<style scoped>\n",
       "    .dataframe tbody tr th:only-of-type {\n",
       "        vertical-align: middle;\n",
       "    }\n",
       "\n",
       "    .dataframe tbody tr th {\n",
       "        vertical-align: top;\n",
       "    }\n",
       "\n",
       "    .dataframe thead th {\n",
       "        text-align: right;\n",
       "    }\n",
       "</style>\n",
       "<table border=\"1\" class=\"dataframe\">\n",
       "  <thead>\n",
       "    <tr style=\"text-align: right;\">\n",
       "      <th></th>\n",
       "      <th>search_engine</th>\n",
       "      <th>Total_IDS_Detection Type_2020-07-14_MS_PG_Proteome_Davide_Casserini_CTRL_01_20200717061234</th>\n",
       "      <th>ratio_Detection Type_2020-07-14_MS_PG_Proteome_Davide_Casserini_CTRL_01_20200717061234</th>\n",
       "      <th>Total_IDS_Detection Type_2020-07-14_MS_PG_Proteome_Davide_Casserini_CTRL_02_20200717083719</th>\n",
       "      <th>ratio_Detection Type_2020-07-14_MS_PG_Proteome_Davide_Casserini_CTRL_02_20200717083719</th>\n",
       "      <th>Total_IDS_Detection Type_2020-07-14_MS_PG_Proteome_Davide_Casserini_CTRL_03_20200717110239</th>\n",
       "      <th>ratio_Detection Type_2020-07-14_MS_PG_Proteome_Davide_Casserini_CTRL_03_20200717110239</th>\n",
       "      <th>Total_IDS_Detection Type_2020-07-14_MS_PG_Proteome_Davide_Casserini_H2O2_01</th>\n",
       "      <th>ratio_Detection Type_2020-07-14_MS_PG_Proteome_Davide_Casserini_H2O2_01</th>\n",
       "      <th>Total_IDS_Detection Type_2020-07-14_MS_PG_Proteome_Davide_Casserini_H2O2_02</th>\n",
       "      <th>ratio_Detection Type_2020-07-14_MS_PG_Proteome_Davide_Casserini_H2O2_02</th>\n",
       "      <th>Total_IDS_Detection Type_2020-07-14_MS_PG_Proteome_Davide_Casserini_H2O2_03</th>\n",
       "      <th>ratio_Detection Type_2020-07-14_MS_PG_Proteome_Davide_Casserini_H2O2_03</th>\n",
       "      <th>total_IDs</th>\n",
       "    </tr>\n",
       "  </thead>\n",
       "  <tbody>\n",
       "    <tr>\n",
       "      <th>0</th>\n",
       "      <td>ionbot</td>\n",
       "      <td>15848</td>\n",
       "      <td>0.694977</td>\n",
       "      <td>14890</td>\n",
       "      <td>0.800067</td>\n",
       "      <td>18368</td>\n",
       "      <td>0.477352</td>\n",
       "      <td>8379</td>\n",
       "      <td>2.145363</td>\n",
       "      <td>8690</td>\n",
       "      <td>2.019793</td>\n",
       "      <td>11119</td>\n",
       "      <td>1.411188</td>\n",
       "      <td>NaN</td>\n",
       "    </tr>\n",
       "    <tr>\n",
       "      <th>1</th>\n",
       "      <td>MSFragger</td>\n",
       "      <td>17397</td>\n",
       "      <td>0.715123</td>\n",
       "      <td>16317</td>\n",
       "      <td>0.821229</td>\n",
       "      <td>20043</td>\n",
       "      <td>0.500723</td>\n",
       "      <td>8842</td>\n",
       "      <td>2.278331</td>\n",
       "      <td>9464</td>\n",
       "      <td>2.056319</td>\n",
       "      <td>11588</td>\n",
       "      <td>1.548844</td>\n",
       "      <td>NaN</td>\n",
       "    </tr>\n",
       "    <tr>\n",
       "      <th>2</th>\n",
       "      <td>X!Tandem</td>\n",
       "      <td>4108</td>\n",
       "      <td>0.509981</td>\n",
       "      <td>3976</td>\n",
       "      <td>0.543260</td>\n",
       "      <td>4701</td>\n",
       "      <td>0.378643</td>\n",
       "      <td>2520</td>\n",
       "      <td>1.305952</td>\n",
       "      <td>2711</td>\n",
       "      <td>1.142752</td>\n",
       "      <td>3341</td>\n",
       "      <td>0.871895</td>\n",
       "      <td>15290.0</td>\n",
       "    </tr>\n",
       "  </tbody>\n",
       "</table>\n",
       "</div>"
      ],
      "text/plain": [
       "  search_engine  \\\n",
       "0        ionbot   \n",
       "1     MSFragger   \n",
       "2      X!Tandem   \n",
       "\n",
       "   Total_IDS_Detection Type_2020-07-14_MS_PG_Proteome_Davide_Casserini_CTRL_01_20200717061234  \\\n",
       "0                                              15848                                            \n",
       "1                                              17397                                            \n",
       "2                                               4108                                            \n",
       "\n",
       "   ratio_Detection Type_2020-07-14_MS_PG_Proteome_Davide_Casserini_CTRL_01_20200717061234  \\\n",
       "0                                           0.694977                                        \n",
       "1                                           0.715123                                        \n",
       "2                                           0.509981                                        \n",
       "\n",
       "   Total_IDS_Detection Type_2020-07-14_MS_PG_Proteome_Davide_Casserini_CTRL_02_20200717083719  \\\n",
       "0                                              14890                                            \n",
       "1                                              16317                                            \n",
       "2                                               3976                                            \n",
       "\n",
       "   ratio_Detection Type_2020-07-14_MS_PG_Proteome_Davide_Casserini_CTRL_02_20200717083719  \\\n",
       "0                                           0.800067                                        \n",
       "1                                           0.821229                                        \n",
       "2                                           0.543260                                        \n",
       "\n",
       "   Total_IDS_Detection Type_2020-07-14_MS_PG_Proteome_Davide_Casserini_CTRL_03_20200717110239  \\\n",
       "0                                              18368                                            \n",
       "1                                              20043                                            \n",
       "2                                               4701                                            \n",
       "\n",
       "   ratio_Detection Type_2020-07-14_MS_PG_Proteome_Davide_Casserini_CTRL_03_20200717110239  \\\n",
       "0                                           0.477352                                        \n",
       "1                                           0.500723                                        \n",
       "2                                           0.378643                                        \n",
       "\n",
       "   Total_IDS_Detection Type_2020-07-14_MS_PG_Proteome_Davide_Casserini_H2O2_01  \\\n",
       "0                                               8379                             \n",
       "1                                               8842                             \n",
       "2                                               2520                             \n",
       "\n",
       "   ratio_Detection Type_2020-07-14_MS_PG_Proteome_Davide_Casserini_H2O2_01  \\\n",
       "0                                           2.145363                         \n",
       "1                                           2.278331                         \n",
       "2                                           1.305952                         \n",
       "\n",
       "   Total_IDS_Detection Type_2020-07-14_MS_PG_Proteome_Davide_Casserini_H2O2_02  \\\n",
       "0                                               8690                             \n",
       "1                                               9464                             \n",
       "2                                               2711                             \n",
       "\n",
       "   ratio_Detection Type_2020-07-14_MS_PG_Proteome_Davide_Casserini_H2O2_02  \\\n",
       "0                                           2.019793                         \n",
       "1                                           2.056319                         \n",
       "2                                           1.142752                         \n",
       "\n",
       "   Total_IDS_Detection Type_2020-07-14_MS_PG_Proteome_Davide_Casserini_H2O2_03  \\\n",
       "0                                              11119                             \n",
       "1                                              11588                             \n",
       "2                                               3341                             \n",
       "\n",
       "   ratio_Detection Type_2020-07-14_MS_PG_Proteome_Davide_Casserini_H2O2_03  \\\n",
       "0                                           1.411188                         \n",
       "1                                           1.548844                         \n",
       "2                                           0.871895                         \n",
       "\n",
       "   total_IDs  \n",
       "0        NaN  \n",
       "1        NaN  \n",
       "2    15290.0  "
      ]
     },
     "execution_count": 58,
     "metadata": {},
     "output_type": "execute_result"
    }
   ],
   "source": [
    "data"
   ]
  },
  {
   "cell_type": "code",
   "execution_count": 77,
   "metadata": {},
   "outputs": [],
   "source": [
    "dt = {\"search_engine\": [\"ionbot\", \"MSFragger\", \"X!Tandem\"]*6, \"file\": [\"Control_1\",\"Control_1\",\"Control_1\", \"Control_2\",\"Control_2\",\"Control_2\", \"Control_3\", \"Control_3\",\"Control_3\", \"H2O2_1\", \"H2O2_1\", \"H2O2_1\", \"H2O2_2\", \"H2O2_2\", \"H2O2_2\", \"H2O2_3\", \"H2O2_3\", \"H2O2_3\"], \"Total_Identifications\": [15848,17397,4108,14890,16317,3976,18368,20043,4701,8379,8842,2520,8690,9464,2711,11119,11588,3341], \"MBR_quantifications/MSMS_quantifications\" : [0.694977,0.715123,0.509981,0.800067,0.821229,0.543260,0.477352,0.500723,0.378643,2.145363,2.278331,1.305952,2.019793,2.056319,1.142752,1.411188,1.548844,0.871895]}\n",
    "df = pd.DataFrame(dt)"
   ]
  },
  {
   "cell_type": "code",
   "execution_count": 78,
   "metadata": {},
   "outputs": [
    {
     "data": {
      "text/html": [
       "<div>\n",
       "<style scoped>\n",
       "    .dataframe tbody tr th:only-of-type {\n",
       "        vertical-align: middle;\n",
       "    }\n",
       "\n",
       "    .dataframe tbody tr th {\n",
       "        vertical-align: top;\n",
       "    }\n",
       "\n",
       "    .dataframe thead th {\n",
       "        text-align: right;\n",
       "    }\n",
       "</style>\n",
       "<table border=\"1\" class=\"dataframe\">\n",
       "  <thead>\n",
       "    <tr style=\"text-align: right;\">\n",
       "      <th></th>\n",
       "      <th>search_engine</th>\n",
       "      <th>file</th>\n",
       "      <th>Total_Identifications</th>\n",
       "      <th>MBR_quantifications/MSMS_quantifications</th>\n",
       "    </tr>\n",
       "  </thead>\n",
       "  <tbody>\n",
       "    <tr>\n",
       "      <th>0</th>\n",
       "      <td>ionbot</td>\n",
       "      <td>Control_1</td>\n",
       "      <td>15848</td>\n",
       "      <td>0.694977</td>\n",
       "    </tr>\n",
       "    <tr>\n",
       "      <th>1</th>\n",
       "      <td>MSFragger</td>\n",
       "      <td>Control_1</td>\n",
       "      <td>17397</td>\n",
       "      <td>0.715123</td>\n",
       "    </tr>\n",
       "    <tr>\n",
       "      <th>2</th>\n",
       "      <td>X!Tandem</td>\n",
       "      <td>Control_1</td>\n",
       "      <td>4108</td>\n",
       "      <td>0.509981</td>\n",
       "    </tr>\n",
       "    <tr>\n",
       "      <th>3</th>\n",
       "      <td>ionbot</td>\n",
       "      <td>Control_2</td>\n",
       "      <td>14890</td>\n",
       "      <td>0.800067</td>\n",
       "    </tr>\n",
       "    <tr>\n",
       "      <th>4</th>\n",
       "      <td>MSFragger</td>\n",
       "      <td>Control_2</td>\n",
       "      <td>16317</td>\n",
       "      <td>0.821229</td>\n",
       "    </tr>\n",
       "    <tr>\n",
       "      <th>5</th>\n",
       "      <td>X!Tandem</td>\n",
       "      <td>Control_2</td>\n",
       "      <td>3976</td>\n",
       "      <td>0.543260</td>\n",
       "    </tr>\n",
       "    <tr>\n",
       "      <th>6</th>\n",
       "      <td>ionbot</td>\n",
       "      <td>Control_3</td>\n",
       "      <td>18368</td>\n",
       "      <td>0.477352</td>\n",
       "    </tr>\n",
       "    <tr>\n",
       "      <th>7</th>\n",
       "      <td>MSFragger</td>\n",
       "      <td>Control_3</td>\n",
       "      <td>20043</td>\n",
       "      <td>0.500723</td>\n",
       "    </tr>\n",
       "    <tr>\n",
       "      <th>8</th>\n",
       "      <td>X!Tandem</td>\n",
       "      <td>Control_3</td>\n",
       "      <td>4701</td>\n",
       "      <td>0.378643</td>\n",
       "    </tr>\n",
       "    <tr>\n",
       "      <th>9</th>\n",
       "      <td>ionbot</td>\n",
       "      <td>H2O2_1</td>\n",
       "      <td>8379</td>\n",
       "      <td>2.145363</td>\n",
       "    </tr>\n",
       "    <tr>\n",
       "      <th>10</th>\n",
       "      <td>MSFragger</td>\n",
       "      <td>H2O2_1</td>\n",
       "      <td>8842</td>\n",
       "      <td>2.278331</td>\n",
       "    </tr>\n",
       "    <tr>\n",
       "      <th>11</th>\n",
       "      <td>X!Tandem</td>\n",
       "      <td>H2O2_1</td>\n",
       "      <td>2520</td>\n",
       "      <td>1.305952</td>\n",
       "    </tr>\n",
       "    <tr>\n",
       "      <th>12</th>\n",
       "      <td>ionbot</td>\n",
       "      <td>H2O2_2</td>\n",
       "      <td>8690</td>\n",
       "      <td>2.019793</td>\n",
       "    </tr>\n",
       "    <tr>\n",
       "      <th>13</th>\n",
       "      <td>MSFragger</td>\n",
       "      <td>H2O2_2</td>\n",
       "      <td>9464</td>\n",
       "      <td>2.056319</td>\n",
       "    </tr>\n",
       "    <tr>\n",
       "      <th>14</th>\n",
       "      <td>X!Tandem</td>\n",
       "      <td>H2O2_2</td>\n",
       "      <td>2711</td>\n",
       "      <td>1.142752</td>\n",
       "    </tr>\n",
       "    <tr>\n",
       "      <th>15</th>\n",
       "      <td>ionbot</td>\n",
       "      <td>H2O2_3</td>\n",
       "      <td>11119</td>\n",
       "      <td>1.411188</td>\n",
       "    </tr>\n",
       "    <tr>\n",
       "      <th>16</th>\n",
       "      <td>MSFragger</td>\n",
       "      <td>H2O2_3</td>\n",
       "      <td>11588</td>\n",
       "      <td>1.548844</td>\n",
       "    </tr>\n",
       "    <tr>\n",
       "      <th>17</th>\n",
       "      <td>X!Tandem</td>\n",
       "      <td>H2O2_3</td>\n",
       "      <td>3341</td>\n",
       "      <td>0.871895</td>\n",
       "    </tr>\n",
       "  </tbody>\n",
       "</table>\n",
       "</div>"
      ],
      "text/plain": [
       "   search_engine       file  Total_Identifications  \\\n",
       "0         ionbot  Control_1                  15848   \n",
       "1      MSFragger  Control_1                  17397   \n",
       "2       X!Tandem  Control_1                   4108   \n",
       "3         ionbot  Control_2                  14890   \n",
       "4      MSFragger  Control_2                  16317   \n",
       "5       X!Tandem  Control_2                   3976   \n",
       "6         ionbot  Control_3                  18368   \n",
       "7      MSFragger  Control_3                  20043   \n",
       "8       X!Tandem  Control_3                   4701   \n",
       "9         ionbot     H2O2_1                   8379   \n",
       "10     MSFragger     H2O2_1                   8842   \n",
       "11      X!Tandem     H2O2_1                   2520   \n",
       "12        ionbot     H2O2_2                   8690   \n",
       "13     MSFragger     H2O2_2                   9464   \n",
       "14      X!Tandem     H2O2_2                   2711   \n",
       "15        ionbot     H2O2_3                  11119   \n",
       "16     MSFragger     H2O2_3                  11588   \n",
       "17      X!Tandem     H2O2_3                   3341   \n",
       "\n",
       "    MBR_quantifications/MSMS_quantifications  \n",
       "0                                   0.694977  \n",
       "1                                   0.715123  \n",
       "2                                   0.509981  \n",
       "3                                   0.800067  \n",
       "4                                   0.821229  \n",
       "5                                   0.543260  \n",
       "6                                   0.477352  \n",
       "7                                   0.500723  \n",
       "8                                   0.378643  \n",
       "9                                   2.145363  \n",
       "10                                  2.278331  \n",
       "11                                  1.305952  \n",
       "12                                  2.019793  \n",
       "13                                  2.056319  \n",
       "14                                  1.142752  \n",
       "15                                  1.411188  \n",
       "16                                  1.548844  \n",
       "17                                  0.871895  "
      ]
     },
     "execution_count": 78,
     "metadata": {},
     "output_type": "execute_result"
    }
   ],
   "source": [
    "df"
   ]
  },
  {
   "cell_type": "code",
   "execution_count": 83,
   "metadata": {},
   "outputs": [
    {
     "data": {
      "text/plain": [
       "<seaborn.axisgrid.FacetGrid at 0x7fa3dea0c0a0>"
      ]
     },
     "execution_count": 83,
     "metadata": {},
     "output_type": "execute_result"
    },
    {
     "data": {
      "text/plain": [
       "<Figure size 432x288 with 0 Axes>"
      ]
     },
     "metadata": {},
     "output_type": "display_data"
    },
    {
     "data": {
      "image/png": "[encoded data removed]",
      "text/plain": [
       "<Figure size 443.25x360 with 1 Axes>"
      ]
     },
     "metadata": {
      "needs_background": "light"
     },
     "output_type": "display_data"
    }
   ],
   "source": [
    "ax = plt.figure()\n",
    "sns.lmplot(data=df, x=\"Total_Identifications\", y=\"MBR_quantifications/MSMS_quantifications\", hue=\"file\", ci=None)"
   ]
  }
 ],
 "metadata": {
  "kernelspec": {
   "display_name": "Python 3.9.10 ('base')",
   "language": "python",
   "name": "python3"
  },
  "language_info": {
   "codemirror_mode": {
    "name": "ipython",
    "version": 3
   },
   "file_extension": ".py",
   "mimetype": "text/x-python",
   "name": "python",
   "nbconvert_exporter": "python",
   "pygments_lexer": "ipython3",
   "version": "3.9.10"
  },
  "orig_nbformat": 4,
  "vscode": {
   "interpreter": {
    "hash": "647b7bb0e2c7b48f38d1d074e96c0b89f6a9ad4582aa349d5754d73cf165f97e"
   }
  }
 },
 "nbformat": 4,
 "nbformat_minor": 2
}
