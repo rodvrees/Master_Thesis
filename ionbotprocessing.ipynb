{
 "cells": [
  {
   "cell_type": "code",
   "execution_count": 109,
   "metadata": {},
   "outputs": [],
   "source": [
    "import pandas as pd\n",
    "import os\n",
    "from pathlib import Path\n",
    "import re"
   ]
  },
  {
   "cell_type": "code",
   "execution_count": 110,
   "metadata": {},
   "outputs": [],
   "source": [
    "#inputs\n",
    "inputdir = input(\"Directory: \")\n",
    "organism = input(\"Organism (capitalize first lettter): \")\n",
    "cell_line = input(\"Cell line: \")\n",
    "oxidant = input(\"Oxidant (if none: type None): \")\n",
    "ox_dose = input(\"Oxidant dose in µM (if none, enter 0): \")\n",
    "treatment = input(\"Secondary treatment (if none: type None): \")\n",
    "treatment_dose = input(\"Secondary treatment dose in µM (if none, enter 0): \")\n",
    "time_ox = input(\"Length of oxidant treatment in minutes (if none, enter 0): \")\n",
    "time_tr = input(\"Length of secondary treatment in minutes (if none, enter 0): \")\n",
    "extra = input(\"Extra notes? (if none: press enter)\")"
   ]
  },
  {
   "cell_type": "code",
   "execution_count": 111,
   "metadata": {},
   "outputs": [
    {
     "name": "stdout",
     "output_type": "stream",
     "text": [
      "The metadata for the result files of /home/robbe/ionbot/ionbot_0.9.5/PXD018549/ionbot_files/qe2_192801_P19-UCh_06_DW29_3_Top1_NoIodo are the following:\n",
      "The organism is Human.\n",
      "The cell line is A549.\n",
      "The oxidant treatment is None.\n",
      "The None dose is 0 µM.\n",
      "The secondary treatment is None.\n",
      "The None dose is 0 µM.\n",
      "The length of oxidant treatment is 0 minutes.\n",
      "The length of secondary treatment is 0 minutes.\n",
      "Extra notes: Top1 was incubated with 200 µM HNE.\n"
     ]
    }
   ],
   "source": [
    "multiline_str = \"\"\"The metadata for the result files of {} are the following:\n",
    "The organism is {}.\n",
    "The cell line is {}.\n",
    "The oxidant treatment is {}.\n",
    "The {} dose is {} µM.\n",
    "The secondary treatment is {}.\n",
    "The {} dose is {} µM.\n",
    "The length of oxidant treatment is {} minutes.\n",
    "The length of secondary treatment is {} minutes.\n",
    "Extra notes: {}.\"\"\".format(inputdir, organism, cell_line, oxidant, oxidant, ox_dose, treatment, treatment, treatment_dose, time_ox, time_tr, extra)\n",
    "print(multiline_str)"
   ]
  },
  {
   "cell_type": "code",
   "execution_count": 112,
   "metadata": {},
   "outputs": [
    {
     "name": "stdout",
     "output_type": "stream",
     "text": [
      "The file name is: qe2_192801_P19-UCh_06_DW29_3_Top1_NoIodo\n",
      "The PRIDE accession is 018549\n"
     ]
    }
   ],
   "source": [
    "txt = inputdir\n",
    "x = re.findall(\".*\\/\",txt)\n",
    "file_name = inputdir.removeprefix(x[0])\n",
    "print(\"The file name is: {}\".format(file_name))\n",
    "y = re.compile('PXD([0-9]*)') \n",
    "accession = y.findall(inputdir)[0]\n",
    "print(\"The PRIDE accession is {}\".format(accession))"
   ]
  },
  {
   "cell_type": "code",
   "execution_count": 113,
   "metadata": {},
   "outputs": [],
   "source": [
    "os.chdir('/home/robbe/ionbot/Processed_ionbot_files')\n",
    "wd = os.getcwd()\n",
    "pth = os.path.join(wd, \"PXD{}\".format(accession))\n",
    "if os.path.exists(pth):\n",
    "    os.chdir(pth)\n",
    "else:\n",
    "    os.mkdir(pth)\n",
    "    os.chdir(pth)"
   ]
  },
  {
   "cell_type": "code",
   "execution_count": 114,
   "metadata": {},
   "outputs": [],
   "source": [
    "from cmath import nan\n",
    "\n",
    "ionbot_first = pd.read_csv(Path(\"{}/ionbot.first.csv\".format(inputdir)))\n",
    "ionbot_first_proteins = pd.read_csv(Path(\"{}/ionbot.first.proteins.csv\".format(inputdir)))\n",
    "ionbot_lower = pd.read_csv(Path(\"{}/ionbot.lower.csv\".format(inputdir)))\n",
    "ionbot_modifications = pd.read_csv(Path(\"{}/ionbot.modifications.csv\".format(inputdir)))\n",
    "ionbot_coeluting_proteins = pd.read_csv(Path(\"{}/ionbot.coeluting.proteins.csv\".format(inputdir)))\n",
    "files = [ionbot_first, ionbot_first_proteins, ionbot_lower, ionbot_modifications, ionbot_coeluting_proteins]\n",
    "for i in files:\n",
    "    if i.all == ionbot_first.all:\n",
    "        name = \"ionbot_first\"\n",
    "    elif i.all == ionbot_first_proteins.all:\n",
    "        name = \"ionbot_first_proteins\"\n",
    "    elif i.all == ionbot_lower.all:\n",
    "        name = \"ionbot_lower\"\n",
    "    elif i.all == ionbot_modifications.all:\n",
    "        name = \"ionbot_modifications\"\n",
    "    elif i.all == ionbot_coeluting_proteins.all:\n",
    "        name = \"ionbot_coeluting_proteins\"\n",
    "    copy_df = i.copy()\n",
    "    copy_df['Accession'] = accession\n",
    "    copy_df['spectrum_file'] = file_name\n",
    "    copy_df['Organism'] = organism\n",
    "    copy_df['Cell line'] = cell_line\n",
    "    if oxidant != \"\":\n",
    "        copy_df['Oxidant treatment'] = oxidant\n",
    "    else:\n",
    "        copy_df['Oxidant treatment'] = nan\n",
    "    copy_df['Oxidant dose (µM)'] = ox_dose\n",
    "    if treatment != \"\":\n",
    "        copy_df['Secondary treatment'] = treatment\n",
    "    else: \n",
    "        copy_df['Secondary treatment'] = nan\n",
    "    copy_df['Secondary treatment dose (µM)'] = treatment_dose\n",
    "    copy_df['Length of oxidant treatment (mins)'] = time_ox\n",
    "    copy_df['Length of Secondary treatment (mins)'] = time_tr\n",
    "    if extra != \"\":\n",
    "        copy_df['Notes'] = extra \n",
    "    else: \n",
    "        copy_df['Notes'] = nan\n",
    "    if i.all in [ionbot_first.all, ionbot_first_proteins.all]:\n",
    "        copy_df['First/Lower/Coeluting'] = \"First\"\n",
    "    elif i.all == ionbot_lower.all:\n",
    "        copy_df['First/Lower/Coeluting'] = \"Lower\"\n",
    "    elif i.all == ionbot_coeluting_proteins.all:\n",
    "        copy_df['First/Lower/Coeluting'] = \"Coeluting\"\n",
    "    if i.all in [ionbot_first.all, ionbot_lower.all]:\n",
    "        copy_df = copy_df[copy_df['database'] != 'D']\n",
    "    copy_df.to_csv(\"{}{}.csv\".format(file_name,name))\n",
    "    \n",
    "    \n",
    "    \n",
    "    "
   ]
  }
 ],
 "metadata": {
  "kernelspec": {
   "display_name": "Python 3.9.2 64-bit",
   "language": "python",
   "name": "python3"
  },
  "language_info": {
   "codemirror_mode": {
    "name": "ipython",
    "version": 3
   },
   "file_extension": ".py",
   "mimetype": "text/x-python",
   "name": "python",
   "nbconvert_exporter": "python",
   "pygments_lexer": "ipython3",
   "version": "3.9.2"
  },
  "orig_nbformat": 4,
  "vscode": {
   "interpreter": {
    "hash": "e7370f93d1d0cde622a1f8e1c04877d8463912d04d973331ad4851f04de6915a"
   }
  }
 },
 "nbformat": 4,
 "nbformat_minor": 2
}
