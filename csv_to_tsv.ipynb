{
 "cells": [
  {
   "cell_type": "code",
   "execution_count": 2,
   "metadata": {},
   "outputs": [],
   "source": [
    "import pandas as pd"
   ]
  },
  {
   "cell_type": "code",
   "execution_count": 7,
   "metadata": {},
   "outputs": [
    {
     "data": {
      "text/html": [
       "<div>\n",
       "<style scoped>\n",
       "    .dataframe tbody tr th:only-of-type {\n",
       "        vertical-align: middle;\n",
       "    }\n",
       "\n",
       "    .dataframe tbody tr th {\n",
       "        vertical-align: top;\n",
       "    }\n",
       "\n",
       "    .dataframe thead th {\n",
       "        text-align: right;\n",
       "    }\n",
       "</style>\n",
       "<table border=\"1\" class=\"dataframe\">\n",
       "  <thead>\n",
       "    <tr style=\"text-align: right;\">\n",
       "      <th></th>\n",
       "      <th>Filename</th>\n",
       "      <th>Condition</th>\n",
       "      <th>Biorep</th>\n",
       "      <th>Fraction</th>\n",
       "      <th>Techrep</th>\n",
       "    </tr>\n",
       "  </thead>\n",
       "  <tbody>\n",
       "    <tr>\n",
       "      <th>0</th>\n",
       "      <td>20200828_1_5ug_testis_bellamo</td>\n",
       "      <td>Young</td>\n",
       "      <td>1</td>\n",
       "      <td>1</td>\n",
       "      <td>1</td>\n",
       "    </tr>\n",
       "    <tr>\n",
       "      <th>1</th>\n",
       "      <td>20200828_1_5ug_testis_bendix</td>\n",
       "      <td>Young</td>\n",
       "      <td>2</td>\n",
       "      <td>1</td>\n",
       "      <td>1</td>\n",
       "    </tr>\n",
       "    <tr>\n",
       "      <th>2</th>\n",
       "      <td>20200828_1_5ug_testis_ilineus</td>\n",
       "      <td>Young</td>\n",
       "      <td>3</td>\n",
       "      <td>1</td>\n",
       "      <td>1</td>\n",
       "    </tr>\n",
       "    <tr>\n",
       "      <th>3</th>\n",
       "      <td>20200828_1_5ug_testis_ingwar</td>\n",
       "      <td>Old</td>\n",
       "      <td>1</td>\n",
       "      <td>1</td>\n",
       "      <td>1</td>\n",
       "    </tr>\n",
       "    <tr>\n",
       "      <th>4</th>\n",
       "      <td>20200828_1_5ug_testis_kalonso</td>\n",
       "      <td>Young</td>\n",
       "      <td>4</td>\n",
       "      <td>1</td>\n",
       "      <td>1</td>\n",
       "    </tr>\n",
       "    <tr>\n",
       "      <th>5</th>\n",
       "      <td>20200828_1_5ug_testis_obelisk</td>\n",
       "      <td>Old</td>\n",
       "      <td>2</td>\n",
       "      <td>1</td>\n",
       "      <td>1</td>\n",
       "    </tr>\n",
       "    <tr>\n",
       "      <th>6</th>\n",
       "      <td>20200828_1_5ug_testis_primat</td>\n",
       "      <td>Young</td>\n",
       "      <td>5</td>\n",
       "      <td>1</td>\n",
       "      <td>1</td>\n",
       "    </tr>\n",
       "    <tr>\n",
       "      <th>7</th>\n",
       "      <td>20200828_1_5ug_testis_timon</td>\n",
       "      <td>Old</td>\n",
       "      <td>3</td>\n",
       "      <td>1</td>\n",
       "      <td>1</td>\n",
       "    </tr>\n",
       "    <tr>\n",
       "      <th>8</th>\n",
       "      <td>20200828_1_5ug_testis_vitali</td>\n",
       "      <td>Young</td>\n",
       "      <td>6</td>\n",
       "      <td>1</td>\n",
       "      <td>1</td>\n",
       "    </tr>\n",
       "    <tr>\n",
       "      <th>9</th>\n",
       "      <td>20200828_1_5ug_testis_wonny</td>\n",
       "      <td>Old</td>\n",
       "      <td>4</td>\n",
       "      <td>1</td>\n",
       "      <td>1</td>\n",
       "    </tr>\n",
       "  </tbody>\n",
       "</table>\n",
       "</div>"
      ],
      "text/plain": [
       "                        Filename Condition  Biorep  Fraction  Techrep\n",
       "0  20200828_1_5ug_testis_bellamo     Young       1         1        1\n",
       "1   20200828_1_5ug_testis_bendix     Young       2         1        1\n",
       "2  20200828_1_5ug_testis_ilineus     Young       3         1        1\n",
       "3   20200828_1_5ug_testis_ingwar       Old       1         1        1\n",
       "4  20200828_1_5ug_testis_kalonso     Young       4         1        1\n",
       "5  20200828_1_5ug_testis_obelisk       Old       2         1        1\n",
       "6   20200828_1_5ug_testis_primat     Young       5         1        1\n",
       "7    20200828_1_5ug_testis_timon       Old       3         1        1\n",
       "8   20200828_1_5ug_testis_vitali     Young       6         1        1\n",
       "9    20200828_1_5ug_testis_wonny       Old       4         1        1"
      ]
     },
     "execution_count": 7,
     "metadata": {},
     "output_type": "execute_result"
    }
   ],
   "source": [
    "csv = pd.read_csv(\"/home/robbe/ionbot/ionbot_0.9.5/PXD024844/quant/ExperimentalDesign.csv\", sep=\";\")\n",
    "csv"
   ]
  },
  {
   "cell_type": "code",
   "execution_count": 8,
   "metadata": {},
   "outputs": [],
   "source": [
    "csv.to_csv(\"ExperimentalDesign.tsv\", sep=\"\\t\")"
   ]
  }
 ],
 "metadata": {
  "kernelspec": {
   "display_name": "Python 3.9.10 ('base')",
   "language": "python",
   "name": "python3"
  },
  "language_info": {
   "codemirror_mode": {
    "name": "ipython",
    "version": 3
   },
   "file_extension": ".py",
   "mimetype": "text/x-python",
   "name": "python",
   "nbconvert_exporter": "python",
   "pygments_lexer": "ipython3",
   "version": "3.9.10"
  },
  "orig_nbformat": 4,
  "vscode": {
   "interpreter": {
    "hash": "647b7bb0e2c7b48f38d1d074e96c0b89f6a9ad4582aa349d5754d73cf165f97e"
   }
  }
 },
 "nbformat": 4,
 "nbformat_minor": 2
}
