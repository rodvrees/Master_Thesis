{
 "cells": [
  {
   "cell_type": "code",
   "execution_count": 5,
   "metadata": {},
   "outputs": [
    {
     "name": "stdout",
     "output_type": "stream",
     "text": [
      "['FQNAI[35]OxidationIVR', 'VVAQGVGIPEDSIFTMADR', 'F[425]DioxidationQNAIIVR', 'MTVSTIVIGE[35]OxidationGATEAEISMTSTR', 'I[425]DioxidationVNEVTEFAK', 'KVPQV[425]DioxidationSTPTIVEVSR', 'KVPQVSTPTI[425]DioxidationVEVSR', 'KVPQVSTP[359]Pro->pyro-GluTIVEVSR', 'TVAAPSVFIFPPS[35]OxidationDEQIK', 'KVPQVSTPT[35]OxidationIVEVSR', 'RDPPQYP[425]DioxidationVVPVHIDR', 'NYISQYSEIAIQMMMHMQPK', 'SIHTIF[35]OxidationGDK', 'NYISQYSEIAIQMM[35]oxidationMHMQPK', 'AGFSW[421]SulfideIEVTFK', '']\n"
     ]
    }
   ],
   "source": [
    "# opening the file in read mode\n",
    "my_file = open(\"diffoxPXD012477.txt\", \"r\")\n",
    "  \n",
    "# reading the file\n",
    "data = my_file.read()\n",
    "  \n",
    "# replacing end of line('/n') with ' ' and\n",
    "# splitting the text it further when '.' is seen.\n",
    "data_into_list = data.split(\"\\n\")\n",
    "  \n",
    "# printing the data\n",
    "print(data_into_list)\n",
    "my_file.close()"
   ]
  }
 ],
 "metadata": {
  "kernelspec": {
   "display_name": "Python 3.9.10 ('base')",
   "language": "python",
   "name": "python3"
  },
  "language_info": {
   "codemirror_mode": {
    "name": "ipython",
    "version": 3
   },
   "file_extension": ".py",
   "mimetype": "text/x-python",
   "name": "python",
   "nbconvert_exporter": "python",
   "pygments_lexer": "ipython3",
   "version": "3.9.10"
  },
  "orig_nbformat": 4,
  "vscode": {
   "interpreter": {
    "hash": "647b7bb0e2c7b48f38d1d074e96c0b89f6a9ad4582aa349d5754d73cf165f97e"
   }
  }
 },
 "nbformat": 4,
 "nbformat_minor": 2
}
